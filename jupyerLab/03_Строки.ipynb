{
 "cells": [
  {
   "cell_type": "markdown",
   "metadata": {
    "id": "FW8RGKVQZIyn"
   },
   "source": [
    "# Строки (Strings)\n",
    "\n",
    "В этом разделе мы познакомимся с **строками** — одним из ключевых типов данных в Python.\n",
    "\n",
    "Строка (тип `str`) — это последовательность символов, заключённых в кавычки.  \n",
    "В Python можно использовать как одинарные `'`, так и двойные `\"` кавычки для создания строк."
   ]
  },
  {
   "cell_type": "markdown",
   "metadata": {
    "id": "ZfozftgsZIyo"
   },
   "source": [
    "## Введение в строки\n",
    "\n",
    "Строки в Python используются для хранения текстовой информации — например, имён, сообщений, названий и других текстовых данных.\n",
    "\n",
    "Важно: **строка в Python — это последовательность символов**.  \n",
    "Это значит, что Python \"понимает\" строку как набор символов, расположенных в определённом порядке.\n",
    "\n",
    "Например, строка `\"hello\"` воспринимается как последовательность из пяти букв.  \n",
    "Благодаря этому мы можем обращаться к отдельным символам по индексу — например, получить первую или последнюю букву строки.\n",
    "\n",
    "⚠️ Понятие \"последовательность\" (sequence) играет важную роль в Python, и мы будем к нему неоднократно возвращаться позже.\n",
    "\n",
    "---\n",
    "\n",
    "В этом разделе мы рассмотрим:\n",
    "\n",
    "1. Как создавать строки  \n",
    "2. Как правильно выводить строки на экран  \n",
    "3. Индексацию и срезы строк  \n",
    "4. Свойства строк  \n",
    "5. Основные методы для работы со строками  \n",
    "6. Форматирование вывода с использованием строк\n"
   ]
  },
  {
   "cell_type": "markdown",
   "metadata": {
    "id": "FxZ1hS7BZIyo"
   },
   "source": [
    "## Создание строки\n",
    "\n",
    "Чтобы создать строку в Python, нужно использовать **одинарные** (`'`) или **двойные** (`\"`) кавычки.\n",
    "\n",
    "Оба варианта допустимы:"
   ]
  },
  {
   "cell_type": "code",
   "execution_count": 1,
   "metadata": {
    "colab": {
     "base_uri": "https://localhost:8080/",
     "height": 35
    },
    "executionInfo": {
     "elapsed": 329,
     "status": "ok",
     "timestamp": 1748629031825,
     "user": {
      "displayName": "Валерий",
      "userId": "08227819820540577430"
     },
     "user_tz": -180
    },
    "id": "gKl4HyT4ZIyo",
    "outputId": "ebde2849-044a-40bd-dc33-b8c7724838fa"
   },
   "outputs": [
    {
     "data": {
      "application/vnd.google.colaboratory.intrinsic+json": {
       "type": "string"
      },
      "text/plain": [
       "'hello'"
      ]
     },
     "execution_count": 1,
     "metadata": {},
     "output_type": "execute_result"
    }
   ],
   "source": [
    "# Одно слово\n",
    "'hello'"
   ]
  },
  {
   "cell_type": "code",
   "execution_count": 2,
   "metadata": {
    "colab": {
     "base_uri": "https://localhost:8080/",
     "height": 35
    },
    "executionInfo": {
     "elapsed": 6,
     "status": "ok",
     "timestamp": 1748629032845,
     "user": {
      "displayName": "Валерий",
      "userId": "08227819820540577430"
     },
     "user_tz": -180
    },
    "id": "1u5JLaENZIyp",
    "outputId": "5ad7ca68-fdf6-42ba-a8fa-ff7775b8ebab"
   },
   "outputs": [
    {
     "data": {
      "application/vnd.google.colaboratory.intrinsic+json": {
       "type": "string"
      },
      "text/plain": [
       "'Это тоже строка'"
      ]
     },
     "execution_count": 2,
     "metadata": {},
     "output_type": "execute_result"
    }
   ],
   "source": [
    "# Целая фраза\n",
    "'Это тоже строка'"
   ]
  },
  {
   "cell_type": "code",
   "execution_count": 3,
   "metadata": {
    "colab": {
     "base_uri": "https://localhost:8080/",
     "height": 35
    },
    "executionInfo": {
     "elapsed": 4,
     "status": "ok",
     "timestamp": 1748629032845,
     "user": {
      "displayName": "Валерий",
      "userId": "08227819820540577430"
     },
     "user_tz": -180
    },
    "id": "Yifv5WGtZIyp",
    "outputId": "1ea36281-c661-4ad7-b375-ec9c9777ae3b"
   },
   "outputs": [
    {
     "data": {
      "application/vnd.google.colaboratory.intrinsic+json": {
       "type": "string"
      },
      "text/plain": [
       "'Строка, созданная с помощью двойных кавычек'"
      ]
     },
     "execution_count": 3,
     "metadata": {},
     "output_type": "execute_result"
    }
   ],
   "source": [
    "# Строка с использованием двойных кавычек\n",
    "\"Строка, созданная с помощью двойных кавычек\""
   ]
  },
  {
   "cell_type": "code",
   "execution_count": 6,
   "metadata": {
    "colab": {
     "base_uri": "https://localhost:8080/",
     "height": 106
    },
    "executionInfo": {
     "elapsed": 444,
     "status": "error",
     "timestamp": 1748629112096,
     "user": {
      "displayName": "Валерий",
      "userId": "08227819820540577430"
     },
     "user_tz": -180
    },
    "id": "vEGJOVpXZIyq",
    "outputId": "92afe1a6-4058-4a4c-88a4-4719149276b5"
   },
   "outputs": [
    {
     "ename": "SyntaxError",
     "evalue": "unterminated string literal (detected at line 3) (<ipython-input-6-747b5a2262dd>, line 3)",
     "output_type": "error",
     "traceback": [
      "\u001b[0;36m  File \u001b[0;32m\"<ipython-input-6-747b5a2262dd>\"\u001b[0;36m, line \u001b[0;32m3\u001b[0m\n\u001b[0;31m    'I'm using single quotes, but this will create an error'\u001b[0m\n\u001b[0m                                                           ^\u001b[0m\n\u001b[0;31mSyntaxError\u001b[0m\u001b[0;31m:\u001b[0m unterminated string literal (detected at line 3)\n"
     ]
    }
   ],
   "source": [
    "# Будьте осторожны с кавычками!\n",
    "\n",
    "'I'm using single quotes, but this will create an error'"
   ]
  },
  {
   "cell_type": "markdown",
   "metadata": {
    "id": "w7IFCIb2ZIyq"
   },
   "source": [
    "Причина ошибки в том, что апостроф (') в слове I'm воспринимается Python как конец строки,\n",
    "а остальная часть остаётся нераспознанной."
   ]
  },
  {
   "cell_type": "code",
   "execution_count": 7,
   "metadata": {
    "colab": {
     "base_uri": "https://localhost:8080/",
     "height": 35
    },
    "executionInfo": {
     "elapsed": 457,
     "status": "ok",
     "timestamp": 1748629114321,
     "user": {
      "displayName": "Валерий",
      "userId": "08227819820540577430"
     },
     "user_tz": -180
    },
    "id": "snF3a2LeZIyq",
    "outputId": "b22ff1f8-8e86-45db-a76d-93489fd7f731"
   },
   "outputs": [
    {
     "data": {
      "application/vnd.google.colaboratory.intrinsic+json": {
       "type": "string"
      },
      "text/plain": [
       "\"Now I'm ready to use the single quotes inside a string!\""
      ]
     },
     "execution_count": 7,
     "metadata": {},
     "output_type": "execute_result"
    }
   ],
   "source": [
    "# Теперь, используя двойные кавычки, мы можем спокойно вставлять апострофы внутрь строки:\n",
    "\n",
    "\n",
    "\"Now I'm ready to use the single quotes inside a string!\""
   ]
  },
  {
   "cell_type": "markdown",
   "metadata": {
    "id": "i7AfQW7oZIyq"
   },
   "source": [
    "## Печать строк в Python\n",
    "\n",
    "Теперь давайте научимся **выводить строки на экран** с помощью функции `print()`.\n",
    "\n",
    "Это базовый, но очень важный навык — он поможет вам проверять, что происходит в коде,  \n",
    "отслеживать переменные и работать с результатами вычислений.\n",
    "\n",
    "Перейдём к примерам!"
   ]
  },
  {
   "cell_type": "markdown",
   "metadata": {
    "id": "9tvPxmCiZIyq"
   },
   "source": [
    "## Вывод строки (печать)\n",
    "\n",
    "В Jupyter Notebook, если просто написать строку в ячейке, она автоматически отобразится как вывод:\n"
   ]
  },
  {
   "cell_type": "code",
   "execution_count": 8,
   "metadata": {
    "colab": {
     "base_uri": "https://localhost:8080/",
     "height": 35
    },
    "executionInfo": {
     "elapsed": 4,
     "status": "ok",
     "timestamp": 1748629171193,
     "user": {
      "displayName": "Валерий",
      "userId": "08227819820540577430"
     },
     "user_tz": -180
    },
    "id": "ZkO7CLlLZIyq",
    "outputId": "77173c30-43d6-4453-d036-bacbfc0bd317"
   },
   "outputs": [
    {
     "data": {
      "application/vnd.google.colaboratory.intrinsic+json": {
       "type": "string"
      },
      "text/plain": [
       "'Hello World'"
      ]
     },
     "execution_count": 8,
     "metadata": {},
     "output_type": "execute_result"
    }
   ],
   "source": [
    "# Объявление строки\n",
    "# Можно просто создать строку, присвоив её переменной:\n",
    "'Hello World'"
   ]
  },
  {
   "cell_type": "code",
   "execution_count": 9,
   "metadata": {
    "colab": {
     "base_uri": "https://localhost:8080/",
     "height": 35
    },
    "executionInfo": {
     "elapsed": 4,
     "status": "ok",
     "timestamp": 1748629195836,
     "user": {
      "displayName": "Валерий",
      "userId": "08227819820540577430"
     },
     "user_tz": -180
    },
    "id": "yfkPa168ZIyr",
    "outputId": "d105e51d-26a8-4e36-c736-efa83a31e8c0"
   },
   "outputs": [
    {
     "data": {
      "application/vnd.google.colaboratory.intrinsic+json": {
       "type": "string"
      },
      "text/plain": [
       "'Hello World 2'"
      ]
     },
     "execution_count": 9,
     "metadata": {},
     "output_type": "execute_result"
    }
   ],
   "source": [
    "# Обратите внимание: так не сработает\n",
    "# Если в ячейке Jupyter подряд указать несколько строк, отобразится только последняя:\n",
    "\n",
    "'Hello World 1'\n",
    "'Hello World 2'"
   ]
  },
  {
   "cell_type": "markdown",
   "metadata": {
    "id": "P6v9KMBgZIyr"
   },
   "source": [
    "Мы можем использовать функцию `print()`, чтобы вывести строку на экран:"
   ]
  },
  {
   "cell_type": "code",
   "execution_count": null,
   "metadata": {
    "id": "InXOhiIlZIyr",
    "outputId": "ab191827-6e1c-4215-aeac-e25253400816"
   },
   "outputs": [
    {
     "name": "stdout",
     "output_type": "stream",
     "text": [
      "Hello World 1\n",
      "Hello World 2\n",
      "Use \n",
      " to print a new line\n",
      "\n",
      "\n",
      "See what I mean?\n"
     ]
    }
   ],
   "source": [
    "print('Hello World 1')\n",
    "print('Hello World 2')\n",
    "print('Use \\n to print a new line')\n",
    "print('\\n')\n",
    "print('See what I mean?')"
   ]
  },
  {
   "cell_type": "markdown",
   "metadata": {
    "id": "8iTRcUxsbMZV"
   },
   "source": [
    "Объяснение:\n",
    "\n",
    "print() — позволяет выводить несколько строк последовательно\n",
    "\n",
    "\\n — это специальный символ переноса строки\n",
    "\n",
    "Пустой print('\\n') выведет просто пустую строку между выводами"
   ]
  },
  {
   "cell_type": "markdown",
   "metadata": {
    "id": "EIdVggZ7ZIyr"
   },
   "source": [
    "## Основы работы со строками\n",
    "\n",
    "Строки — это упорядоченные последовательности символов.  \n",
    "Python рассматривает строку как набор символов, расположенных по индексам.\n",
    "\n",
    "Это значит, что к символам строки можно обращаться по позициям, извлекать подстроки, проверять длину и выполнять множество операций.\n"
   ]
  },
  {
   "cell_type": "markdown",
   "metadata": {
    "id": "4qNWY9qbZIyr"
   },
   "source": [
    "Мы также можем использовать встроенную функцию `len()` для определения длины строки.\n"
   ]
  },
  {
   "cell_type": "code",
   "execution_count": 10,
   "metadata": {
    "colab": {
     "base_uri": "https://localhost:8080/"
    },
    "executionInfo": {
     "elapsed": 3,
     "status": "ok",
     "timestamp": 1748629284224,
     "user": {
      "displayName": "Валерий",
      "userId": "08227819820540577430"
     },
     "user_tz": -180
    },
    "id": "K79g0HmoZIyr",
    "outputId": "465370aa-43a8-4447-c73b-fc3a82e715cc"
   },
   "outputs": [
    {
     "data": {
      "text/plain": [
       "11"
      ]
     },
     "execution_count": 10,
     "metadata": {},
     "output_type": "execute_result"
    }
   ],
   "source": [
    "len('Hello World')"
   ]
  },
  {
   "cell_type": "markdown",
   "metadata": {
    "id": "QoLugrNNZIyr"
   },
   "source": [
    "Функция `len()` считает **все символы** в строке, включая:\n",
    "\n",
    "- буквы и цифры  \n",
    "- пробелы  \n",
    "- знаки препинания  \n",
    "- спецсимволы  \n"
   ]
  },
  {
   "cell_type": "markdown",
   "metadata": {
    "id": "mWaZFMqTZIyr"
   },
   "source": [
    "## Индексация строк\n",
    "\n",
    "Строки — это **последовательности**, а значит, Python позволяет обращаться к отдельным символам по **индексам**.\n",
    "\n",
    "Индексация в Python начинается с **нуля**.\n",
    "\n",
    "Для получения символа по индексу используется **синтаксис с квадратными скобками `[]`** после имени строки.\n"
   ]
  },
  {
   "cell_type": "code",
   "execution_count": 11,
   "metadata": {
    "collapsed": true,
    "executionInfo": {
     "elapsed": 301,
     "status": "ok",
     "timestamp": 1748629362073,
     "user": {
      "displayName": "Валерий",
      "userId": "08227819820540577430"
     },
     "user_tz": -180
    },
    "id": "htz_ZCNsZIyr",
    "jupyter": {
     "outputs_hidden": true
    }
   },
   "outputs": [],
   "source": [
    "# Присвоим переменной строку\n",
    "# Создадим строку и сохраним её в переменную `s`:\n",
    "s = 'Hello World'"
   ]
  },
  {
   "cell_type": "markdown",
   "metadata": {
    "id": "Y_cGkq5kbruY"
   },
   "source": [
    "Теперь переменная s содержит строку \"Hello World\" — и мы можем применять к ней индексацию, срезы и строковые методы."
   ]
  },
  {
   "cell_type": "code",
   "execution_count": 12,
   "metadata": {
    "colab": {
     "base_uri": "https://localhost:8080/",
     "height": 35
    },
    "executionInfo": {
     "elapsed": 6,
     "status": "ok",
     "timestamp": 1748629405366,
     "user": {
      "displayName": "Валерий",
      "userId": "08227819820540577430"
     },
     "user_tz": -180
    },
    "id": "VA265gUgZIyr",
    "outputId": "6991dc65-5ccc-4a7d-9134-fea0ff060653"
   },
   "outputs": [
    {
     "data": {
      "application/vnd.google.colaboratory.intrinsic+json": {
       "type": "string"
      },
      "text/plain": [
       "'Hello World'"
      ]
     },
     "execution_count": 12,
     "metadata": {},
     "output_type": "execute_result"
    }
   ],
   "source": [
    "# Проверим содержимое строки\n",
    "# Если просто ввести `s` в Jupyter — он выведет содержимое переменной:\n",
    "\n",
    "s"
   ]
  },
  {
   "cell_type": "code",
   "execution_count": 13,
   "metadata": {
    "colab": {
     "base_uri": "https://localhost:8080/"
    },
    "executionInfo": {
     "elapsed": 3,
     "status": "ok",
     "timestamp": 1748629435997,
     "user": {
      "displayName": "Валерий",
      "userId": "08227819820540577430"
     },
     "user_tz": -180
    },
    "id": "XBq6kk9TZIyr",
    "outputId": "8bbd7c50-7844-4b68-e291-231a4add2edd"
   },
   "outputs": [
    {
     "name": "stdout",
     "output_type": "stream",
     "text": [
      "Hello World\n"
     ]
    }
   ],
   "source": [
    "# Вывод содержимого переменной\n",
    "# С помощью функции `print()` можно вывести значение переменной `s`:\n",
    "print(s)"
   ]
  },
  {
   "cell_type": "markdown",
   "metadata": {
    "id": "hFGiSvzOZIys"
   },
   "source": [
    "Let's start indexing!"
   ]
  },
  {
   "cell_type": "code",
   "execution_count": 14,
   "metadata": {
    "colab": {
     "base_uri": "https://localhost:8080/",
     "height": 35
    },
    "executionInfo": {
     "elapsed": 5,
     "status": "ok",
     "timestamp": 1748629474409,
     "user": {
      "displayName": "Валерий",
      "userId": "08227819820540577430"
     },
     "user_tz": -180
    },
    "id": "nqV6BaBdZIys",
    "outputId": "b5ab191c-873e-4569-e053-94d62f202d56"
   },
   "outputs": [
    {
     "data": {
      "application/vnd.google.colaboratory.intrinsic+json": {
       "type": "string"
      },
      "text/plain": [
       "'H'"
      ]
     },
     "execution_count": 14,
     "metadata": {},
     "output_type": "execute_result"
    }
   ],
   "source": [
    "# Начнём индексировать строку\n",
    "# Как уже говорилось, индексация в Python начинается с **нуля**.\n",
    "# Чтобы получить **первый символ** строки `s`, используем:\n",
    "s[0]"
   ]
  },
  {
   "cell_type": "code",
   "execution_count": 15,
   "metadata": {
    "colab": {
     "base_uri": "https://localhost:8080/",
     "height": 35
    },
    "executionInfo": {
     "elapsed": 5,
     "status": "ok",
     "timestamp": 1748629476467,
     "user": {
      "displayName": "Валерий",
      "userId": "08227819820540577430"
     },
     "user_tz": -180
    },
    "id": "sS8lX2f2ZIys",
    "outputId": "653fe152-75de-4eb4-ead9-a439cfcc092c"
   },
   "outputs": [
    {
     "data": {
      "application/vnd.google.colaboratory.intrinsic+json": {
       "type": "string"
      },
      "text/plain": [
       "'e'"
      ]
     },
     "execution_count": 15,
     "metadata": {},
     "output_type": "execute_result"
    }
   ],
   "source": [
    "s[1]"
   ]
  },
  {
   "cell_type": "code",
   "execution_count": 16,
   "metadata": {
    "colab": {
     "base_uri": "https://localhost:8080/",
     "height": 35
    },
    "executionInfo": {
     "elapsed": 4,
     "status": "ok",
     "timestamp": 1748629477499,
     "user": {
      "displayName": "Валерий",
      "userId": "08227819820540577430"
     },
     "user_tz": -180
    },
    "id": "wQEqzMb0ZIys",
    "outputId": "cf2337d6-a221-4ce7-cc9f-9581e77d154d"
   },
   "outputs": [
    {
     "data": {
      "application/vnd.google.colaboratory.intrinsic+json": {
       "type": "string"
      },
      "text/plain": [
       "'l'"
      ]
     },
     "execution_count": 16,
     "metadata": {},
     "output_type": "execute_result"
    }
   ],
   "source": [
    "s[2]"
   ]
  },
  {
   "cell_type": "markdown",
   "metadata": {
    "id": "kjZOz-EEZIys"
   },
   "source": [
    "### Срезы строк (slicing)\n",
    "\n",
    "С помощью двоеточия `:` можно извлекать **подстроку** — то есть часть строки по заданным границам.\n",
    "\n",
    "Такой приём называется **срез (slice)**."
   ]
  },
  {
   "cell_type": "code",
   "execution_count": 17,
   "metadata": {
    "colab": {
     "base_uri": "https://localhost:8080/",
     "height": 35
    },
    "executionInfo": {
     "elapsed": 282,
     "status": "ok",
     "timestamp": 1748629517403,
     "user": {
      "displayName": "Валерий",
      "userId": "08227819820540577430"
     },
     "user_tz": -180
    },
    "id": "vbmwIvZEZIys",
    "outputId": "31e4f1f2-9751-4417-9b62-c9a1ef581845"
   },
   "outputs": [
    {
     "data": {
      "application/vnd.google.colaboratory.intrinsic+json": {
       "type": "string"
      },
      "text/plain": [
       "'ello World'"
      ]
     },
     "execution_count": 17,
     "metadata": {},
     "output_type": "execute_result"
    }
   ],
   "source": [
    "# Срез от заданного индекса до конца строки\n",
    "# Чтобы взять всё **начиная со второго символа и до конца строки**, используем срез с указанием только начала:\n",
    "\n",
    "s[1:]"
   ]
  },
  {
   "cell_type": "code",
   "execution_count": 18,
   "metadata": {
    "colab": {
     "base_uri": "https://localhost:8080/",
     "height": 35
    },
    "executionInfo": {
     "elapsed": 301,
     "status": "ok",
     "timestamp": 1748629540665,
     "user": {
      "displayName": "Валерий",
      "userId": "08227819820540577430"
     },
     "user_tz": -180
    },
    "id": "qjy1BcvFZIys",
    "outputId": "4dc95f24-6c18-445a-ee27-fab6bfdb0a44"
   },
   "outputs": [
    {
     "data": {
      "application/vnd.google.colaboratory.intrinsic+json": {
       "type": "string"
      },
      "text/plain": [
       "'Hello World'"
      ]
     },
     "execution_count": 18,
     "metadata": {},
     "output_type": "execute_result"
    }
   ],
   "source": [
    "# Важно: исходная строка `s` не изменяется\n",
    "# Когда вы делаете срез, Python **не изменяет** оригинальную строку `s` — он просто возвращает новую подстроку.\n",
    "\n",
    "s"
   ]
  },
  {
   "cell_type": "markdown",
   "metadata": {
    "id": "KEhmHeMNcWtu"
   },
   "source": [
    "Строки в Python — неизменяемые (immutable), то есть любые операции над ними создают новый объект, а не меняют исходный."
   ]
  },
  {
   "cell_type": "code",
   "execution_count": null,
   "metadata": {
    "id": "5SkbLDRZZIys",
    "outputId": "8b5dd3d6-1826-4484-c2f2-f5243f1cb0cc"
   },
   "outputs": [
    {
     "data": {
      "text/plain": [
       "'Hel'"
      ]
     },
     "execution_count": 18,
     "metadata": {},
     "output_type": "execute_result"
    }
   ],
   "source": [
    "# Срез до указанного индекса (не включая его)\n",
    "# Чтобы взять всё **до символа с индексом 3** (то есть первые три символа строки), используем:\n",
    "\n",
    "s[:3]"
   ]
  },
  {
   "cell_type": "markdown",
   "metadata": {
    "id": "sNJhv5pGchLU"
   },
   "source": [
    "Здесь s[:3] возвращает символы под индексами 0, 1 и 2.\n",
    "Как и в функции range(), верхняя граница не включается."
   ]
  },
  {
   "cell_type": "markdown",
   "metadata": {
    "id": "Px_K5Yg7ZIys"
   },
   "source": [
    "Обратите внимание на поведение среза выше:  \n",
    "в выражении `s[:3]` мы говорим Python:\n",
    "\n",
    "«Возьми всё **от начала** (индекс 0) **до индекса 3**, но **не включая** его».\n",
    "\n",
    "Это важная особенность Python — **верхняя граница в срезах не включается**.  \n",
    "Такое поведение характерно и для других конструкций в языке, например, `range()`.\n",
    "\n",
    "В Python часто используется принцип **«до, но не включая»** — это стоит запомнить."
   ]
  },
  {
   "cell_type": "code",
   "execution_count": 20,
   "metadata": {
    "colab": {
     "base_uri": "https://localhost:8080/",
     "height": 35
    },
    "executionInfo": {
     "elapsed": 440,
     "status": "ok",
     "timestamp": 1748629642258,
     "user": {
      "displayName": "Валерий",
      "userId": "08227819820540577430"
     },
     "user_tz": -180
    },
    "id": "3D-sSh3EZIys",
    "outputId": "eb156c4f-5656-424b-ed48-4f2f158d27ce"
   },
   "outputs": [
    {
     "data": {
      "application/vnd.google.colaboratory.intrinsic+json": {
       "type": "string"
      },
      "text/plain": [
       "'Hello World'"
      ]
     },
     "execution_count": 20,
     "metadata": {},
     "output_type": "execute_result"
    }
   ],
   "source": [
    "# Срез всей строки\n",
    "s[:]"
   ]
  },
  {
   "cell_type": "markdown",
   "metadata": {
    "id": "pjX1wvdhZIys"
   },
   "source": [
    "### Отрицательная индексация: считаем с конца\n",
    "\n",
    "В Python можно использовать **отрицательные индексы**, чтобы обращаться к символам строки **с конца**.\n"
   ]
  },
  {
   "cell_type": "code",
   "execution_count": 21,
   "metadata": {
    "colab": {
     "base_uri": "https://localhost:8080/",
     "height": 35
    },
    "executionInfo": {
     "elapsed": 321,
     "status": "ok",
     "timestamp": 1748629698557,
     "user": {
      "displayName": "Валерий",
      "userId": "08227819820540577430"
     },
     "user_tz": -180
    },
    "id": "mrdInQPLZIys",
    "outputId": "1233dfaf-9bd1-4069-f82e-d0bd71f7c49f"
   },
   "outputs": [
    {
     "data": {
      "application/vnd.google.colaboratory.intrinsic+json": {
       "type": "string"
      },
      "text/plain": [
       "'d'"
      ]
     },
     "execution_count": 21,
     "metadata": {},
     "output_type": "execute_result"
    }
   ],
   "source": [
    "# Последний символ и срез без последнего символа\n",
    "# Чтобы получить **последний символ** строки, используем индекс `-1`:\n",
    "\n",
    "s[-1]"
   ]
  },
  {
   "cell_type": "code",
   "execution_count": 22,
   "metadata": {
    "colab": {
     "base_uri": "https://localhost:8080/",
     "height": 35
    },
    "executionInfo": {
     "elapsed": 4,
     "status": "ok",
     "timestamp": 1748629712484,
     "user": {
      "displayName": "Валерий",
      "userId": "08227819820540577430"
     },
     "user_tz": -180
    },
    "id": "BO1y7oHMZIys",
    "outputId": "a08e474b-e8a7-4895-89a2-68a706168246"
   },
   "outputs": [
    {
     "data": {
      "application/vnd.google.colaboratory.intrinsic+json": {
       "type": "string"
      },
      "text/plain": [
       "'Hello Worl'"
      ]
     },
     "execution_count": 22,
     "metadata": {},
     "output_type": "execute_result"
    }
   ],
   "source": [
    "# Чтобы взять всю строку, кроме последнего символа, используем срез:\n",
    "s[:-1]"
   ]
  },
  {
   "cell_type": "markdown",
   "metadata": {
    "id": "7g9FPIp-dBKR"
   },
   "source": [
    "Здесь мы говорим Python: \"возьми всё от начала и до последнего символа, не включая его\".\n",
    "\n",
    "Полезно, когда нужно обрезать окончание строки (например, убрать символ переноса или пунктуацию)"
   ]
  },
  {
   "cell_type": "markdown",
   "metadata": {
    "id": "smRaJc0oZIys"
   },
   "source": [
    "### Срез с шагом (step slicing)\n",
    "\n",
    "В Python можно использовать **тройной синтаксис среза**: `s[start:stop:step]`  \n",
    "Это позволяет извлекать элементы строки (или другой последовательности) **через заданный шаг**.\n",
    "\n",
    "По умолчанию шаг равен `1`, но его можно изменить."
   ]
  },
  {
   "cell_type": "code",
   "execution_count": 23,
   "metadata": {
    "colab": {
     "base_uri": "https://localhost:8080/",
     "height": 35
    },
    "executionInfo": {
     "elapsed": 4,
     "status": "ok",
     "timestamp": 1748629790313,
     "user": {
      "displayName": "Валерий",
      "userId": "08227819820540577430"
     },
     "user_tz": -180
    },
    "id": "dQq9ZlqNZIys",
    "outputId": "ee874325-b30b-40db-97c7-470099225c6d"
   },
   "outputs": [
    {
     "data": {
      "application/vnd.google.colaboratory.intrinsic+json": {
       "type": "string"
      },
      "text/plain": [
       "'Hello World'"
      ]
     },
     "execution_count": 23,
     "metadata": {},
     "output_type": "execute_result"
    }
   ],
   "source": [
    "# Примеры срезов с шагом\n",
    "# Стандартный шаг — `1`:\n",
    "s[::1]"
   ]
  },
  {
   "cell_type": "code",
   "execution_count": 24,
   "metadata": {
    "colab": {
     "base_uri": "https://localhost:8080/",
     "height": 35
    },
    "executionInfo": {
     "elapsed": 4,
     "status": "ok",
     "timestamp": 1748629799296,
     "user": {
      "displayName": "Валерий",
      "userId": "08227819820540577430"
     },
     "user_tz": -180
    },
    "id": "J33KlTOEZIyv",
    "outputId": "b496cf1f-d1b4-415f-b6c4-38c9a00104d6"
   },
   "outputs": [
    {
     "data": {
      "application/vnd.google.colaboratory.intrinsic+json": {
       "type": "string"
      },
      "text/plain": [
       "'HloWrd'"
      ]
     },
     "execution_count": 24,
     "metadata": {},
     "output_type": "execute_result"
    }
   ],
   "source": [
    "# С шагом 2 — берём каждый второй символ:\n",
    "s[::2]"
   ]
  },
  {
   "cell_type": "code",
   "execution_count": 25,
   "metadata": {
    "colab": {
     "base_uri": "https://localhost:8080/",
     "height": 35
    },
    "executionInfo": {
     "elapsed": 4,
     "status": "ok",
     "timestamp": 1748629812818,
     "user": {
      "displayName": "Валерий",
      "userId": "08227819820540577430"
     },
     "user_tz": -180
    },
    "id": "pYMgXdCbZIyv",
    "outputId": "87b2d285-dc93-4568-d038-5da2dba5c77c"
   },
   "outputs": [
    {
     "data": {
      "application/vnd.google.colaboratory.intrinsic+json": {
       "type": "string"
      },
      "text/plain": [
       "'dlroW olleH'"
      ]
     },
     "execution_count": 25,
     "metadata": {},
     "output_type": "execute_result"
    }
   ],
   "source": [
    "# А теперь — трюк: переворачиваем строку с помощью отрицательного шага:\n",
    "s[::-1]"
   ]
  },
  {
   "cell_type": "markdown",
   "metadata": {
    "id": "lbO96vbddZAh"
   },
   "source": [
    "Полезно, когда нужно перевернуть слово, строку или провести быструю проверку (например, является ли слово палиндромом)."
   ]
  },
  {
   "cell_type": "markdown",
   "metadata": {
    "collapsed": true,
    "id": "cv9R7BM7ZIyw",
    "jupyter": {
     "outputs_hidden": true
    }
   },
   "source": [
    "## Свойства строк\n",
    "\n",
    "Одно из ключевых свойств строк в Python — это **иммутабельность** (неизменяемость).\n",
    "\n",
    "Это означает, что **после создания строки изменить отдельные символы в ней нельзя**.\n"
   ]
  },
  {
   "cell_type": "code",
   "execution_count": null,
   "metadata": {
    "id": "GY9mgMQ8ZIyw",
    "outputId": "ea7ed359-bd15-4d93-f9db-6edeaf6f6097"
   },
   "outputs": [
    {
     "data": {
      "text/plain": [
       "'Hello World'"
      ]
     },
     "execution_count": 25,
     "metadata": {},
     "output_type": "execute_result"
    }
   ],
   "source": [
    "s"
   ]
  },
  {
   "cell_type": "code",
   "execution_count": 26,
   "metadata": {
    "colab": {
     "base_uri": "https://localhost:8080/",
     "height": 141
    },
    "executionInfo": {
     "elapsed": 5,
     "status": "error",
     "timestamp": 1748629874766,
     "user": {
      "displayName": "Валерий",
      "userId": "08227819820540577430"
     },
     "user_tz": -180
    },
    "id": "FgireeKBZIyw",
    "outputId": "80163a7e-8c9e-45a7-9bce-db8082629c00"
   },
   "outputs": [
    {
     "ename": "TypeError",
     "evalue": "'str' object does not support item assignment",
     "output_type": "error",
     "traceback": [
      "\u001b[0;31m---------------------------------------------------------------------------\u001b[0m",
      "\u001b[0;31mTypeError\u001b[0m                                 Traceback (most recent call last)",
      "\u001b[0;32m<ipython-input-26-fa085c53b004>\u001b[0m in \u001b[0;36m<cell line: 0>\u001b[0;34m()\u001b[0m\n\u001b[0;32m----> 1\u001b[0;31m \u001b[0ms\u001b[0m\u001b[0;34m[\u001b[0m\u001b[0;36m0\u001b[0m\u001b[0;34m]\u001b[0m \u001b[0;34m=\u001b[0m \u001b[0;34m'x'\u001b[0m\u001b[0;34m\u001b[0m\u001b[0;34m\u001b[0m\u001b[0m\n\u001b[0m",
      "\u001b[0;31mTypeError\u001b[0m: 'str' object does not support item assignment"
     ]
    }
   ],
   "source": [
    "s[0] = 'x'"
   ]
  },
  {
   "cell_type": "markdown",
   "metadata": {
    "id": "eTzwJIrQdnJa"
   },
   "source": [
    "Почему так?\n",
    "Потому что строки — неизменяемый тип данных. Если нужно изменить строку — нужно создать новую строку на её основе."
   ]
  },
  {
   "cell_type": "markdown",
   "metadata": {
    "id": "YnP0DDNKZIyw"
   },
   "source": [
    "Обратите внимание: ошибка ясно указывает, что **изменение символов строки недопустимо** — то есть нельзя \"назначить новое значение элементу строки\".\n",
    "\n",
    "Но что же можно делать со строками?  \n",
    "Мы можем **объединять строки** — это называется **конкатенация**.\n"
   ]
  },
  {
   "cell_type": "code",
   "execution_count": 27,
   "metadata": {
    "colab": {
     "base_uri": "https://localhost:8080/",
     "height": 35
    },
    "executionInfo": {
     "elapsed": 278,
     "status": "ok",
     "timestamp": 1748629908215,
     "user": {
      "displayName": "Валерий",
      "userId": "08227819820540577430"
     },
     "user_tz": -180
    },
    "id": "12n50XXLZIyw",
    "outputId": "878ed1ac-8ed0-4159-df8d-93fd3da8b500"
   },
   "outputs": [
    {
     "data": {
      "application/vnd.google.colaboratory.intrinsic+json": {
       "type": "string"
      },
      "text/plain": [
       "'Hello World'"
      ]
     },
     "execution_count": 27,
     "metadata": {},
     "output_type": "execute_result"
    }
   ],
   "source": [
    "s"
   ]
  },
  {
   "cell_type": "code",
   "execution_count": 28,
   "metadata": {
    "colab": {
     "base_uri": "https://localhost:8080/",
     "height": 35
    },
    "executionInfo": {
     "elapsed": 4,
     "status": "ok",
     "timestamp": 1748629940033,
     "user": {
      "displayName": "Валерий",
      "userId": "08227819820540577430"
     },
     "user_tz": -180
    },
    "id": "egKg_BqBZIyw",
    "outputId": "b3c10170-9ca0-4d25-8f2b-01a714f484ef"
   },
   "outputs": [
    {
     "data": {
      "application/vnd.google.colaboratory.intrinsic+json": {
       "type": "string"
      },
      "text/plain": [
       "'Hello World concatenate me!'"
      ]
     },
     "execution_count": 28,
     "metadata": {},
     "output_type": "execute_result"
    }
   ],
   "source": [
    "# Конкатенация строк\n",
    "# Можно объединить строки с помощью оператора `+`:\n",
    "s + ' concatenate me!'"
   ]
  },
  {
   "cell_type": "code",
   "execution_count": 29,
   "metadata": {
    "collapsed": true,
    "executionInfo": {
     "elapsed": 355,
     "status": "ok",
     "timestamp": 1748629970056,
     "user": {
      "displayName": "Валерий",
      "userId": "08227819820540577430"
     },
     "user_tz": -180
    },
    "id": "6fK-6iF1ZIyw",
    "jupyter": {
     "outputs_hidden": true
    }
   },
   "outputs": [],
   "source": [
    "# Мы создали новую строку, объединив старое значение с новым, и перезаписали переменную s\n",
    "s = s + ' concatenate me!'"
   ]
  },
  {
   "cell_type": "code",
   "execution_count": 30,
   "metadata": {
    "colab": {
     "base_uri": "https://localhost:8080/"
    },
    "executionInfo": {
     "elapsed": 4,
     "status": "ok",
     "timestamp": 1748629970351,
     "user": {
      "displayName": "Валерий",
      "userId": "08227819820540577430"
     },
     "user_tz": -180
    },
    "id": "agArUVItZIyw",
    "outputId": "fa6382ee-6268-4f04-e111-56a74ac2db57"
   },
   "outputs": [
    {
     "name": "stdout",
     "output_type": "stream",
     "text": [
      "Hello World concatenate me!\n"
     ]
    }
   ],
   "source": [
    "print(s)"
   ]
  },
  {
   "cell_type": "code",
   "execution_count": 31,
   "metadata": {
    "colab": {
     "base_uri": "https://localhost:8080/",
     "height": 35
    },
    "executionInfo": {
     "elapsed": 288,
     "status": "ok",
     "timestamp": 1748629972025,
     "user": {
      "displayName": "Валерий",
      "userId": "08227819820540577430"
     },
     "user_tz": -180
    },
    "id": "FsIJ1R98ZIyw",
    "outputId": "a5a6ad12-46e5-41e6-d3ad-47c26d9ea472"
   },
   "outputs": [
    {
     "data": {
      "application/vnd.google.colaboratory.intrinsic+json": {
       "type": "string"
      },
      "text/plain": [
       "'Hello World concatenate me!'"
      ]
     },
     "execution_count": 31,
     "metadata": {},
     "output_type": "execute_result"
    }
   ],
   "source": [
    "s"
   ]
  },
  {
   "cell_type": "markdown",
   "metadata": {
    "id": "0IphGd-hZIyw"
   },
   "source": [
    "Повторение строк с помощью оператора умножения\n",
    "\n",
    "В Python можно использовать символ `*`, чтобы **повторить строку** несколько раз.\n"
   ]
  },
  {
   "cell_type": "code",
   "execution_count": 32,
   "metadata": {
    "collapsed": true,
    "executionInfo": {
     "elapsed": 316,
     "status": "ok",
     "timestamp": 1748630019916,
     "user": {
      "displayName": "Валерий",
      "userId": "08227819820540577430"
     },
     "user_tz": -180
    },
    "id": "4Q_9yf1tZIyw",
    "jupyter": {
     "outputs_hidden": true
    }
   },
   "outputs": [],
   "source": [
    "letter = 'z'"
   ]
  },
  {
   "cell_type": "code",
   "execution_count": 33,
   "metadata": {
    "colab": {
     "base_uri": "https://localhost:8080/",
     "height": 35
    },
    "executionInfo": {
     "elapsed": 3,
     "status": "ok",
     "timestamp": 1748630020795,
     "user": {
      "displayName": "Валерий",
      "userId": "08227819820540577430"
     },
     "user_tz": -180
    },
    "id": "vpAZHV99ZIyw",
    "outputId": "a4819e85-79be-455f-ab91-63e82db1d569"
   },
   "outputs": [
    {
     "data": {
      "application/vnd.google.colaboratory.intrinsic+json": {
       "type": "string"
      },
      "text/plain": [
       "'zzzzzzzzzz'"
      ]
     },
     "execution_count": 33,
     "metadata": {},
     "output_type": "execute_result"
    }
   ],
   "source": [
    "letter*10"
   ]
  },
  {
   "cell_type": "markdown",
   "metadata": {
    "id": "j0npOFvfZIyw"
   },
   "source": [
    "## Базовые встроенные методы строк\n",
    "\n",
    "В Python объекты (в том числе строки) имеют **встроенные методы** — это функции, \"встроенные\" в сам объект.  \n",
    "С помощью методов можно выполнять операции над объектом без создания дополнительного кода.\n",
    "\n",
    "Методы вызываются с помощью точки:  \n"
   ]
  },
  {
   "cell_type": "code",
   "execution_count": 34,
   "metadata": {
    "colab": {
     "base_uri": "https://localhost:8080/",
     "height": 35
    },
    "executionInfo": {
     "elapsed": 301,
     "status": "ok",
     "timestamp": 1748630060449,
     "user": {
      "displayName": "Валерий",
      "userId": "08227819820540577430"
     },
     "user_tz": -180
    },
    "id": "AUJF5e3oZIyw",
    "outputId": "3f18be39-b1d5-4cd9-8dcd-36730fb42aca"
   },
   "outputs": [
    {
     "data": {
      "application/vnd.google.colaboratory.intrinsic+json": {
       "type": "string"
      },
      "text/plain": [
       "'Hello World concatenate me!'"
      ]
     },
     "execution_count": 34,
     "metadata": {},
     "output_type": "execute_result"
    }
   ],
   "source": [
    "s"
   ]
  },
  {
   "cell_type": "code",
   "execution_count": 35,
   "metadata": {
    "colab": {
     "base_uri": "https://localhost:8080/",
     "height": 35
    },
    "executionInfo": {
     "elapsed": 4,
     "status": "ok",
     "timestamp": 1748630065518,
     "user": {
      "displayName": "Валерий",
      "userId": "08227819820540577430"
     },
     "user_tz": -180
    },
    "id": "6wa5gkgWZIyw",
    "outputId": "8b527ee6-f1f9-4f30-fc6f-da8020f186bd"
   },
   "outputs": [
    {
     "data": {
      "application/vnd.google.colaboratory.intrinsic+json": {
       "type": "string"
      },
      "text/plain": [
       "'HELLO WORLD CONCATENATE ME!'"
      ]
     },
     "execution_count": 35,
     "metadata": {},
     "output_type": "execute_result"
    }
   ],
   "source": [
    "s.upper()"
   ]
  },
  {
   "cell_type": "markdown",
   "metadata": {
    "id": "4lVeV4FseVmq"
   },
   "source": [
    "Здесь upper() — это метод строки, который возвращает новую строку в верхнем регистре: 'HELLO'.\n",
    "\n",
    "Мы позже подробно разберём, как устроены объекты и методы. Пока достаточно понять, что:\n",
    "\n",
    "методы вызываются через точку\n",
    "\n",
    "часто принимают аргументы (или нет)\n",
    "\n",
    "не изменяют исходную строку, а возвращают новую"
   ]
  },
  {
   "cell_type": "code",
   "execution_count": 36,
   "metadata": {
    "colab": {
     "base_uri": "https://localhost:8080/",
     "height": 35
    },
    "executionInfo": {
     "elapsed": 4,
     "status": "ok",
     "timestamp": 1748630134306,
     "user": {
      "displayName": "Валерий",
      "userId": "08227819820540577430"
     },
     "user_tz": -180
    },
    "id": "vqlhOAv8ZIyw",
    "outputId": "354ed9e7-574a-4936-c07d-5242499be1af"
   },
   "outputs": [
    {
     "data": {
      "application/vnd.google.colaboratory.intrinsic+json": {
       "type": "string"
      },
      "text/plain": [
       "'hello world concatenate me!'"
      ]
     },
     "execution_count": 36,
     "metadata": {},
     "output_type": "execute_result"
    }
   ],
   "source": [
    "# Примеры встроенных методов строк\n",
    "# Рассмотрим несколько часто используемых методов:\n",
    "# Метод lower() полезен при сравнении строк, когда важен текст, но не регистр.\n",
    "\n",
    "s.lower()"
   ]
  },
  {
   "cell_type": "code",
   "execution_count": 37,
   "metadata": {
    "colab": {
     "base_uri": "https://localhost:8080/"
    },
    "executionInfo": {
     "elapsed": 4,
     "status": "ok",
     "timestamp": 1748630153473,
     "user": {
      "displayName": "Валерий",
      "userId": "08227819820540577430"
     },
     "user_tz": -180
    },
    "id": "h8BujYgXZIyx",
    "outputId": "5eeb9c72-df24-4eb0-92c1-12b90690c492"
   },
   "outputs": [
    {
     "data": {
      "text/plain": [
       "['Hello', 'World', 'concatenate', 'me!']"
      ]
     },
     "execution_count": 37,
     "metadata": {},
     "output_type": "execute_result"
    }
   ],
   "source": [
    "# Разделение строки по пробелам (по умолчанию):\n",
    "# Метод split() по умолчанию разбивает строку по пробелам и возвращает список слов.\n",
    "s.split()"
   ]
  },
  {
   "cell_type": "code",
   "execution_count": 38,
   "metadata": {
    "colab": {
     "base_uri": "https://localhost:8080/"
    },
    "executionInfo": {
     "elapsed": 6,
     "status": "ok",
     "timestamp": 1748630177116,
     "user": {
      "displayName": "Валерий",
      "userId": "08227819820540577430"
     },
     "user_tz": -180
    },
    "id": "mPd9wlPKZIyx",
    "outputId": "336be1b0-9991-4135-d8f6-8683456d1d7b"
   },
   "outputs": [
    {
     "data": {
      "text/plain": [
       "['Hello ', 'orld concatenate me!']"
      ]
     },
     "execution_count": 38,
     "metadata": {},
     "output_type": "execute_result"
    }
   ],
   "source": [
    "# Разделение по конкретному символу:\n",
    "# Здесь строка разбита по символу 'W'. Сам символ-разделитель в результат не попадает.\n",
    "# Метод split() полезен для парсинга текстов, обработки логов, выделения значений из строк и т.п.\n",
    "s.split('W')"
   ]
  },
  {
   "cell_type": "markdown",
   "metadata": {
    "id": "fCoN3R3hZIyx"
   },
   "source": [
    "Это лишь малая часть доступных методов для работы со строками в Python.  \n",
    "Существует множество других полезных функций, которые позволяют:\n",
    "\n",
    "- заменять подстроки  \n",
    "- находить позиции символов  \n",
    "- проверять, начинается ли строка с определённого шаблона  \n",
    "- удалять лишние пробелы и символы  \n",
    "- форматировать строки  "
   ]
  },
  {
   "cell_type": "markdown",
   "metadata": {
    "id": "utfvOO-BZIyx"
   },
   "source": [
    "## Форматирование вывода с помощью `.format()`\n",
    "\n",
    "Для того чтобы вставлять значения внутрь строк, в Python можно использовать метод `.format()`.\n",
    "\n",
    "Это позволяет динамически подставлять переменные или выражения прямо в строку, не теряя читаемость.\n",
    "\n",
    "Самый простой способ понять — рассмотреть пример:"
   ]
  },
  {
   "cell_type": "code",
   "execution_count": 43,
   "metadata": {
    "colab": {
     "base_uri": "https://localhost:8080/",
     "height": 35
    },
    "executionInfo": {
     "elapsed": 6,
     "status": "ok",
     "timestamp": 1748630270522,
     "user": {
      "displayName": "Валерий",
      "userId": "08227819820540577430"
     },
     "user_tz": -180
    },
    "id": "zIjlcQkcZIyx",
    "outputId": "9e92db54-f7a3-4fb4-c87e-a66d441be867"
   },
   "outputs": [
    {
     "data": {
      "application/vnd.google.colaboratory.intrinsic+json": {
       "type": "string"
      },
      "text/plain": [
       "'Insert another string with curly brackets: The inserted string'"
      ]
     },
     "execution_count": 43,
     "metadata": {},
     "output_type": "execute_result"
    }
   ],
   "source": [
    "# Пример: вставка строки с помощью `.format()`\n",
    "\n",
    "'Insert another string with curly brackets: {}'.format('The inserted string')"
   ]
  },
  {
   "cell_type": "markdown",
   "metadata": {
    "id": "ZRfb3HfrZIyx"
   },
   "source": [
    "Мы ещё вернёмся к теме форматирования строк в следующих разделах,  \n",
    "особенно когда начнём **строить реальные проекты** и собирать строки из переменных, чисел и данных.\n",
    "\n",
    "Пока достаточно понимать, что метод `.format()` — это удобный и гибкий способ подстановки значений в строки.\n"
   ]
  },
  {
   "cell_type": "markdown",
   "metadata": {
    "id": "3WNAmLplZIyx"
   },
   "source": [
    "# Дальше — больше!"
   ]
  }
 ],
 "metadata": {
  "colab": {
   "provenance": []
  },
  "kernelspec": {
   "display_name": "Python 3 (ipykernel)",
   "language": "python",
   "name": "python3"
  },
  "language_info": {
   "codemirror_mode": {
    "name": "ipython",
    "version": 3
   },
   "file_extension": ".py",
   "mimetype": "text/x-python",
   "name": "python",
   "nbconvert_exporter": "python",
   "pygments_lexer": "ipython3",
   "version": "3.13.5"
  }
 },
 "nbformat": 4,
 "nbformat_minor": 4
}
