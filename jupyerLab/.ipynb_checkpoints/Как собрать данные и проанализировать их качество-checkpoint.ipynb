{
 "cells": [
  {
   "cell_type": "markdown",
   "metadata": {},
   "source": [
    "# Примеров использования базовых функции print в Jupyter Notebook:"
   ]
  },
  {
   "cell_type": "code",
   "execution_count": 70,
   "metadata": {
    "colab": {
     "base_uri": "https://localhost:8080/"
    },
    "id": "7s9RBWb7IcMV",
    "outputId": "c1635ad9-724f-482b-96dc-253476112b49"
   },
   "outputs": [
    {
     "name": "stdout",
     "output_type": "stream",
     "text": [
      "abc\n"
     ]
    }
   ],
   "source": [
    "print(\"abc\")\n",
    "\n",
    "def greet(name):\n",
    "    name = name.lower()\n",
    "    name = name[0].upper() + name[1:]\n",
    "    return \"Hello, \" + name + \"!\"\n",
    "\n",
    "sum_ = 2+1"
   ]
  },
  {
   "cell_type": "code",
   "execution_count": 71,
   "metadata": {
    "colab": {
     "base_uri": "https://localhost:8080/",
     "height": 35
    },
    "id": "inot9pOKTSTv",
    "outputId": "ae8b32dc-36d7-4c77-9bf7-a0c52485017d"
   },
   "outputs": [
    {
     "data": {
      "text/plain": [
       "'Hello, Natali!'"
      ]
     },
     "execution_count": 71,
     "metadata": {},
     "output_type": "execute_result"
    }
   ],
   "source": [
    "greet(\"naTALi\")"
   ]
  },
  {
   "cell_type": "code",
   "execution_count": 72,
   "metadata": {
    "colab": {
     "base_uri": "https://localhost:8080/"
    },
    "id": "5XueWin9H3O9",
    "outputId": "5fcd9243-82ac-43d3-8383-b895764baea6"
   },
   "outputs": [
    {
     "name": "stdout",
     "output_type": "stream",
     "text": [
      "Hello, World!\n"
     ]
    }
   ],
   "source": [
    "\n",
    "#1. Простой вывод текста:\n",
    "print(\"Hello, World!\")"
   ]
  },
  {
   "cell_type": "code",
   "execution_count": 73,
   "metadata": {
    "colab": {
     "base_uri": "https://localhost:8080/"
    },
    "id": "WYH3xA8cH8t0",
    "outputId": "caccce90-95d6-4869-ae34-72c459965245"
   },
   "outputs": [
    {
     "name": "stdout",
     "output_type": "stream",
     "text": [
      "11\n"
     ]
    }
   ],
   "source": [
    "#2. Вывод значения переменной:\n",
    "x = 11\n",
    "print(x)\n"
   ]
  },
  {
   "cell_type": "code",
   "execution_count": 74,
   "metadata": {
    "colab": {
     "base_uri": "https://localhost:8080/"
    },
    "id": "cHTln5PMIGv0",
    "outputId": "2489f4bc-a6be-474b-c105-b748318b3b9f"
   },
   "outputs": [
    {
     "name": "stdout",
     "output_type": "stream",
     "text": [
      "Name: John Age: 25\n"
     ]
    }
   ],
   "source": [
    "#3. Вывод нескольких значений:\n",
    "\n",
    "name = \"John\"\n",
    "age = 25\n",
    "print(\"Name:\", name, \"Age:\", age)\n"
   ]
  },
  {
   "cell_type": "code",
   "execution_count": 76,
   "metadata": {
    "colab": {
     "base_uri": "https://localhost:8080/"
    },
    "id": "CVZz5c48IL88",
    "outputId": "692ae003-5c73-4de0-8e21-a7fb10af7491"
   },
   "outputs": [
    {
     "name": "stdout",
     "output_type": "stream",
     "text": [
      "The value of x is 5 and the value of y is 10\n"
     ]
    }
   ],
   "source": [
    "\n",
    "#4. Форматированный вывод:\n",
    "x = 5\n",
    "y = 10\n",
    "print(\"The value of x is {} and the value of y is {}\".format(x, y))"
   ]
  },
  {
   "cell_type": "code",
   "execution_count": 77,
   "metadata": {
    "colab": {
     "base_uri": "https://localhost:8080/"
    },
    "id": "zmKdoueAIVxc",
    "outputId": "a34eb009-5f51-4193-8d94-99b59b2654df"
   },
   "outputs": [
    {
     "name": "stdout",
     "output_type": "stream",
     "text": [
      "John, Jane, Alice\n"
     ]
    }
   ],
   "source": [
    "#5. Использование разделителя:\n",
    "names = [\"John\", \"Jane\", \"Alice\"]\n",
    "print(*names, sep=\", \")\n"
   ]
  },
  {
   "cell_type": "code",
   "execution_count": 78,
   "metadata": {
    "colab": {
     "base_uri": "https://localhost:8080/"
    },
    "id": "hSfi_YMLId7m",
    "outputId": "5a8e947c-c125-4283-81e7-9cfae5e97a7b"
   },
   "outputs": [
    {
     "name": "stdout",
     "output_type": "stream",
     "text": [
      "Hello\n",
      "World\n"
     ]
    }
   ],
   "source": [
    "#6. Вывод на новой строке:\n",
    "print(\"Hello\")\n",
    "print(\"World\")"
   ]
  },
  {
   "cell_type": "code",
   "execution_count": 79,
   "metadata": {
    "colab": {
     "base_uri": "https://localhost:8080/"
    },
    "id": "qMnRGwSIImOM",
    "outputId": "4ed5e6b1-1cdf-40a6-9a1c-ff7b3d840d9d"
   },
   "outputs": [
    {
     "name": "stdout",
     "output_type": "stream",
     "text": [
      "The value of pi is 3.14\n"
     ]
    }
   ],
   "source": [
    "#7. Вывод чисел с определенным количеством знаков после запятой:\n",
    "\n",
    "pi = 3.14159265358979323846\n",
    "print(\"The value of pi is {:.2f}\".format(pi))"
   ]
  },
  {
   "cell_type": "code",
   "execution_count": 80,
   "metadata": {
    "id": "rdMyIX9IHx4e"
   },
   "outputs": [],
   "source": [
    "\n",
    "#8. Вывод в файл:\n",
    "\n",
    "with open(\"output.txt\", \"w\") as file:\n",
    "    print(\"Hello, World!\", file=file)\n",
    "\n",
    "\n",
    "#Это только некоторые примеры использования функции print в Jupyter Notebook. \n",
    "#Функция print может быть использована для вывода различных типов данных и форматирования вывода в соответствии с вашими потребностями."
   ]
  },
  {
   "cell_type": "markdown",
   "metadata": {
    "id": "hDdJ5kF8LQ3p"
   },
   "source": [
    "# Почему удобнее использовать библиотеки"
   ]
  },
  {
   "cell_type": "code",
   "execution_count": 81,
   "metadata": {},
   "outputs": [
    {
     "name": "stdout",
     "output_type": "stream",
     "text": [
      "5.0\n",
      "3.141592653589793\n"
     ]
    }
   ],
   "source": [
    "#Пример использования библиотеки math:\n",
    "\n",
    "import math\n",
    "\n",
    "# Использование функции из библиотеки math\n",
    "x = math.sqrt(25)\n",
    "print(x)\n",
    "\n",
    "# Использование константы из библиотеки math\n",
    "y = math.pi\n",
    "print(y)\n",
    "\n",
    "\n",
    "#В этом примере мы импортируем библиотеку math и используем функцию sqrt() для вычисления квадратного корня числа 25. \n",
    "#Мы также используем константу pi для вывода значения числа π.\n"
   ]
  },
  {
   "cell_type": "code",
   "execution_count": 82,
   "metadata": {},
   "outputs": [
    {
     "name": "stdout",
     "output_type": "stream",
     "text": [
      "5.0\n",
      "3.14159\n"
     ]
    }
   ],
   "source": [
    "#Пример использования без использования библиотеки в python\n",
    "# Вычисление квадратного корня без использования библиотеки\n",
    "x = 25 ** 0.5\n",
    "print(x)\n",
    "\n",
    "# Задание значения числа π без использования библиотеки\n",
    "y = 3.14159\n",
    "print(y)\n",
    "\n",
    "\n",
    "#В этом примере мы вычисляем квадратный корень числа 25 путем возведения его в степень 0.5. \n",
    "#Мы также задаем значение числа π вручную."
   ]
  },
  {
   "cell_type": "code",
   "execution_count": 13,
   "metadata": {
    "scrolled": true
   },
   "outputs": [
    {
     "name": "stdout",
     "output_type": "stream",
     "text": [
      "     Имя  Возраст            Город\n",
      "0   Анна       25           Москва\n",
      "1   Петр       30  Санкт-Петербург\n",
      "2  Мария       35           Казань\n",
      "Средний возраст: 30.0\n"
     ]
    }
   ],
   "source": [
    "#Пример использования библиотеки pandas:\n",
    "\n",
    "import pandas as pd\n",
    "\n",
    "# Создание DataFrame с помощью библиотеки pandas\n",
    "data = {'Имя': ['Анна', 'Петр', 'Мария'],\n",
    "        'Возраст': [25, 30, 35],\n",
    "        'Город': ['Москва', 'Санкт-Петербург', 'Казань']}\n",
    "df = pd.DataFrame(data)\n",
    "print(df)\n",
    "\n",
    "# Использование функций из библиотеки pandas\n",
    "mean_age = df['Возраст'].mean()\n",
    "print(\"Средний возраст:\", mean_age)\n",
    "\n",
    "\n",
    "#В этом примере мы импортируем библиотеку pandas и используем ее для создания DataFrame,\n",
    "#который представляет собой таблицу с данными. Мы также используем функцию mean() для вычисления среднего значения возраста из столбца \"Возраст\" в DataFrame."
   ]
  },
  {
   "cell_type": "code",
   "execution_count": 83,
   "metadata": {},
   "outputs": [
    {
     "name": "stdout",
     "output_type": "stream",
     "text": [
      "['Анна', 25, 'Москва']\n",
      "['Петр', 30, 'Санкт-Петербург']\n",
      "['Мария', 35, 'Казань']\n",
      "Средний возраст: 30.0\n"
     ]
    }
   ],
   "source": [
    "#Пример использования без использования библиотеки python\n",
    "# Создание списка списков для представления данных\n",
    "data = [['Анна', 25, 'Москва'],\n",
    "        ['Петр', 30, 'Санкт-Петербург'],\n",
    "        ['Мария', 35, 'Казань']]\n",
    "\n",
    "# Вывод данных в виде таблицы\n",
    "for row in data:\n",
    "    print(row)\n",
    "\n",
    "# Вычисление среднего значения возраста\n",
    "total_age = 0\n",
    "for row in data:\n",
    "    total_age += row[1]\n",
    "mean_age = total_age / len(data)\n",
    "print(\"Средний возраст:\", mean_age)\n",
    "\n",
    "\n",
    "#В этом примере мы создаем список списков, чтобы представить данные в виде таблицы. \n",
    "#Затем мы используем циклы для вывода данных в виде таблицы и вычисления среднего значения возраста путем суммирования всех возрастов и деления на количество записей в таблице."
   ]
  },
  {
   "cell_type": "markdown",
   "metadata": {
    "id": "SQACTgrwIzQ7"
   },
   "source": [
    "**Кейс**: ДВы работаете над задачей по обработке данных. Вам нужно выполнить несколько сложных математических операций, а также отфильтровать, агрегировать и визуализировать данные. Вместо того, чтобы писать все эти функции самостоятельно, вы можете использовать пакет Python, такой как **math** или **numpy**. Эти пакеты содержат готовые математические функции.  Они предоставляют функции для выполнения математических операций, таких как сложение, вычитание, умножение и деление, а также функции для работы с массивами чисел\n",
    "\n",
    "Вот пример использования функции из пакета:"
   ]
  },
  {
   "cell_type": "code",
   "execution_count": 84,
   "metadata": {
    "colab": {
     "base_uri": "https://localhost:8080/"
    },
    "id": "dBwJvkL7Ic3W",
    "outputId": "993894b0-f725-4a03-8f5e-a41e34ac408f"
   },
   "outputs": [
    {
     "name": "stdout",
     "output_type": "stream",
     "text": [
      "11.180339887498949\n"
     ]
    }
   ],
   "source": [
    "#Функция math.sqrt() возвращает квадратный корень числа. \n",
    "#Например, если мы хотим найти квадратный корень числа 125, мы можем использовать следующий код:\n",
    "\n",
    "import math\n",
    "\n",
    "result = math.sqrt(125)\n",
    "print(result) #Вывод будет равен 11,2 так как квадратный корень числа 125 равен 11.2"
   ]
  },
  {
   "cell_type": "code",
   "execution_count": 85,
   "metadata": {
    "colab": {
     "base_uri": "https://localhost:8080/"
    },
    "id": "w5Y-qvmKIc62",
    "outputId": "e48e2555-e462-4305-f5b4-474798af22e2"
   },
   "outputs": [
    {
     "name": "stdout",
     "output_type": "stream",
     "text": [
      "4.0\n"
     ]
    }
   ],
   "source": [
    "import math\n",
    "\n",
    "# Вычисляем квадратный корень числа\n",
    "sqrt_result = math.sqrt(16)\n",
    "print(sqrt_result)  # вывод: 4.0"
   ]
  },
  {
   "cell_type": "code",
   "execution_count": 86,
   "metadata": {
    "colab": {
     "base_uri": "https://localhost:8080/"
    },
    "id": "-bd_OX2-Ic9N",
    "outputId": "a1670477-5d36-4270-8505-844221e0369c"
   },
   "outputs": [
    {
     "name": "stdout",
     "output_type": "stream",
     "text": [
      "2023-08-27 13:10:19.900030\n"
     ]
    }
   ],
   "source": [
    "import datetime\n",
    "\n",
    "# Получаем текущую дату и время\n",
    "current_datetime = datetime.datetime.now()\n",
    "print(current_datetime)"
   ]
  },
  {
   "cell_type": "code",
   "execution_count": 87,
   "metadata": {},
   "outputs": [
    {
     "name": "stdout",
     "output_type": "stream",
     "text": [
      "Количество дней между 2023-01-01 и 2023-12-31 равно 364\n"
     ]
    }
   ],
   "source": [
    "import datetime\n",
    "\n",
    "# Вычисление количества дней между двумя датами\n",
    "date1 = datetime.date(2023, 1, 1) # 01-01-2023\n",
    "date2 = datetime.date(2023, 12, 31) #31-12-2023\n",
    "\n",
    "diff = date2 - date1\n",
    "print(f\"Количество дней между {date1} и {date2} равно {diff.days}\")"
   ]
  },
  {
   "cell_type": "code",
   "execution_count": 89,
   "metadata": {
    "colab": {
     "base_uri": "https://localhost:8080/"
    },
    "id": "xTq5ChIFJOd3",
    "outputId": "e64577be-3881-457b-cdc6-dd257a2a262c"
   },
   "outputs": [
    {
     "name": "stdout",
     "output_type": "stream",
     "text": [
      "4\n"
     ]
    }
   ],
   "source": [
    "import random\n",
    "\n",
    "# random.randint() - это функция из модуля random, которая возвращает случайное целое число в заданном диапазоне. Например, если мы хотим получить случайное целое число от 10 до 100, мы можем использовать следующий код/\n",
    "#Генерируем случайное число от 1 до 10\n",
    "random_number = random.randint(1, 5)\n",
    "print(random_number)"
   ]
  },
  {
   "cell_type": "code",
   "execution_count": 90,
   "metadata": {},
   "outputs": [
    {
     "name": "stdout",
     "output_type": "stream",
     "text": [
      "Случайное имя из списка: Борис\n"
     ]
    }
   ],
   "source": [
    "import random\n",
    "\n",
    "# Выбор случайного элемента из списка\n",
    "names = [\"Алекс\", \"Борис\", \"Сергей\", \"Дмитрий\", \"Анна\"]\n",
    "random_choice = random.choice(names)\n",
    "\n",
    "print(f\"Случайное имя из списка: {random_choice}\")"
   ]
  },
  {
   "cell_type": "code",
   "execution_count": 92,
   "metadata": {
    "colab": {
     "base_uri": "https://localhost:8080/"
    },
    "id": "VV_5kKQFJOhn",
    "outputId": "7a5b57b8-bc2e-4fa2-cf4a-ef53d72002cf"
   },
   "outputs": [
    {
     "name": "stdout",
     "output_type": "stream",
     "text": [
      "[0 1 2 3 4]\n"
     ]
    }
   ],
   "source": [
    "import numpy as np\n",
    "#np.arange() - это функция из модуля numpy, которая создает одномерный массив, содержащий числа в заданном диапазоне.\n",
    "# Создаем одномерный массив с числами от 0 до 4\n",
    "array = np.arange(5)\n",
    "print(array)  # вывод: [0 1 2 3 4]"
   ]
  },
  {
   "cell_type": "code",
   "execution_count": 93,
   "metadata": {
    "scrolled": true
   },
   "outputs": [
    {
     "name": "stdout",
     "output_type": "stream",
     "text": [
      "Результат умножения двух матриц:\n",
      "[[19 22]\n",
      " [43 50]]\n"
     ]
    }
   ],
   "source": [
    "import numpy as np\n",
    "\n",
    "# Умножение двух матриц\n",
    "# [ 1, 2\n",
    "#    3 , 4 ]\n",
    "\n",
    "# [5, 6\n",
    "#  7, 8]\n",
    "matrix1 = np.array([[1, 2], [3, 4]])\n",
    "matrix2 = np.array([[5, 6], [7, 8]])\n",
    "\n",
    "result = np.dot(matrix1, matrix2)\n",
    "print(f\"Результат умножения двух матриц:\\n{result}\")"
   ]
  },
  {
   "cell_type": "code",
   "execution_count": 94,
   "metadata": {
    "colab": {
     "base_uri": "https://localhost:8080/",
     "height": 143
    },
    "id": "Ghf2tyhXJOkP",
    "outputId": "6fa8b801-d571-46ac-cfbd-76f62cdade96"
   },
   "outputs": [
    {
     "data": {
      "text/html": [
       "<div>\n",
       "<style scoped>\n",
       "    .dataframe tbody tr th:only-of-type {\n",
       "        vertical-align: middle;\n",
       "    }\n",
       "\n",
       "    .dataframe tbody tr th {\n",
       "        vertical-align: top;\n",
       "    }\n",
       "\n",
       "    .dataframe thead th {\n",
       "        text-align: right;\n",
       "    }\n",
       "</style>\n",
       "<table border=\"1\" class=\"dataframe\">\n",
       "  <thead>\n",
       "    <tr style=\"text-align: right;\">\n",
       "      <th></th>\n",
       "      <th>Имя</th>\n",
       "      <th>Возраст</th>\n",
       "    </tr>\n",
       "  </thead>\n",
       "  <tbody>\n",
       "    <tr>\n",
       "      <th>0</th>\n",
       "      <td>Алекс</td>\n",
       "      <td>25</td>\n",
       "    </tr>\n",
       "    <tr>\n",
       "      <th>1</th>\n",
       "      <td>Борис</td>\n",
       "      <td>30</td>\n",
       "    </tr>\n",
       "    <tr>\n",
       "      <th>2</th>\n",
       "      <td>Сергей</td>\n",
       "      <td>35</td>\n",
       "    </tr>\n",
       "  </tbody>\n",
       "</table>\n",
       "</div>"
      ],
      "text/plain": [
       "      Имя  Возраст\n",
       "0   Алекс       25\n",
       "1   Борис       30\n",
       "2  Сергей       35"
      ]
     },
     "execution_count": 94,
     "metadata": {},
     "output_type": "execute_result"
    }
   ],
   "source": [
    "import pandas as pd\n",
    "#pd.DataFrame - это функция из модуля pandas, которая создает двумерную таблицу данных, называемую DataFrame.\n",
    "#DataFrame представляет собой структуру данных, которая состоит из строк и столбцов, и позволяет хранить и обрабатывать данные в табличной форме.\n",
    "# Создаем DataFrame состоящий из двух столбцов - имя и возраст\n",
    "data = {\n",
    "    'Имя': ['Алекс', 'Борис', 'Сергей'],\n",
    "    'Возраст': [25, 30, 35]\n",
    "}\n",
    "df = pd.DataFrame(data)\n",
    "\n",
    "df"
   ]
  },
  {
   "cell_type": "code",
   "execution_count": 95,
   "metadata": {
    "colab": {
     "base_uri": "https://localhost:8080/",
     "height": 3854
    },
    "id": "PJ5TU53h8UXE",
    "outputId": "cff7e2fd-6ae3-4ee9-fc46-638a767c49b2"
   },
   "outputs": [
    {
     "data": {
      "text/html": [
       "<div>\n",
       "<style scoped>\n",
       "    .dataframe tbody tr th:only-of-type {\n",
       "        vertical-align: middle;\n",
       "    }\n",
       "\n",
       "    .dataframe tbody tr th {\n",
       "        vertical-align: top;\n",
       "    }\n",
       "\n",
       "    .dataframe thead th {\n",
       "        text-align: right;\n",
       "    }\n",
       "</style>\n",
       "<table border=\"1\" class=\"dataframe\">\n",
       "  <thead>\n",
       "    <tr style=\"text-align: right;\">\n",
       "      <th></th>\n",
       "      <th>Имя</th>\n",
       "      <th>Возраст</th>\n",
       "      <th>Средний балл</th>\n",
       "    </tr>\n",
       "  </thead>\n",
       "  <tbody>\n",
       "    <tr>\n",
       "      <th>0</th>\n",
       "      <td>ООО Ромашка</td>\n",
       "      <td>20</td>\n",
       "      <td>10000</td>\n",
       "    </tr>\n",
       "    <tr>\n",
       "      <th>1</th>\n",
       "      <td>ООО АВТО</td>\n",
       "      <td>22</td>\n",
       "      <td>15000</td>\n",
       "    </tr>\n",
       "    <tr>\n",
       "      <th>2</th>\n",
       "      <td>ООО Грифон</td>\n",
       "      <td>21</td>\n",
       "      <td>40000</td>\n",
       "    </tr>\n",
       "  </tbody>\n",
       "</table>\n",
       "</div>"
      ],
      "text/plain": [
       "           Имя  Возраст  Средний балл\n",
       "0  ООО Ромашка       20         10000\n",
       "1     ООО АВТО       22         15000\n",
       "2   ООО Грифон       21         40000"
      ]
     },
     "execution_count": 95,
     "metadata": {},
     "output_type": "execute_result"
    }
   ],
   "source": [
    "#Например, если у нас есть данные о клиентах комании, включающие их название компании, количество и сумму продаж, мы можем использовать pd.DataFrame для создания таблицы:\n",
    "\n",
    "import pandas as pd\n",
    "\n",
    "data = {'Имя': ['ООО Ромашка', 'ООО АВТО', 'ООО Грифон'],\n",
    "        'Возраст': [20, 22, 21],\n",
    "        'Средний балл': [10000, 15000, 40000]}\n",
    "\n",
    "df = pd.DataFrame(data)\n",
    "df\n"
   ]
  },
  {
   "cell_type": "code",
   "execution_count": 96,
   "metadata": {},
   "outputs": [
    {
     "data": {
      "text/html": [
       "<div>\n",
       "<style scoped>\n",
       "    .dataframe tbody tr th:only-of-type {\n",
       "        vertical-align: middle;\n",
       "    }\n",
       "\n",
       "    .dataframe tbody tr th {\n",
       "        vertical-align: top;\n",
       "    }\n",
       "\n",
       "    .dataframe thead th {\n",
       "        text-align: right;\n",
       "    }\n",
       "</style>\n",
       "<table border=\"1\" class=\"dataframe\">\n",
       "  <thead>\n",
       "    <tr style=\"text-align: right;\">\n",
       "      <th></th>\n",
       "      <th>Температура</th>\n",
       "      <th>Влажность</th>\n",
       "    </tr>\n",
       "    <tr>\n",
       "      <th>Город</th>\n",
       "      <th></th>\n",
       "      <th></th>\n",
       "    </tr>\n",
       "  </thead>\n",
       "  <tbody>\n",
       "    <tr>\n",
       "      <th>Москва</th>\n",
       "      <td>20.333333</td>\n",
       "      <td>32.666667</td>\n",
       "    </tr>\n",
       "    <tr>\n",
       "      <th>Санкт-Петербург</th>\n",
       "      <td>19.000000</td>\n",
       "      <td>37.666667</td>\n",
       "    </tr>\n",
       "  </tbody>\n",
       "</table>\n",
       "</div>"
      ],
      "text/plain": [
       "                 Температура  Влажность\n",
       "Город                                  \n",
       "Москва             20.333333  32.666667\n",
       "Санкт-Петербург    19.000000  37.666667"
      ]
     },
     "execution_count": 96,
     "metadata": {},
     "output_type": "execute_result"
    }
   ],
   "source": [
    "import pandas as pd\n",
    "\n",
    "# Группировка данных в DataFrame\n",
    "data = {\n",
    "    'Город': ['Москва', 'Москва', 'Санкт-Петербург', 'Москва', 'Санкт-Петербург', 'Санкт-Петербург'],\n",
    "    'Температура': [19, 22, 17, 20, 19, 21], # 19, 22,  20\n",
    "    'Влажность': [30, 35, 40, 33, 38, 35]\n",
    "}\n",
    "\n",
    "df = pd.DataFrame(data)\n",
    "\n",
    "# Средняя температура и влажность по городам\n",
    "mean_values = df.groupby('Город').mean()\n",
    "\n",
    "mean_values"
   ]
  },
  {
   "cell_type": "code",
   "execution_count": 97,
   "metadata": {},
   "outputs": [
    {
     "data": {
      "text/html": [
       "<div>\n",
       "<style scoped>\n",
       "    .dataframe tbody tr th:only-of-type {\n",
       "        vertical-align: middle;\n",
       "    }\n",
       "\n",
       "    .dataframe tbody tr th {\n",
       "        vertical-align: top;\n",
       "    }\n",
       "\n",
       "    .dataframe thead th {\n",
       "        text-align: right;\n",
       "    }\n",
       "</style>\n",
       "<table border=\"1\" class=\"dataframe\">\n",
       "  <thead>\n",
       "    <tr style=\"text-align: right;\">\n",
       "      <th></th>\n",
       "      <th>Город</th>\n",
       "      <th>Температура</th>\n",
       "      <th>Влажность</th>\n",
       "    </tr>\n",
       "  </thead>\n",
       "  <tbody>\n",
       "    <tr>\n",
       "      <th>0</th>\n",
       "      <td>Москва</td>\n",
       "      <td>19</td>\n",
       "      <td>30</td>\n",
       "    </tr>\n",
       "    <tr>\n",
       "      <th>1</th>\n",
       "      <td>Москва</td>\n",
       "      <td>22</td>\n",
       "      <td>35</td>\n",
       "    </tr>\n",
       "    <tr>\n",
       "      <th>2</th>\n",
       "      <td>Санкт-Петербург</td>\n",
       "      <td>17</td>\n",
       "      <td>40</td>\n",
       "    </tr>\n",
       "    <tr>\n",
       "      <th>3</th>\n",
       "      <td>Москва</td>\n",
       "      <td>20</td>\n",
       "      <td>33</td>\n",
       "    </tr>\n",
       "    <tr>\n",
       "      <th>4</th>\n",
       "      <td>Санкт-Петербург</td>\n",
       "      <td>19</td>\n",
       "      <td>38</td>\n",
       "    </tr>\n",
       "    <tr>\n",
       "      <th>5</th>\n",
       "      <td>Санкт-Петербург</td>\n",
       "      <td>21</td>\n",
       "      <td>35</td>\n",
       "    </tr>\n",
       "  </tbody>\n",
       "</table>\n",
       "</div>"
      ],
      "text/plain": [
       "             Город  Температура  Влажность\n",
       "0           Москва           19         30\n",
       "1           Москва           22         35\n",
       "2  Санкт-Петербург           17         40\n",
       "3           Москва           20         33\n",
       "4  Санкт-Петербург           19         38\n",
       "5  Санкт-Петербург           21         35"
      ]
     },
     "execution_count": 97,
     "metadata": {},
     "output_type": "execute_result"
    }
   ],
   "source": [
    "df"
   ]
  },
  {
   "cell_type": "code",
   "execution_count": 104,
   "metadata": {
    "colab": {
     "base_uri": "https://localhost:8080/",
     "height": 430
    },
    "id": "aS51HBL6JZkP",
    "outputId": "597ba670-c4ba-4e70-9487-86e277ad1516"
   },
   "outputs": [
    {
     "data": {
      "image/png": "[encoded data removed]",
      "text/plain": [
       "<Figure size 432x288 with 1 Axes>"
      ]
     },
     "metadata": {
      "needs_background": "light"
     },
     "output_type": "display_data"
    }
   ],
   "source": [
    "import matplotlib.pyplot as plt\n",
    "#matplotlib.pyplot - это модуль из библиотеки matplotlib, который предоставляет функции для создания графиков и визуализации данных. Он обычно используется вместе с pandas для визуализации данных из DataFrame.\n",
    "\n",
    "# Создаем простую линейную диаграмму\n",
    "x = [1, 2, 3, 4, 5]\n",
    "y = [1, 4, 9, 16, 25]\n",
    "\n",
    "plt.plot(x, y)\n",
    "plt.show()  # показываем диаграмму"
   ]
  },
  {
   "cell_type": "code",
   "execution_count": 109,
   "metadata": {
    "scrolled": true
   },
   "outputs": [
    {
     "data": {
      "image/png": "[encoded data removed]",
      "text/plain": [
       "<Figure size 432x288 with 1 Axes>"
      ]
     },
     "metadata": {
      "needs_background": "light"
     },
     "output_type": "display_data"
    }
   ],
   "source": [
    "import matplotlib.pyplot as plt\n",
    "import numpy as np\n",
    "\n",
    "# Создание графика функции синуса\n",
    "x = np.linspace(0, 10, 100)\n",
    "y = np.sin(x)\n",
    "\n",
    "plt.plot(x, y)\n",
    "plt.xlabel('X')\n",
    "plt.ylabel('sin(x)')\n",
    "plt.title('График функции sin(x)')\n",
    "plt.grid(True)\n",
    "plt.show()\n",
    "\n"
   ]
  },
  {
   "cell_type": "code",
   "execution_count": 110,
   "metadata": {},
   "outputs": [
    {
     "data": {
      "image/png": "[encoded data removed]",
      "text/plain": [
       "<Figure size 432x288 with 1 Axes>"
      ]
     },
     "metadata": {
      "needs_background": "light"
     },
     "output_type": "display_data"
    }
   ],
   "source": [
    "plt.plot(x, y)\n",
    "#plt.xlabel('X')\n",
    "#plt.ylabel('sin(x)')\n",
    "#plt.title('График функции sin(x)')\n",
    "plt.grid(True)\n",
    "plt.show()\n"
   ]
  },
  {
   "cell_type": "code",
   "execution_count": 114,
   "metadata": {
    "colab": {
     "base_uri": "https://localhost:8080/",
     "height": 472
    },
    "id": "-x1lYHM39eiS",
    "outputId": "80f5311d-7741-4e7c-fc3c-f3f4cceba773"
   },
   "outputs": [
    {
     "data": {
      "image/png": "[encoded data removed]",
      "text/plain": [
       "<Figure size 432x288 with 1 Axes>"
      ]
     },
     "metadata": {
      "needs_background": "light"
     },
     "output_type": "display_data"
    }
   ],
   "source": [
    "#Вы можете использовать matplotlib.pyplot, чтобы создать график среднего чека покупателей:\n",
    "\n",
    "import pandas as pd\n",
    "import matplotlib.pyplot as plt\n",
    "\n",
    "data = {'Имя': ['Анна', 'Петр', 'Мария'],\n",
    "        'Возраст': [20, 22, 21],\n",
    "        'Средний чек': [4500, 4200, 4800]}\n",
    "\n",
    "df = pd.DataFrame(data)\n",
    "\n",
    "plt.plot(df['Имя'], df['Средний чек'])\n",
    "plt.xlabel('Имя')\n",
    "plt.ylabel('Средний чек')\n",
    "plt.title('Средний чек покупателей')\n",
    "plt.show()\n",
    "\n",
    "#Этот код создаст график среднего балла студентов, где по оси X будут имена студентов, а по оси Y - их средний балл.\n"
   ]
  },
  {
   "cell_type": "code",
   "execution_count": 112,
   "metadata": {},
   "outputs": [
    {
     "data": {
      "text/html": [
       "<div>\n",
       "<style scoped>\n",
       "    .dataframe tbody tr th:only-of-type {\n",
       "        vertical-align: middle;\n",
       "    }\n",
       "\n",
       "    .dataframe tbody tr th {\n",
       "        vertical-align: top;\n",
       "    }\n",
       "\n",
       "    .dataframe thead th {\n",
       "        text-align: right;\n",
       "    }\n",
       "</style>\n",
       "<table border=\"1\" class=\"dataframe\">\n",
       "  <thead>\n",
       "    <tr style=\"text-align: right;\">\n",
       "      <th></th>\n",
       "      <th>Имя</th>\n",
       "      <th>Возраст</th>\n",
       "      <th>Средний чек</th>\n",
       "    </tr>\n",
       "  </thead>\n",
       "  <tbody>\n",
       "    <tr>\n",
       "      <th>0</th>\n",
       "      <td>Анна</td>\n",
       "      <td>20</td>\n",
       "      <td>4500</td>\n",
       "    </tr>\n",
       "    <tr>\n",
       "      <th>1</th>\n",
       "      <td>Петр</td>\n",
       "      <td>22</td>\n",
       "      <td>4200</td>\n",
       "    </tr>\n",
       "    <tr>\n",
       "      <th>2</th>\n",
       "      <td>Мария</td>\n",
       "      <td>21</td>\n",
       "      <td>4800</td>\n",
       "    </tr>\n",
       "  </tbody>\n",
       "</table>\n",
       "</div>"
      ],
      "text/plain": [
       "     Имя  Возраст  Средний чек\n",
       "0   Анна       20         4500\n",
       "1   Петр       22         4200\n",
       "2  Мария       21         4800"
      ]
     },
     "execution_count": 112,
     "metadata": {},
     "output_type": "execute_result"
    }
   ],
   "source": [
    "df"
   ]
  },
  {
   "cell_type": "code",
   "execution_count": 115,
   "metadata": {
    "colab": {
     "base_uri": "https://localhost:8080/",
     "height": 1000
    },
    "id": "4yLrsCXk-gmR",
    "outputId": "b82ddddc-1743-48d0-9ded-71e26cd5ddf9"
   },
   "outputs": [
    {
     "data": {
      "image/png": "[encoded data removed]",
      "text/plain": [
       "<Figure size 432x288 with 1 Axes>"
      ]
     },
     "metadata": {
      "needs_background": "light"
     },
     "output_type": "display_data"
    },
    {
     "data": {
      "image/png": "[encoded data removed]",
      "text/plain": [
       "<Figure size 432x288 with 1 Axes>"
      ]
     },
     "metadata": {
      "needs_background": "light"
     },
     "output_type": "display_data"
    },
    {
     "data": {
      "image/png": "[encoded data removed]",
      "text/plain": [
       "<Figure size 432x288 with 1 Axes>"
      ]
     },
     "metadata": {
      "needs_background": "light"
     },
     "output_type": "display_data"
    }
   ],
   "source": [
    "# Пример 1: График распределения возраста покупателей\n",
    "data = {'Имя': ['Анна', 'Петр', 'Мария'],\n",
    "        'Возраст': [20, 22, 21],\n",
    "        'Средний чек': [4500, 4200, 4800]}\n",
    "\n",
    "df = pd.DataFrame(data)\n",
    "\n",
    "plt.bar(df['Имя'], df['Возраст'])\n",
    "plt.xlabel('Имя')\n",
    "plt.ylabel('Возраст')\n",
    "plt.title('Распределение возраста покупателей')\n",
    "plt.show()\n",
    "\n",
    "# Пример 2: График сравнения среднего чек покупателей\n",
    "plt.bar(df['Имя'], df['Средний чек'])\n",
    "plt.xlabel('Имя')\n",
    "plt.ylabel('Средний чек')\n",
    "plt.title('Сравнение среднего чек покупателей')\n",
    "plt.show()\n",
    "\n",
    "# Пример 3: График среднего чека покупателей с разными цветами для каждого студента\n",
    "colors = ['blue', 'green', 'red']\n",
    "plt.bar(df['Имя'], df['Средний чек'], color=colors)\n",
    "plt.xlabel('Имя')\n",
    "plt.ylabel('Средний чек')\n",
    "plt.title('Средний чек покупателей')\n",
    "plt.show()"
   ]
  },
  {
   "cell_type": "code",
   "execution_count": 118,
   "metadata": {
    "colab": {
     "base_uri": "https://localhost:8080/",
     "height": 1000
    },
    "id": "TUxMilID-RBk",
    "outputId": "80057f08-00bb-44bd-b5da-c7616c499067"
   },
   "outputs": [
    {
     "data": {
      "image/png": "[encoded data removed]",
      "text/plain": [
       "<Figure size 432x288 with 1 Axes>"
      ]
     },
     "metadata": {
      "needs_background": "light"
     },
     "output_type": "display_data"
    },
    {
     "data": {
      "image/png": "[encoded data removed]",
      "text/plain": [
       "<Figure size 432x288 with 1 Axes>"
      ]
     },
     "metadata": {
      "needs_background": "light"
     },
     "output_type": "display_data"
    },
    {
     "data": {
      "image/png": "[encoded data removed]",
      "text/plain": [
       "<Figure size 432x288 with 1 Axes>"
      ]
     },
     "metadata": {},
     "output_type": "display_data"
    }
   ],
   "source": [
    "#пример визуализации данных о продажах с использованием библиотеки matplotlib.pyplot:\n",
    "\n",
    "import pandas as pd\n",
    "import matplotlib.pyplot as plt\n",
    "\n",
    "# Создание DataFrame с данными о продажах\n",
    "data = {'Месяц': ['Январь', 'Февраль', 'Март', 'Апрель', 'Май'],\n",
    "        'Продажи': [10000, 15000, 12000, 18000, 20000]}\n",
    "\n",
    "df = pd.DataFrame(data)\n",
    "\n",
    "# График продаж по месяцам\n",
    "plt.plot(df['Месяц'], df['Продажи'])\n",
    "plt.xlabel('Месяц')\n",
    "plt.ylabel('Продажи')\n",
    "plt.title('Динамика продаж')\n",
    "plt.show()\n",
    "\n",
    "# График столбцов суммарных продаж по месяцам\n",
    "plt.bar(df['Месяц'], df['Продажи'])\n",
    "plt.xlabel('Месяц')\n",
    "plt.ylabel('Продажи')\n",
    "plt.title('Суммарные продажи по месяцам')\n",
    "plt.show()\n",
    "\n",
    "# Круговая диаграмма доли продаж каждого месяца\n",
    "plt.pie(df['Продажи'], labels=df['Месяц'], autopct='%1.1f%%')\n",
    "plt.title('Доля продаж по месяцам')\n",
    "plt.show()\n",
    "\n",
    "#Это всего лишь несколько примеров того, как можно визуализировать данные о продажах с помощью библиотеки matplotlib.pyplot.\n",
    "#Вы можете настроить графики по своему усмотрению, добавлять дополнительные элементы и изменять цвета, чтобы адаптировать их под ваши нужды."
   ]
  },
  {
   "cell_type": "code",
   "execution_count": 119,
   "metadata": {
    "scrolled": true
   },
   "outputs": [
    {
     "data": {
      "image/png": "[encoded data removed]",
      "text/plain": [
       "<Figure size 432x288 with 2 Axes>"
      ]
     },
     "metadata": {
      "needs_background": "light"
     },
     "output_type": "display_data"
    }
   ],
   "source": [
    "#Пример использования библиотеки matplotlib для создания сложных графиков в Python:\n",
    "\n",
    "import matplotlib.pyplot as plt\n",
    "import numpy as np\n",
    "\n",
    "# Создание данных для графика\n",
    "x = np.linspace(0, 10, 100)\n",
    "y1 = np.sin(x)\n",
    "y2 = np.cos(x)\n",
    "\n",
    "# Создание сложного графика с несколькими подграфиками\n",
    "fig, (ax1, ax2) = plt.subplots(2, 1, sharex=True)\n",
    "\n",
    "# Настройка первого подграфика\n",
    "ax1.plot(x, y1, 'r-', label='sin(x)')\n",
    "ax1.set_ylabel('Значение')\n",
    "ax1.legend()\n",
    "\n",
    "# Настройка второго подграфика\n",
    "ax2.plot(x, y2, 'b-', label='cos(x)')\n",
    "ax2.set_xlabel('x')\n",
    "ax2.set_ylabel('Значение')\n",
    "ax2.legend()\n",
    "\n",
    "# Отображение графика\n",
    "plt.show()\n",
    "\n",
    "\n",
    "#В этом примере мы используем библиотеку matplotlib для создания двух подграфиков на одном графике. \n",
    "#Мы создаем данные для графика с помощью функции linspace() из библиотеки numpy. Затем мы создаем объект Figure и два объекта Axes, представляющих каждый подграфик.\n",
    "#Мы настраиваем каждый подграфик с помощью функций plot(), set_xlabel(), set_ylabel() и legend(). \n",
    "#Наконец, мы отображаем график с помощью функции show()."
   ]
  },
  {
   "cell_type": "markdown",
   "metadata": {},
   "source": [
    "# Исследование данных"
   ]
  },
  {
   "cell_type": "code",
   "execution_count": 123,
   "metadata": {
    "colab": {
     "base_uri": "https://localhost:8080/",
     "height": 1000
    },
    "id": "zcJkTHS-AQPa",
    "outputId": "2161bf14-7dc1-42be-d979-8f5595dcbf5a"
   },
   "outputs": [
    {
     "data": {
      "image/png": "[encoded data removed]",
      "text/plain": [
       "<Figure size 720x720 with 1 Axes>"
      ]
     },
     "metadata": {
      "needs_background": "light"
     },
     "output_type": "display_data"
    }
   ],
   "source": [
    "\n",
    "#1. Линейный график продаж по месяцам с разделением по категориям:\n",
    "\n",
    "# Создание данных для графика\n",
    "categories = ['Category 1', 'Category 2', 'Category 3']\n",
    "months = ['January', 'February', 'March', 'April']\n",
    "sales = [[100, 150, 200, 250], [50, 100, 150, 200], [200, 250, 300, 350]]\n",
    "\n",
    "# Построение графика\n",
    "plt.figure(figsize=(10, 10))\n",
    "for i in range(len(categories)):\n",
    "    plt.plot(months, sales[i], label=categories[i])\n",
    "\n",
    "plt.xlabel('Month')\n",
    "plt.ylabel('Sales')\n",
    "plt.title('Sales by Month and Category')\n",
    "plt.legend()\n",
    "plt.show()\n",
    "\n"
   ]
  },
  {
   "cell_type": "code",
   "execution_count": 124,
   "metadata": {},
   "outputs": [
    {
     "data": {
      "image/png": "[encoded data removed]",
      "text/plain": [
       "<Figure size 720x432 with 1 Axes>"
      ]
     },
     "metadata": {
      "needs_background": "light"
     },
     "output_type": "display_data"
    }
   ],
   "source": [
    "#2. Гистограмма распределения продаж по ценам:\n",
    "\n",
    "\n",
    "# Создание данных для гистограммы\n",
    "prices = [10, 15, 20, 25, 30, 35, 40, 45, 50, 55, 60]\n",
    "sales = [5, 10, 15, 20, 25, 20, 15, 10, 5, 2, 1]\n",
    "\n",
    "# Построение гистограммы\n",
    "plt.figure(figsize=(10, 6))\n",
    "plt.bar(prices, sales)\n",
    "\n",
    "plt.xlabel('Price')\n",
    "plt.ylabel('Number of Sales')\n",
    "plt.title('Sales Distribution by Price')\n",
    "plt.show()\n"
   ]
  },
  {
   "cell_type": "code",
   "execution_count": 125,
   "metadata": {},
   "outputs": [
    {
     "data": {
      "text/plain": [
       "<function matplotlib.pyplot.show(close=None, block=None)>"
      ]
     },
     "execution_count": 125,
     "metadata": {},
     "output_type": "execute_result"
    },
    {
     "data": {
      "image/png": "[encoded data removed]",
      "text/plain": [
       "<Figure size 720x432 with 1 Axes>"
      ]
     },
     "metadata": {
      "needs_background": "light"
     },
     "output_type": "display_data"
    }
   ],
   "source": [
    "#3. Диаграмма рассеяния продаж по ценам и количеству:\n",
    "\n",
    "\n",
    "# Создание данных для диаграммы рассеяния\n",
    "prices = [10, 15, 20, 25, 30, 35, 40, 45, 50, 55, 60]\n",
    "quantities = [5, 10, 15, 20, 25, 20, 15, 10, 5, 2, 1]\n",
    "\n",
    "# Построение диаграммы рассеяния\n",
    "plt.figure(figsize=(10, 6))\n",
    "plt.scatter(prices, quantities)\n",
    "\n",
    "plt.xlabel('Price')\n",
    "plt.ylabel('Quantity Sold')\n",
    "plt.title('Sales Scatter Plot')\n",
    "plt.show"
   ]
  },
  {
   "cell_type": "code",
   "execution_count": 129,
   "metadata": {},
   "outputs": [
    {
     "data": {
      "image/png": "[encoded data removed]",
      "text/plain": [
       "<Figure size 720x432 with 1 Axes>"
      ]
     },
     "metadata": {
      "needs_background": "light"
     },
     "output_type": "display_data"
    },
    {
     "data": {
      "image/png": "[encoded data removed]",
      "text/plain": [
       "<Figure size 720x432 with 2 Axes>"
      ]
     },
     "metadata": {
      "needs_background": "light"
     },
     "output_type": "display_data"
    }
   ],
   "source": [
    "\n",
    "\n",
    "\n",
    "#4. Столбчатая диаграмма сравнения продаж разных категорий по месяцам:\n",
    "\n",
    "# Создание данных для столбчатой диаграммы\n",
    "categories = ['Category 1', 'Category 2', 'Category 3']\n",
    "months = ['January', 'February', 'March', 'April']\n",
    "sales = np.array([[100, 150, 200, 250], [50, 100, 150, 200], [200, 250, 300, 350]])\n",
    "\n",
    "# Построение столбчатой диаграммы\n",
    "plt.figure(figsize=(10, 6))\n",
    "bar_width = 0.2\n",
    "for i in range(len(categories)):\n",
    "    plt.bar(np.arange(len(months)) + i * bar_width, sales[i], width=bar_width, label=categories[i])\n",
    "\n",
    "plt.xlabel('Month')\n",
    "plt.ylabel('Sales')\n",
    "plt.title('Sales Comparison by Month and Category')\n",
    "plt.xticks(np.arange(len(months)) + bar_width * (len(categories) - 1) / 2, months)\n",
    "plt.legend()\n",
    "plt.show()\n",
    "\n",
    "\n",
    "\n",
    "#5. Тепловая карта продаж по категориям и месяцам:\n",
    "\n",
    "\n",
    "# Создание данных для тепловой карты\n",
    "categories = ['Category 1', 'Category 2', 'Category 3']\n",
    "months = ['January', 'February', 'March', 'April']\n",
    "sales = np.array([[100, 150, 200, 250], [50, 100, 150, 200], [200, 250, 300, 350]])\n",
    "\n",
    "# Построение тепловой карты\n",
    "plt.figure(figsize=(10, 6))\n",
    "plt.imshow(sales, cmap='hot')\n",
    "\n",
    "plt.xlabel('Month')\n",
    "plt.ylabel('Category')\n",
    "plt.title('Sales Heatmap by Month and Category')\n",
    "plt.xticks(np.arange(len(months)), months)\n",
    "plt.yticks(np.arange(len(categories)), categories)\n",
    "plt.colorbar(label='Sales')\n",
    "plt.show()\n"
   ]
  },
  {
   "cell_type": "code",
   "execution_count": 130,
   "metadata": {
    "colab": {
     "base_uri": "https://localhost:8080/"
    },
    "id": "ZEobhKUhBID_",
    "outputId": "a3bf6a1f-5beb-4a91-9247-0a9f0da1d98e"
   },
   "outputs": [
    {
     "name": "stdout",
     "output_type": "stream",
     "text": [
      "200\n",
      "{'Server': 'nginx', 'Date': 'Sun, 27 Aug 2023 10:47:38 GMT', 'Content-Type': 'text/html; charset=utf-8', 'Transfer-Encoding': 'chunked', 'Connection': 'keep-alive', 'Vary': 'Accept-Encoding', 'Cache-Control': 'no-cache, no-store, no-cache', 'Pragma': 'no-cache', 'Expires': '-1', 'X-AspNetMvc-Version': '4.0', 'X-AspNet-Version': '4.0.30319', 'Set-Cookie': '__RequestVerificationToken=FpFq3Yj__3Ahn0YJFljH2Vjp2C8qBSFReiy4p8amt1ioJGLprEdfT0Azj0OpAHhxQJ_ty22EiKdwCyzpX1jCI8p5fwaWqJmwnbMRw0gx8SQ1; domain=.e-disclosure.ru; path=/; HttpOnly', 'X-Powered-By': 'ASP.NET', 'Content-Encoding': 'gzip'}\n",
      "\r\n",
      "\r\n",
      "\r\n",
      "<!DOCTYPE html>\r\n",
      "<html>\r\n",
      "<head>\r\n",
      "    <title>Интерфакс – Сервер раскрытия информации</title>\r\n",
      "    <meta charset=\"utf-8\" />\r\n",
      "    <meta http-equiv=\"X-UA-Compatible\" content=\"IE=Edge\" />\r\n",
      "    <meta name=\"viewport\" content=\"width=device-width\" />\r\n",
      "    <link rel=\"icon\" type=\"image/x-icon\" href=\"/Images/favicon.ico\">\r\n",
      "    <meta name=\"keywords\" content=\"\">\r\n",
      "    <meta name=\"description\" content=\"Адрес, телефон и прочая информация о компании ООО &quot;АТОН&quot;\">\r\n",
      "    <meta name=\"SKYPE_TOOLBAR\" content=\"SKYPE_TOOLBAR_PARSER_COMPATIBLE\">\r\n",
      "    <meta name=\"format-detection\" content=\"telephone=no\">\r\n",
      "    <base href=\"https://e-disclosure.ru/\" target=\"_self\">\r\n",
      "        <script type=\"text/javascript\">\r\n",
      "        var yandexMetrikaJsCounterId = 53780800;\r\n",
      "    </script>\r\n",
      "    <!-- Yandex.Metrika counter -->\r\n",
      "    <script type=\"text/javascript\">\r\n",
      "        (function (m, e, t, r, i, k, a) {\r\n",
      "            m[i] = m[i]\r\n",
      "                || function () {\r\n",
      "                    (m[i].a = m[i].a || []).push(arguments);\r\n",
      "                };\r\n",
      "            m[i].l = 1 * new Date();\r\n",
      "            k = e.createElement(t),\r\n",
      "                a = e.getElementsByTagName(t)[0],\r\n",
      "                k.async = 1,\r\n",
      "                k.src = r,\r\n",
      "                a.parentNode.insertBefore(k, a);\r\n",
      "        })(window,\r\n",
      "            document,\r\n",
      "            \"script\",\r\n",
      "            \"https://mc.yandex.ru/metrika/tag.js\",\r\n",
      "            \"ym\");\r\n",
      "\r\n",
      "        ym(53780800, \"init\", {\r\n",
      "            clickmap:true,\r\n",
      "            trackLinks:true,\r\n",
      "            accurateTrackBounce:true\r\n",
      "        });\r\n",
      "    </script>\r\n",
      "    <!-- /Yandex.Metrika counter -->\r\n",
      "    <!-- Rating@Mail.ru counter -->\r\n",
      "    <script type=\"text/javascript\">\r\n",
      "        //<![CDATA[\r\n",
      "        var _tmr = _tmr || [];\r\n",
      "        _tmr.push({ id: '650834', type: 'pageView', start: (new Date()).getTime() });\r\n",
      "        (function (d, w) {\r\n",
      "            var ts = d.createElement('script');\r\n",
      "            ts.type = 'text/javascript';\r\n",
      "            ts.async = true;\r\n",
      "            ts.src = (d.location.protocol === 'https:' ? 'https:' : 'http:') + '//top-fwz1.mail.ru/js/code.js';\r\n",
      "            var f = function () {\r\n",
      "                var s = d.getElementsByTagName('script')[0]; s.parentNode.insertBefore(ts, s);\r\n",
      "            };\r\n",
      "            if (w.opera == \"[object Opera]\") {\r\n",
      "                d.addEventListener(\"DOMContentLoaded\", f, false);\r\n",
      "            } else {\r\n",
      "                f();\r\n",
      "            }\r\n",
      "        })(document, window);\r\n",
      "        //]]></script>\r\n",
      "    <!-- //Rating@Mail.ru counter -->\r\n",
      "\r\n",
      "    <link href=\"/Content/css?v=wRcPX70sYxd1Xk5SuWvtSqReUzUvytOl-Hm0OPcfnwA1\" rel=\"stylesheet\"/>\r\n",
      "\r\n",
      "    <link href=\"/Content/themes/base/css?v=myqT7npwmF2ABsuSaHqt8SCvK8UFWpRv7T4M8r3kiK01\" rel=\"stylesheet\"/>\r\n",
      "\r\n",
      "    \r\n",
      "    <script src=\"/Scripts/jquery-3.6.0.min.js\"></script>\r\n",
      "\r\n",
      "    <script src=\"/Scripts/ed.common.js\"></script>\r\n",
      "\r\n",
      "    <script src=\"/Scripts/ed.company.card.js\"></script>\r\n",
      "\r\n",
      "    <script src=\"/Scripts/ed.tabs.js\"></script>\r\n",
      "\r\n",
      "    <script src=\"/Scripts/ed.validation.js\"></script>\r\n",
      "\r\n",
      "\r\n",
      "    <script src=\"/bundles/modernizr?v=qVODBytEBVVePTNtSFXgRX0NCEjh9U_Oj8ePaSiRcGg1\"></script>\r\n",
      "\r\n",
      "    <script>window.yaContextCb = window.yaContextCb || []</script>\r\n",
      "    <script src=\"https://yandex.ru/ads/system/context.js\" async></script>\r\n",
      "</head>\r\n",
      "    <body>\r\n",
      "        <noscript>\r\n",
      "        <div>\r\n",
      "            <img src=\"https://mc.yandex.ru/watch/53780800\" style=\"position: absolute; left: -9999px;\" alt=\"\" />\r\n",
      "        </div>\r\n",
      "        <div style=\"position: absolute; left: -10000px;\">\r\n",
      "            <img src=\"//top-fwz1.mail.ru/counter?id=650834;js=na\" style=\"border: 0;\" height=\"1\" width=\"1\" alt=\"Рейтинг@Mail.ru\"/>\r\n",
      "        </div>\r\n",
      "        <img src=\"//counter.rambler.ru/top100.cnt?pid=2928424\" alt=\"Топ-100\" />\r\n",
      "    </noscript>\r\n",
      "\r\n",
      "    \r\n",
      "<div id=\"enter\" style=\"display: none;\">\r\n",
      "    <div class=\"title_basic\">\r\n",
      "        Вход\r\n",
      "        <div class=\"right\">\r\n",
      "            <img src=\"/Images/close.png\"\r\n",
      "                 width=\"14\"\r\n",
      "                 height=\"14\"\r\n",
      "                 alt=\"Закрыть окно\"\r\n",
      "                 style=\"cursor: pointer\"\r\n",
      "                 onclick=\"document.getElementById('enter').style.display='none';\" />\r\n",
      "        </div>\r\n",
      "    </div>\r\n",
      "<form action=\"/Security/Login\" id=\"loginForm\" method=\"post\">        <div class=\"cont_wrap\">\r\n",
      "            <table width=\"100%\">\r\n",
      "                <tr>\r\n",
      "                    <td width=\"100\">Логин/ИНН:</td>\r\n",
      "                    <td>\r\n",
      "                        <input type=\"text\" id=\"login\" name=\"login\" style=\"width: 100%\" maxlength=\"50\" />\r\n",
      "                    </td>\r\n",
      "                </tr>\r\n",
      "                <tr>\r\n",
      "                    <td>Пароль:</td>\r\n",
      "                    <td>\r\n",
      "                        <input type=\"password\" name=\"password\" id=\"password\" style=\"width: 100%\" />\r\n",
      "                    </td>\r\n",
      "                </tr>\r\n",
      "                <tr>\r\n",
      "                    <td colspan=\"2\" height=\"26\" style=\"text-align: center;\">\r\n",
      "                        <span class=\"loginError\">Неверный логин или пароль.</span>\r\n",
      "                    </td>\r\n",
      "                </tr>\r\n",
      "                <tr>\r\n",
      "                    <td colspan=\"2\" align=\"center\">\r\n",
      "                        <a href=\"#\" class=\"button login\">Войти</a>\r\n",
      "                    </td>\r\n",
      "                </tr>\r\n",
      "                <tr>\r\n",
      "                    <td height=\"30\" colspan=\"2\" style=\"text-align: center; vertical-align: bottom; font-size: 11px\">\r\n",
      "                        Забыли пароль? <a href=\"#\" class=\"recover-password\" rel=\"https://e-disclosure.ru/RecoverPassword.aspx\">Восстановить пароль</a>\r\n",
      "                    </td>\r\n",
      "                </tr>\r\n",
      "            </table>\r\n",
      "        </div>\r\n",
      "</form></div>\r\n",
      "\r\n",
      "        <div id=\"wrapper\">\r\n",
      "            <div id=\"header\">\r\n",
      "    <div id=\"top\">\r\n",
      "        <div id=\"top_wrap\">\r\n",
      "            <div id=\"logo\">\r\n",
      "                <a href=\"#\">\r\n",
      "                    <img alt=\"Центр раскрытия \" src=\"/Images/logo.gif\" width=\"40\" height=\"40\">\r\n",
      "                </a>\r\n",
      "            </div>\r\n",
      "            <div id=\"logo2\">\r\n",
      "                <h1><a href=\"#\">ЦЕНТР&nbsp;РАСКРЫТИЯ</a></h1>\r\n",
      "                <span><a href=\"#\">КОРПОРАТИВНОЙ&nbsp;ИНФОРМАЦИИ</a></span>\r\n",
      "            </div>\r\n",
      "            <div id=\"top_right_img\">\r\n",
      "                <a href=\"http://www.interfax.ru\">\r\n",
      "                    <img alt=\"Интерфакс\" src=\"/Images/interfax.png\" width=\"142\" height=\"42\">\r\n",
      "                </a>\r\n",
      "            </div>\r\n",
      "            <div id=\"top_right_txt\">\r\n",
      "                Служба раскрытия информации:<br>\r\n",
      "                тел.: <strong>+7 (495) 787-5213, 8-800-200-4818 (в будни, с 08.00 до 20.00 мск)</strong>\r\n",
      "            </div>\r\n",
      "            <div id=\"reg\">\r\n",
      "                Идентификационный код Распространителя информации №0003\r\n",
      "                <a onclick=\"document.getElementById('enter').style.display='inline';return false;\" class=\"enter\" href=\"#\">Вход</a>\r\n",
      "                <a class=reg href=\"/RegistrationForm.aspx\">Регистрация</a>\r\n",
      "            </div>\r\n",
      "            <div id=\"social\">\r\n",
      "                \r\n",
      "                <a href=\"https://t.me/edisclosure\" target=\"_blank\" title=\"telegram\">\r\n",
      "                    <img src=\"/Images/telegram.png\" width=\"30\" height=\"30\">\r\n",
      "                </a>\r\n",
      "            </div>\r\n",
      "        </div>\r\n",
      "    </div>\r\n",
      "    <div id=\"menu_wrap\">\r\n",
      "        <div id=\"menucontainer\">\r\n",
      "            <ul id=\"menulist\">\r\n",
      "                        <li>\r\n",
      "                            <a class=dash href=\"\">главная страница</a>\r\n",
      "                        </li>\r\n",
      "                        <li>\r\n",
      "                            <a class=dash href=\"poisk-po-kompaniyam\">поиск по компаниям</a>\r\n",
      "                        </li>\r\n",
      "                        <li>\r\n",
      "                            <a class=dash href=\"poisk-po-soobshheniyam\">поиск по сообщениям</a>\r\n",
      "                        </li>\r\n",
      "                        <li>\r\n",
      "                                <a class=\"dash\" href=\"#\" onclick=\"return false;\">\r\n",
      "                                    <img src=\"/Images/open.png\" width=\"8\" height=\"6\" alt=\"\" />&nbsp;сервисы для компаний\r\n",
      "                                </a>\r\n",
      "                            <ul>\r\n",
      "                                        <li>\r\n",
      "                                                <a class=\"open\" href=\"servisy-dlya-kompanij/raskrytie-v-lente-i-na-sajte\">раскрытие в ленте и на сайте</a>\r\n",
      "                                            <ul>\r\n",
      "                                                    <li>\r\n",
      "                                                        <a href=\"servisy-dlya-kompanij/raskrytie-v-lente-i-na-sajte/reglament\">технические условия</a>\r\n",
      "                                                    </li>\r\n",
      "                                                    <li>\r\n",
      "                                                        <a href=\"servisy-dlya-kompanij/raskrytie-v-lente-i-na-sajte/faq\">вопросы и ответы</a>\r\n",
      "                                                    </li>\r\n",
      "                                            </ul>\r\n",
      "                                        </li>\r\n",
      "                                        <li>\r\n",
      "                                            <a href=\"servisy-dlya-kompanij/informirovanie-aktsionerov\">информирование акционеров</a>\r\n",
      "                                        </li>\r\n",
      "                                        <li>\r\n",
      "                                            <a href=\"servisy-dlya-kompanij/esg-raskrytie\">esg-раскрытие</a>\r\n",
      "                                        </li>\r\n",
      "                                        <li>\r\n",
      "                                            <a href=\"servisy-dlya-kompanij/edinoe-okno\">единое окно</a>\r\n",
      "                                        </li>\r\n",
      "                                        <li>\r\n",
      "                                            <a href=\"servisy-dlya-kompanij/elektronnaya-anketa\">электронная анкета</a>\r\n",
      "                                        </li>\r\n",
      "                                        <li>\r\n",
      "                                            <a href=\"servisy-dlya-kompanij/servis-dlya-agentov-po-razmeshheniyu\">сервис для агентов по размещению</a>\r\n",
      "                                        </li>\r\n",
      "                                        <li>\r\n",
      "                                            <a href=\"servisy-dlya-kompanij/raskrytie-za-rubezhom\">раскрытие за рубежом</a>\r\n",
      "                                        </li>\r\n",
      "                                        <li>\r\n",
      "                                            <a href=\"servisy-dlya-kompanij/razmeshhenie-dopolnitel&#39;noj-informatsii\">размещение дополнительной информации</a>\r\n",
      "                                        </li>\r\n",
      "                                        <li>\r\n",
      "                                            <a href=\"servisy-dlya-kompanij/konsaltingovyj-tsentr\">консалтинговый центр</a>\r\n",
      "                                        </li>\r\n",
      "                                        <li>\r\n",
      "                                            <a href=\"servisy-dlya-kompanij/ir-uslugi\">ir-услуги</a>\r\n",
      "                                        </li>\r\n",
      "                                        <li>\r\n",
      "                                                <a class=\"open\" href=\"servisy-dlya-kompanij/premiya-za-otkrytost&#39;\">премия за открытость</a>\r\n",
      "                                            <ul>\r\n",
      "                                                    <li>\r\n",
      "                                                        <a href=\"servisy-dlya-kompanij/premiya-za-otkrytost&#39;/o-premii\">о премии</a>\r\n",
      "                                                    </li>\r\n",
      "                                                    <li>\r\n",
      "                                                        <a href=\"servisy-dlya-kompanij/premiya-za-otkrytost&#39;/kompanuii-pobediteli\">компании-победители</a>\r\n",
      "                                                    </li>\r\n",
      "                                                    <li>\r\n",
      "                                                        <a href=\"servisy-dlya-kompanij/premiya-za-otkrytost&#39;/press-relizy\">пресс-релизы</a>\r\n",
      "                                                    </li>\r\n",
      "                                            </ul>\r\n",
      "                                        </li>\r\n",
      "                            </ul>\r\n",
      "                        </li>\r\n",
      "                        <li>\r\n",
      "                            <a class=dash href=\"podpiska\">подписка</a>\r\n",
      "                        </li>\r\n",
      "                        <li>\r\n",
      "                                <a class=\"dash\" href=\"#\" onclick=\"return false;\">\r\n",
      "                                    <img src=\"/Images/open.png\" width=\"8\" height=\"6\" alt=\"\" />&nbsp;все о раскрытии\r\n",
      "                                </a>\r\n",
      "                            <ul>\r\n",
      "                                        <li>\r\n",
      "                                            <a href=\"vse-o-raskrytii/vestnik-centra-raskrytiya-informacii\">вестник центра раскрытия информации</a>\r\n",
      "                                        </li>\r\n",
      "                                        <li>\r\n",
      "                                            <a href=\"vse-o-raskrytii/reglament-raskrytiya\">технические условия</a>\r\n",
      "                                        </li>\r\n",
      "                                        <li>\r\n",
      "                                            <a href=\"vse-o-raskrytii/primenenie-elektronnoj-podpisi\">применение электронной подписи</a>\r\n",
      "                                        </li>\r\n",
      "                                        <li>\r\n",
      "                                            <a href=\"vse-o-raskrytii/normativnye-dokumenty\">нормативные документы</a>\r\n",
      "                                        </li>\r\n",
      "                                        <li>\r\n",
      "                                            <a href=\"vse-o-raskrytii/nashi-publikatsii\">наши публикации</a>\r\n",
      "                                        </li>\r\n",
      "                                        <li>\r\n",
      "                                            <a href=\"vse-o-raskrytii/kontrol-za-insayderskoy-informaciey\">контроль за инсайдерской информацией</a>\r\n",
      "                                        </li>\r\n",
      "                                        <li>\r\n",
      "                                            <a href=\"vse-o-raskrytii/faq\">вопросы и ответы</a>\r\n",
      "                                        </li>\r\n",
      "                            </ul>\r\n",
      "                        </li>\r\n",
      "                        <li>\r\n",
      "                                <a class=\"dash\" href=\"#\" onclick=\"return false;\">\r\n",
      "                                    <img src=\"/Images/open.png\" width=\"8\" height=\"6\" alt=\"\" />&nbsp;о проекте\r\n",
      "                                </a>\r\n",
      "                            <ul>\r\n",
      "                                        <li>\r\n",
      "                                            <a href=\"o-proekte/o-proekte\">о проекте</a>\r\n",
      "                                        </li>\r\n",
      "                                        <li>\r\n",
      "                                            <a href=\"o-proekte/reklama-na-sajte\">реклама на сайте</a>\r\n",
      "                                        </li>\r\n",
      "                            </ul>\r\n",
      "                        </li>\r\n",
      "            </ul>\r\n",
      "        </div>\r\n",
      "    </div>\r\n",
      "</div>\r\n",
      "\r\n",
      "            <div id=\"middle\">\r\n",
      "                <div id=\"container\">\r\n",
      "                    <div id=\"content2\">\r\n",
      "                        \r\n",
      "\r\n",
      "\r\n",
      "\r\n",
      "\r\n",
      "\r\n",
      "<div class=\"title_basic\">Карточка компании</div>\r\n",
      "\r\n",
      "\r\n",
      "<div class=\"gray_menu\">\r\n",
      "    <div class=\"menu_wrap\" style=\"position: relative; left: 0;\">\r\n",
      "        <div class=\"table full\">\r\n",
      "            <div class=\"cell\">\r\n",
      "                <ul id=\"cssmenu\">\r\n",
      "                    <li>\r\n",
      "                        <a href=\"portal/company.aspx?id=29792\" class=\"drop\">\r\n",
      "                            <span>Карточка компании</span>\r\n",
      "                        </a>\r\n",
      "                    </li>\r\n",
      "                        <li>\r\n",
      "                            <a href=\"portal/company-29792/dokumenty-kompanii\" class=\"drop\">\r\n",
      "                                <img src=\"/images/open.png\" alt=\"\" /><span>Документация</span>\r\n",
      "                            </a>\r\n",
      "                            <ul>\r\n",
      "                                    <li>\r\n",
      "                                        <a href=\"portal/files.aspx?id=29792&type=10\">Прочие документы</a>\r\n",
      "                                    </li>\r\n",
      "                            </ul>\r\n",
      "                        </li>\r\n",
      "                                    </ul>\r\n",
      "            </div>\r\n",
      "            <div class=\"cell menu-search\">\r\n",
      "                <a class=\"js-show-search\" href=\"javascript:void(0)\" style=\"vertical-align: middle\">\r\n",
      "                    Поиск<img src=\"/Images/vline.png\" />Печать реестров\r\n",
      "                </a>\r\n",
      "            </div>\r\n",
      "        </div>\r\n",
      "    </div>\r\n",
      "</div>\r\n",
      "\r\n",
      "<div id=\"searchWindow\" class=\"search-window js-company-window\">\r\n",
      "\t<div class=\"title_basic\" style=\"padding-left: 0;\">\r\n",
      "\t\t<span>Выбор параметров</span>\r\n",
      "\t\t<div class=\"right\">\r\n",
      "\t\t\t<img src=\"/Images/close.png\" class=\"close-button js-close-button\" alt=\"Закрыть окно\" title=\"Закрыть окно\" />\r\n",
      "\t\t</div>\r\n",
      "\t</div>\r\n",
      "\r\n",
      "\t<form id=\"searchForm\">\r\n",
      "\t\t<div class=\"cont_wrap\">\r\n",
      "\t\t\t<div class=\"search-type\">\r\n",
      "\t\t\t\t<input type=\"radio\" name=\"sType\" id=\"sEvents\" value=\"0\" checked=\"checked\"/>\r\n",
      "\t\t\t\t<label for=\"sEvents\">события</label>\r\n",
      "\t\t\t\t<input type=\"radio\" name=\"sType\" id=\"sFiles\" value=\"1\"/>\r\n",
      "\t\t\t\t<label for=\"sFiles\">документы</label>\r\n",
      "\t\t\t</div>\r\n",
      "\t\t\t<div style=\"text-align: center; margin-top: 7px; margin-bottom: 5px;\">\r\n",
      "\t\t\t\t<span class=\"js-period-title\"></span>\r\n",
      "\t\t\t</div>\r\n",
      "\t\t\t<div style=\"text-align: center; margin: 5px;\">\r\n",
      "\t\t\t\tС:\r\n",
      "\t\t\t\t<span class=\"select-date\">\r\n",
      "\t\t\t\t\t<input type=\"text\" class=\"js-date\" name=\"esDateStart\" id=\"esDateStart\" value=\"20.08.2023\"\r\n",
      "\t\t\t\t\t       data-rule-required=\"true\" data-msg-required=\"Дата начала должна быть заполнена.\"\r\n",
      "\t\t\t\t\t       data-rule-date=\"true\" data-msg-date=\"Дата начала должна быть датой в формате дд.мм.гггг.\"/>\r\n",
      "\t\t\t\t</span>\r\n",
      "\t\t\t\tПо:\r\n",
      "\t\t\t\t<span class=\"select-date\">\r\n",
      "\t\t\t\t\t<input type=\"text\" class=\"js-date\" name=\"esDateFinish\" id=\"esDateFinish\" value=\"27.08.2023\"\r\n",
      "\t\t\t\t\t       data-rule-required=\"true\" data-msg-required=\"Дата окончания должна быть заполнена.\"\r\n",
      "\t\t\t\t\t       data-rule-date=\"true\" data-msg-date=\"Дата окончания должна быть датой в формате дд.мм.гггг.\"\r\n",
      "\t\t\t\t\t       data-rule-dategreater=\"esDateStart\" data-msg-dategreater=\"Дата начала периода формирования реестра не должна быть больше даты окончания.\"/>\r\n",
      "\t\t\t\t</span>\r\n",
      "\t\t\t</div>\r\n",
      "\t\t\t<div id=\"errors\" class=\"error-block\"></div>\r\n",
      "\t\t\t<div class=\"btn-wrapper\">\r\n",
      "\t\t\t\t<a href=\"#\" class=\"button js-find-button\">Подтвердить выбор</a>\r\n",
      "\t\t\t</div>\r\n",
      "\t\t</div>\r\n",
      "\t</form>\r\n",
      "</div>\r\n",
      "\r\n",
      "\r\n",
      "<script>\r\n",
      "\tedCompanySearch.init(\r\n",
      "\t\t\t\"/Company/Search?companyId=29792&type=pType&dateStart=pDateStart&dateFinish=pDateFinish\");\r\n",
      "</script>\r\n",
      "\r\n",
      "<div class=\"infoblock\">\r\n",
      "    <h2>ООО &quot;АТОН&quot;</h2>\r\n",
      "</div>\r\n",
      "\r\n",
      "<div id=\"cont_wrap\" class=\"company-card\">\r\n",
      "    <div class=\"title_middle\">Общие сведения</div><table border=\"0\" cellspacing=\"0\" cellpadding=\"0\" class=\"zebra company-table\"><tr><td class=\"field-name\">Полное наименование компании</td><td><strong>Общество с ограниченной ответственностью \"АТОН\"</strong></td></tr><tr><td class=\"field-name\">Сокращенное наименование компании</td><td><strong>ООО \"АТОН\"</strong></td></tr><tr><td class=\"field-name\">Место нахождения</td><td><strong>115035, Российская Федерация, г. Москва, Овчинниковская наб., дом 20, строение 1</strong></td></tr><tr><td class=\"field-name\">Адрес (почтовый адрес)</td><td><strong>115035, Российская Федерация, г. Москва, Овчинниковская наб., дом 20, строение 1</strong></td></tr><tr><td class=\"field-name\">Дата государственной регистрации</td><td><strong>20.01.1995</strong></td></tr><tr><td class=\"field-name\">Номер Государственной регистрации (ОГРН)</td><td><strong>1027739583200</strong></td></tr><tr><td class=\"field-name\">ИНН</td><td><strong>7702015515</strong></td></tr><tr><td class=\"field-name\">Зарегистрировавший орган</td><td><strong>Государственное учреждение Московская регистрационная палата</strong></td></tr><tr><td class=\"field-name\">ФИО руководителя</td><td><strong>Звездочкин Андрей Михайлович</strong></td></tr><tr><td class=\"field-name\">Телефон руководителя</td><td><strong>+7 (495) 777-90-90</strong></td></tr><tr><td class=\"field-name\">Адрес страницы в сети Интернет</td><td class=\"break-text-all\"><strong><a href='https://www.e-disclosure.ru/portal/company.aspx?id=29792' target='_new'>https://www.e-disclosure.ru/portal/company.aspx?id=29792</a></strong></td></tr></table><div class=\"title_middle\">Банковские реквизиты р/с и размер расходов по изготовлению копий документов</div>не применяется\r\n",
      "\r\n",
      "    <div class=\"tabs-control\">\r\n",
      "        <div class=\"tab-selector-wrapper\" style=\"margin-bottom: -41px;\">\r\n",
      "            <div class=\"tab-selector\" style=\"float: none;\"></div>\r\n",
      "        </div>\r\n",
      "        <div class=\"tabs\">\r\n",
      "                <div class=\"tab\">\r\n",
      "                    \t<div class=\"title_middle\">\r\n",
      "\t\t<div class=\"js-event-year-paging event-year-paging\"></div>\r\n",
      "\t</div>\r\n",
      "\t<div class=\"js-events-container\"></div>\r\n",
      "\r\n",
      "<script>\r\n",
      "\tvar initYearsArray = [];\r\n",
      "\t\tinitYearsArray.push(2023);\r\n",
      "\t\tinitYearsArray.push(2022);\r\n",
      "\t\tinitYearsArray.push(2021);\r\n",
      "\t\tinitYearsArray.push(2020);\r\n",
      "\t\tinitYearsArray.push(2019);\r\n",
      "\t\tinitYearsArray.push(2018);\r\n",
      "\t\tinitYearsArray.push(2017);\r\n",
      "\t\tinitYearsArray.push(2016);\r\n",
      "\t\tinitYearsArray.push(2015);\r\n",
      "\t\tinitYearsArray.push(2014);\r\n",
      "\t\tinitYearsArray.push(2013);\r\n",
      "\t\tinitYearsArray.push(2012);\r\n",
      "\tedCompanyEventList.init(initYearsArray,\r\n",
      "\t\t\"/Event/Page?companyId=29792&year=pYear\",\r\n",
      "\t\t\"/Images/ajax-loader.gif\");\r\n",
      "</script>\r\n",
      "<input type=\"hidden\" id=\"hFilterCache\" value=\"\" />\r\n",
      "                </div>\r\n",
      "        </div>\r\n",
      "    </div>\r\n",
      "</div>\r\n",
      "\r\n",
      "\r\n",
      "\r\n",
      "\r\n",
      "                    </div>\r\n",
      "                </div>\r\n",
      "                <div id=\"sideRight\">\r\n",
      "                    \r\n",
      "\r\n",
      "\r\n",
      "\r\n",
      "<!--Тип баннера: portal right top 240x60-->\r\n",
      "<div id=\"adfox_168173373305942583\"></div>\r\n",
      "<script>\r\n",
      "    window.yaContextCb.push(() => {\r\n",
      "        Ya.adfoxCode.create({\r\n",
      "            ownerId: 1464683,\r\n",
      "            containerId: 'adfox_168173373305942583',\r\n",
      "            params: { p1: 'cxzbm', p2: 'iibj' }\r\n",
      "        });\r\n",
      "    })\r\n",
      "</script>\r\n",
      "<div class=\"news_wrap\">\r\n",
      "    <div class=\"news\">\r\n",
      "    <div class=\"news_title\">Анонсы</div>\r\n",
      "        <div class=\"time left\">\r\n",
      "            <div class=\"date left\">01.07.2023 - 30.12.2023</div>\r\n",
      "            <div class=\"graytext rightCity\"></div>\r\n",
      "        </div>\r\n",
      "        <div class=\"listitem full-width\">\r\n",
      "            <a class=\"blacklink break-text-all\" href=\"/vse-anonsy/anons/1061\">График семинаров на 2023 год по теме &quot;Обзор требований новой редакции Положения о раскрытии информации 714-П. Взаимодействие с акционерами. Внесение информации в Федресурс&quot;</a>\r\n",
      "        </div>\r\n",
      "        <div class=\"time left\">\r\n",
      "            <div class=\"date left\">01.07.2023 - 30.12.2023</div>\r\n",
      "            <div class=\"graytext rightCity\"></div>\r\n",
      "        </div>\r\n",
      "        <div class=\"listitem full-width\">\r\n",
      "            <a class=\"blacklink break-text-all\" href=\"/vse-anonsy/anons/1203\">График семинаров на 2023 год по теме &quot;Отчет эмитента, существенные факты, инсайд. Порядок раскрытия информации в соответствии со ст.30 ФЗ о РЦБ, а также инсайдерской информации&quot;</a>\r\n",
      "        </div>\r\n",
      "        <div class=\"time left\">\r\n",
      "            <div class=\"date left\">29.08.2023</div>\r\n",
      "            <div class=\"graytext rightCity\">Онлайн</div>\r\n",
      "        </div>\r\n",
      "        <div class=\"listitem full-width\">\r\n",
      "            <a class=\"blacklink break-text-all\" href=\"/vse-anonsy/anons/1337\">Рабочая группа по методологии раскрытия нефинансовой отчетности на esg-disclosure.ru состоится 29 августа</a>\r\n",
      "        </div>\r\n",
      "        <div class=\"time left\">\r\n",
      "            <div class=\"date left\">07.09.2023 - 08.09.2023</div>\r\n",
      "            <div class=\"graytext rightCity\">Онлайн</div>\r\n",
      "        </div>\r\n",
      "        <div class=\"listitem full-width\">\r\n",
      "            <a class=\"blacklink break-text-all\" href=\"/vse-anonsy/anons/1317\">Изменения в корпоративном законодательстве – 2023. Взаимодействие с акционерами и нерезидентами. Раскрытие и &#171;закрытие&#187; информации с 1.04.2023</a>\r\n",
      "        </div>\r\n",
      "        <div class=\"time left\">\r\n",
      "            <div class=\"date left\">12.09.2023 - 14.09.2023</div>\r\n",
      "            <div class=\"graytext rightCity\">Иркутск -- Байкал</div>\r\n",
      "        </div>\r\n",
      "        <div class=\"listitem full-width\">\r\n",
      "            <a class=\"blacklink break-text-all\" href=\"/vse-anonsy/anons/1318\">Расширенный семинар &#171;Изменения в корпоративном законодательстве – 2023. Взаимодействие с акционерами. Выплата дивидендов. Раскрытие и &#171;закрытие&#187; информации с учётом изменений в регулировании&#187;</a>\r\n",
      "        </div>\r\n",
      "</div>\r\n",
      "\r\n",
      "    <a class=\"all\" href=\"/vse-anonsy\">Все анонсы</a>\r\n",
      "</div>\r\n",
      "<div class=\"news_wrap\">\r\n",
      "    <div class=\"news\">\r\n",
      "    <div class=\"news_title\">Новости</div>\r\n",
      "        <div class=\"time\">\r\n",
      "            <span class=\"date\">22.08.2023</span>\r\n",
      "            <span class=\"graytext\"></span>\r\n",
      "        </div>\r\n",
      "        <div class=\"listitem\">\r\n",
      "            <a class=\"blacklink\" href=\"/vse-novosti/novost/5620\">Гонконг разработает дорожную карту по внедрению стандартов ISSB</a>\r\n",
      "        </div>\r\n",
      "        <div class=\"time\">\r\n",
      "            <span class=\"date\">22.08.2023</span>\r\n",
      "            <span class=\"graytext\"></span>\r\n",
      "        </div>\r\n",
      "        <div class=\"listitem\">\r\n",
      "            <a class=\"blacklink\" href=\"/vse-novosti/novost/5619\">Мосбиржа выявила несоответствие акций &quot;Мосэнерго&quot; и &quot;ОГК-2&quot; правилам листинга</a>\r\n",
      "        </div>\r\n",
      "        <div class=\"time\">\r\n",
      "            <span class=\"date\">21.08.2023</span>\r\n",
      "            <span class=\"graytext\"></span>\r\n",
      "        </div>\r\n",
      "        <div class=\"listitem\">\r\n",
      "            <a class=\"blacklink\" href=\"/vse-novosti/novost/5618\">РСПП просит Мишустина разрешить бизнесу не раскрывать финотчетность до июля 2024г</a>\r\n",
      "        </div>\r\n",
      "        <div class=\"time\">\r\n",
      "            <span class=\"date\">21.08.2023</span>\r\n",
      "            <span class=\"graytext\"></span>\r\n",
      "        </div>\r\n",
      "        <div class=\"listitem\">\r\n",
      "            <a class=\"blacklink\" href=\"/vse-novosti/novost/5617\">ЦБ разъяснил порядок оценки кредитного риска для эмитентов, которые не раскрывают отчетность</a>\r\n",
      "        </div>\r\n",
      "        <div class=\"time\">\r\n",
      "            <span class=\"date\">17.08.2023</span>\r\n",
      "            <span class=\"graytext\"></span>\r\n",
      "        </div>\r\n",
      "        <div class=\"listitem\">\r\n",
      "            <a class=\"blacklink\" href=\"/vse-novosti/novost/5616\">Путин поручил до декабря обеспечить создание фининструмента с привязкой доходности к выручке эмитента</a>\r\n",
      "        </div>\r\n",
      "</div>\r\n",
      "\r\n",
      "    <a class=\"all\" href=\"/vse-novosti\">Все новости</a>\r\n",
      "\r\n",
      "</div>\r\n",
      "\r\n",
      "<!--Тип баннера: portal right middle 240x400-->\r\n",
      "<div id=\"adfox_168173386396589028\"></div>\r\n",
      "<script>\r\n",
      "    window.yaContextCb.push(() => {\r\n",
      "        Ya.adfoxCode.create({\r\n",
      "            ownerId: 1464683,\r\n",
      "            containerId: 'adfox_168173386396589028',\r\n",
      "            params: { p1: 'cxzbn', p2: 'iibk' }\r\n",
      "        });\r\n",
      "    })\r\n",
      "</script>\r\n",
      "<!--Тип баннера: portal right middle 240x200-->\r\n",
      "<div id=\"adfox_16817338660869469\"></div>\r\n",
      "<script>\r\n",
      "    window.yaContextCb.push(() => {\r\n",
      "        Ya.adfoxCode.create({\r\n",
      "            ownerId: 1464683,\r\n",
      "            containerId: 'adfox_16817338660869469',\r\n",
      "            params: { p1: 'cxzbo', p2: 'iibl' }\r\n",
      "        });\r\n",
      "    })\r\n",
      "</script>\r\n",
      "<!--Тип баннера: portal right middle 240x120-->\r\n",
      "<div id=\"adfox_168173386897027439\"></div>\r\n",
      "<script>\r\n",
      "    window.yaContextCb.push(() => {\r\n",
      "        Ya.adfoxCode.create({\r\n",
      "            ownerId: 1464683,\r\n",
      "            containerId: 'adfox_168173386897027439',\r\n",
      "            params: { p1: 'cxzbr', p2: 'iibm' }\r\n",
      "        });\r\n",
      "    })\r\n",
      "</script>\r\n",
      "<!--Тип баннера: portal right middle 240x60-->\r\n",
      "<div id=\"adfox_168173387120063137\"></div>\r\n",
      "<script>\r\n",
      "    window.yaContextCb.push(() => {\r\n",
      "        Ya.adfoxCode.create({\r\n",
      "            ownerId: 1464683,\r\n",
      "            containerId: 'adfox_168173387120063137',\r\n",
      "            params: { p1: 'cxzbs', p2: 'iibn' }\r\n",
      "        });\r\n",
      "    })\r\n",
      "</script>\r\n",
      "<div class=\"news_wrap\">\r\n",
      "    <div class=\"news\">\r\n",
      "    <div class=\"news_title\">Техническая информация</div>\r\n",
      "        <div class=\"time\">\r\n",
      "            <span class=\"date\">16.08.2023</span>\r\n",
      "            <span class=\"graytext\"></span>\r\n",
      "        </div>\r\n",
      "        <div class=\"listitem\">\r\n",
      "            <a class=\"blacklink\" href=\"/TechInfo/Index/84\">Сообщение о техническом сбое 16 августа 2023 года</a>\r\n",
      "        </div>\r\n",
      "        <div class=\"time\">\r\n",
      "            <span class=\"date\">04.08.2023</span>\r\n",
      "            <span class=\"graytext\"></span>\r\n",
      "        </div>\r\n",
      "        <div class=\"listitem\">\r\n",
      "            <a class=\"blacklink\" href=\"/TechInfo/Index/82\">О работе электронной подписи на сайте e-disclosure после 1 сентября 2023 года</a>\r\n",
      "        </div>\r\n",
      "        <div class=\"time\">\r\n",
      "            <span class=\"date\">26.07.2023</span>\r\n",
      "            <span class=\"graytext\"></span>\r\n",
      "        </div>\r\n",
      "        <div class=\"listitem\">\r\n",
      "            <a class=\"blacklink\" href=\"/TechInfo/Index/81\">Технические работы на сайте 26.07.2023</a>\r\n",
      "        </div>\r\n",
      "        <div class=\"time\">\r\n",
      "            <span class=\"date\">18.07.2023</span>\r\n",
      "            <span class=\"graytext\"></span>\r\n",
      "        </div>\r\n",
      "        <div class=\"listitem\">\r\n",
      "            <a class=\"blacklink\" href=\"/TechInfo/Index/80\">Технические работы на сайте 18.07.2023</a>\r\n",
      "        </div>\r\n",
      "        <div class=\"time\">\r\n",
      "            <span class=\"date\">25.06.2023</span>\r\n",
      "            <span class=\"graytext\"></span>\r\n",
      "        </div>\r\n",
      "        <div class=\"listitem\">\r\n",
      "            <a class=\"blacklink\" href=\"/TechInfo/Index/79\">Режим работы Службы раскрытия информации &quot;Интерфакса&quot; 26 июня 2023 года</a>\r\n",
      "        </div>\r\n",
      "</div>\r\n",
      "\r\n",
      "    <a class=\"all\" href=\"/TechInfo\">Все сообщения</a>\r\n",
      "</div>\r\n",
      "\r\n",
      "                </div>\r\n",
      "            </div>\r\n",
      "        </div>\r\n",
      "        <div id=\"modalLayout\"></div>\r\n",
      "        <input name=\"__RequestVerificationToken\" type=\"hidden\" value=\"c2EW4epAeDBmmHLsn_hdM3UHntyyF8EtiV4iF2m0gARriWQ0DVxMlTDB8bkcCtu_MNF3zSkxW9O8JC71t02s4bwhMwaZRimVESi_z72N3Ck1\" />\r\n",
      "        \r\n",
      "\r\n",
      "\r\n",
      "<div id=\"footer\">\r\n",
      "    <div id=\"social\" style=\"top: 3px;\">\r\n",
      "        \r\n",
      "        <a href=\"https://t.me/edisclosure\" target=\"_blank\" title=\"telegram\">\r\n",
      "            <img src=\"/Images/telegram.png\" width=\"30\" height=\"30\">\r\n",
      "        </a>\r\n",
      "    </div>\r\n",
      "    <div id=\"bot_menu\">\r\n",
      "        <ul class=\"menulist\">\r\n",
      "            <li><a class=\"dash\" href=\"/poisk-po-kompaniyam\">поиск по компаниям</a> </li>\r\n",
      "            <li><a class=\"dash\" href=\"/poisk-po-soobshheniyam\">поиск по сообщениям</a> </li>\r\n",
      "            <li><a class=\"dash\" href=\"/servisy-dlya-kompanij\">сервисы для компаний</a> </li>\r\n",
      "            <li><a class=\"dash\" href=\"/vse-o-raskrytii\">всё о раскрытии</a> </li>\r\n",
      "            <li><a href=\"/o-proekte\">о проекте</a> </li>\r\n",
      "        </ul>\r\n",
      "    </div>\r\n",
      "    <table class=\"noBorderTbl\">\r\n",
      "        <tbody>\r\n",
      "            <tr>\r\n",
      "                <td style=\"vertical-align:top; width:27%\" rowspan=\"3\">\r\n",
      "                    <p>\r\n",
      "                        Служба раскрытия информации Интерфакс-ЦРКИ:<br>\r\n",
      "                        тел.: +7 (495) 787-5213, 8-800-200-4818<br>\r\n",
      "                        email: <a href=\"mailto:dc1@e-disclosure.ru\">dc1@e-disclosure.ru</a>\r\n",
      "                    </p>\r\n",
      "                    <p>График работы: с 08.00 до 20.00 мск по рабочим дням</p>\r\n",
      "                </td>\r\n",
      "                <td style=\"height:30px\">\r\n",
      "                    <span class=\"dash\">© 2023 Интерфакс-ЦРКИ. Все права защищены </span>\r\n",
      "                    <span class=\"dash\">\r\n",
      "                        <a href=\"/PortalContent/DisplayPage/14\">Условия использования информации</a>\r\n",
      "                    </span>\r\n",
      "                    <span class=\"dash\">\r\n",
      "                        <a href=\"/politika-obrabotki-i-zashchity-personalnyh-dannyh\">Политика обработки и защиты персональных данных</a>\r\n",
      "                    </span>\r\n",
      "                    <span>Разработка:&nbsp;<a href=\"http://www.webfm.ru/\" target=\"_blank\">web.finmarket</a></span>\r\n",
      "                </td>\r\n",
      "            </tr>\r\n",
      "            <tr>\r\n",
      "                <td>\r\n",
      "                    Сетевое издание «Центр раскрытия корпоративной информации».\r\n",
      "                    Свидетельство о регистрации СМИ ЭЛ № ФС77-64320 выдано Федеральной службой по надзору в сфере связи,\r\n",
      "                    информационных технологий и массовых коммуникаций (Роскомнадзор) 25 декабря 2015 года. Учредитель ООО «Инфоком». Главный редактор Горбатова С.В.<br />12+\r\n",
      "                </td>\r\n",
      "            </tr>\r\n",
      "            <tr>\r\n",
      "                <td>\r\n",
      "                    <br />\r\n",
      "                    <!-- Top100 (Kraken) Widget -->\r\n",
      "                    <span id=\"top100_widget\" style=\"padding: 0; margin: 0;\"></span>\r\n",
      "                    \r\n",
      "                    <!-- Top100 (Kraken) Counter -->\r\n",
      "                    <script>\r\n",
      "                        (function (w, d, c) {\r\n",
      "                            (w[c] = w[c] || []).push(function () {\r\n",
      "                                var options = {\r\n",
      "                                    project: 2928424,\r\n",
      "                                    element: 'top100_widget',\r\n",
      "                                };\r\n",
      "                                try {\r\n",
      "                                    w.top100Counter = new top100(options);\r\n",
      "                                } catch (e) {\r\n",
      "                                }\r\n",
      "                            });\r\n",
      "                            var n = d.getElementsByTagName(\"script\")[0],\r\n",
      "                                s = d.createElement(\"script\"),\r\n",
      "                                f = function () { n.parentNode.insertBefore(s, n); };\r\n",
      "                            s.type = \"text/javascript\";\r\n",
      "                            s.async = true;\r\n",
      "                            s.src =\r\n",
      "                                (d.location.protocol == \"https:\" ? \"https:\" : \"http:\") +\r\n",
      "                                \"//st.top100.ru/top100/top100.js\";\r\n",
      "\r\n",
      "                            if (w.opera == \"[object Opera]\") {\r\n",
      "                                d.addEventListener(\"DOMContentLoaded\", f, false);\r\n",
      "                            } else { f(); }\r\n",
      "                        })(window, document, \"_top100q\");\r\n",
      "                    </script>\r\n",
      "                    <!-- END Top100 (Kraken) Counter -->\r\n",
      "                    <!-- END Top100 (Kraken) Widget -->\r\n",
      "                    <!-- Rating@Mail.ru logo -->\r\n",
      "                    <a style=\"text-decoration: none;\" href=\"http://top.mail.ru/jump?from=650834\">\r\n",
      "                        <img src=\"//top-fwz1.mail.ru/counter?id=650834;t=501;l=1\" style=\"border: 0;\" height=\"31\" width=\"88\" alt=\"Рейтинг@Mail.ru\" />\r\n",
      "                    </a>\r\n",
      "                    <!-- //Rating@Mail.ru logo -->\r\n",
      "                    <!-- Yandex.Metrika informer -->\r\n",
      "                    <a href=\"https://metrika.yandex.ru/stat/?id=53780800&amp;from=informer\"\r\n",
      "                       target=\"_blank\"\r\n",
      "                       rel=\"nofollow\"\r\n",
      "                       style=\"text-decoration: none;\">\r\n",
      "                        <img src=\"https://informer.yandex.ru/informer/53780800/3_0_FFFFFFFF_FFFFFFFF_0_pageviews\"\r\n",
      "                             style=\"width: 88px; height: 31px; border: 0;\"\r\n",
      "                             alt=\"Яндекс.Метрика\"\r\n",
      "                             title=\"Яндекс.Метрика: данные за сегодня (просмотры, визиты и уникальные посетители)\"\r\n",
      "                             class=\"ym-advanced-informer\"\r\n",
      "                             data-cid=\"53780800\"\r\n",
      "                             data-lang=\"ru\"/>\r\n",
      "                    </a>\r\n",
      "                    <!-- /Yandex.Metrika informer -->\r\n",
      "                </td>\r\n",
      "            </tr>\r\n",
      "        </tbody>\r\n",
      "    </table>\r\n",
      "</div>\r\n",
      "\r\n",
      "            <div id=\"CookieWarningPopup\">\r\n",
      "        На этом сайте используются файлы cookie. Оставаясь на www.e-disclosure.ru, Вы соглашаетесь с <a href=\"https://e-disclosure.ru/politika-obrabotki-i-zashchity-personalnyh-dannyh\" target=\"_blank\">Политикой обработки и защиты персональных данных</a>.\r\n",
      "        <button type=\"button\" id=\"AcceptCookieBtn\" class=\"button2\" style=\"margin-left: 5px;\">ОК</button>\r\n",
      "    </div>\r\n",
      "\r\n",
      "        <script src=\"/bundles/jquery?v=n5RC4OHM05-JohYDN8ywBrv_L6gKrVXu3x0azH5p_hk1\"></script>\r\n",
      "\r\n",
      "        <script src=\"/bundles/jqueryui?v=ygFHMzZBFNAWY1jBgY_Qyo-f4gpYQeYchrk2miAEc_o1\"></script>\r\n",
      "\r\n",
      "            <script type=\"text/javascript\">\r\n",
      "        $(function() {\r\n",
      "            var cookieAcceptedFlag = localStorage.getItem(\"cookie-accepted\");\r\n",
      "\r\n",
      "            if (cookieAcceptedFlag !== \"true\") {\r\n",
      "                $(\"#CookieWarningPopup\").show();\r\n",
      "\r\n",
      "                $(\"#AcceptCookieBtn\").click(function () {\r\n",
      "                    localStorage.setItem(\"cookie-accepted\", \"true\");\r\n",
      "\r\n",
      "                    $(\"#CookieWarningPopup\").hide();\r\n",
      "                });\r\n",
      "            }\r\n",
      "        });\r\n",
      "    </script>\r\n",
      "\r\n",
      "        <script src=\"/bundles/commonScripts?v=AoZeogos0qefIsuxNI4PB8tk0ebtZucvmpUQ1hEVV0o1\"></script>\r\n",
      "\r\n",
      "        \r\n",
      "    <script src=\"/bundles/register?v=LPInCQOzFGzpahbBDWEDpGsuPGVhaOzvilt8jhef6W41\"></script>\r\n",
      "\r\n",
      "    <script src=\"/Scripts/jquery.validate.min.js\"></script>\r\n",
      "\r\n",
      "\r\n",
      "    <script>\r\n",
      "        $(function () { edCompanySearch.start(); });\r\n",
      "        edValidation.init();\r\n",
      "        $(function () { edValidation.start(\"#searchForm\", \"#searchForm #errors\"); });\r\n",
      "    </script>\r\n",
      "    \r\n",
      "        <script>\r\n",
      "        $(function () {\r\n",
      "            if (12 > 0) {\r\n",
      "                edTabs\r\n",
      "                    .addTab({\r\n",
      "                        name: \"Существенные события\",\r\n",
      "                        handler: function() { edCompanyEventList.start(); }\r\n",
      "                    });\r\n",
      "            }\r\n",
      "\r\n",
      "            edTabs.init(\".tabs-control\", true);\r\n",
      "        });\r\n",
      "    </script>\r\n",
      ";\r\n",
      "        <script>\r\n",
      "        var params = {\r\n",
      "            url: \"https://e-disclosure.ru/portal/company.aspx?id=29792&amp;attempt=1\",\r\n",
      "            userIp: \"104.28.198.243\",\r\n",
      "            userAgent: \"python-requests/2.28.0\",\r\n",
      "            referrer: \"\",\r\n",
      "            browser: \"Unknown 0.0\",\r\n",
      "            targetResource: \"Main\",\r\n",
      "            parameter: \"29792\",\r\n",
      "            companyId: \"29792\",\r\n",
      "            logDate: \"2023-08-27 13:47:38.126\"\r\n",
      "        };\r\n",
      "\r\n",
      "        ym(53780800, \"params\", { params: params });\r\n",
      "    </script>\r\n",
      "\r\n",
      "\r\n",
      "\r\n",
      "    </body>\r\n",
      "</html>\r\n",
      "\n"
     ]
    }
   ],
   "source": [
    "#Пример использования requests.get:\n",
    "import requests\n",
    "\n",
    "#response = requests.get('https://www.example.com')\n",
    "response = requests.get('https://e-disclosure.ru/portal/company.aspx?id=29792')\n",
    "\n",
    "print(response.status_code)  # Выводит статус-код ответа\n",
    "print(response.headers)  # Выводит заголовки ответа\n",
    "print(response.text)  # Выводит тело ответа в виде текста, если вы хотите получить содержимое веб-страницы, вы можете использовать \n",
    "\n",
    "\n",
    "#В этом примере мы отправляем GET-запрос на https://www.example.com и сохраняем ответ в переменную response. Затем мы выводим статус-код ответа, заголовки и тело ответа."
   ]
  },
  {
   "cell_type": "code",
   "execution_count": 131,
   "metadata": {
    "colab": {
     "base_uri": "https://localhost:8080/"
    },
    "id": "rWDyWohJCKeJ",
    "outputId": "ba2bec7f-6845-4bfe-ab1e-ede7b2b5dcc2"
   },
   "outputs": [
    {
     "name": "stdout",
     "output_type": "stream",
     "text": [
      "200\n",
      "{'Date': 'Sun, 27 Aug 2023 10:49:35 GMT', 'Expires': '-1', 'Cache-Control': 'private, max-age=0', 'Content-Type': 'text/html; charset=ISO-8859-1', 'Content-Security-Policy-Report-Only': \"object-src 'none';base-uri 'self';script-src 'nonce-hfX9LsezIMAy7WDnt9T8FA' 'strict-dynamic' 'report-sample' 'unsafe-eval' 'unsafe-inline' https: http:;report-uri https://csp.withgoogle.com/csp/gws/other-hp\", 'P3P': 'CP=\"This is not a P3P policy! See g.co/p3phelp for more info.\"', 'Content-Encoding': 'gzip', 'Server': 'gws', 'X-XSS-Protection': '0', 'X-Frame-Options': 'SAMEORIGIN', 'Set-Cookie': '1P_JAR=2023-08-27-10; expires=Tue, 26-Sep-2023 10:49:35 GMT; path=/; domain=.google.com; Secure, AEC=Ad49MVEnvJGlKOtDMpg2EKtQjh8Vuc3gd2msqKydtY2crMDZr9FxT4z4gg; expires=Fri, 23-Feb-2024 10:49:35 GMT; path=/; domain=.google.com; Secure; HttpOnly; SameSite=lax, NID=511=Sk3bpIY_n9rzPhmHzSN_v-ZFb2bmwDObjZxj566Ebk-LLu-1rRzsQ7OsDB4tXtuIw9rwAo0oT-sn83yXhaIpVtQ3A75lCDa-LK3dY4yXOGIOxVtLWLRmPsYdwwS_7r9Ddh97haYamxp_CfjbvupNN85BWILFgDbEzLeKrxhPCeI; expires=Mon, 26-Feb-2024 10:49:35 GMT; path=/; domain=.google.com; HttpOnly', 'Alt-Svc': 'h3=\":443\"; ma=2592000,h3-29=\":443\"; ma=2592000', 'Transfer-Encoding': 'chunked'}\n",
      "<!doctype html><html itemscope=\"\" itemtype=\"http://schema.org/WebPage\" lang=\"ru\"><head><meta content=\"&#1055;&#1086;&#1080;&#1089;&#1082; &#1080;&#1085;&#1092;&#1086;&#1088;&#1084;&#1072;&#1094;&#1080;&#1080; &#1074; &#1080;&#1085;&#1090;&#1077;&#1088;&#1085;&#1077;&#1090;&#1077;: &#1074;&#1077;&#1073; &#1089;&#1090;&#1088;&#1072;&#1085;&#1080;&#1094;&#1099;, &#1082;&#1072;&#1088;&#1090;&#1080;&#1085;&#1082;&#1080;, &#1074;&#1080;&#1076;&#1077;&#1086; &#1080; &#1084;&#1085;&#1086;&#1075;&#1086;&#1077; &#1076;&#1088;&#1091;&#1075;&#1086;&#1077;.\" name=\"description\"><meta content=\"noodp\" name=\"robots\"><meta content=\"text/html; charset=UTF-8\" http-equiv=\"Content-Type\"><meta content=\"/images/branding/googleg/1x/googleg_standard_color_128dp.png\" itemprop=\"image\"><title>Google</title><script nonce=\"hfX9LsezIMAy7WDnt9T8FA\">(function(){var _g={kEI:'PyrrZKL3K5S29u8PvZCZiAo',kEXPI:'0,18168,1341241,6059,206,4804,2316,383,246,5,1129120,1197711,690,380089,16115,19398,9286,22431,1361,12320,17579,4998,17075,38444,2872,2891,561,3579,7614,606,29842,30848,16105,230,20583,4,3832,42126,13659,4437,22607,6630,7596,1,42154,2,39761,5679,1021,31121,4569,6258,23418,1246,25141,7929,2,2,1,24626,2006,8155,7381,15969,874,6577,13056,6,1923,9779,42459,20198,928,19209,14,82,20206,8377,18960,5403,3030,6110,9706,1804,13356,450,13286,6005,7423,6562,1632,2174,5777,5545,197,1296,11713,1992,5776,146,7653,1743,3346,3,9,4129,1271,993,1420,5210494,824,2,195,47,197,8797740,3311,141,795,19735,1,347,7540,720,23942225,578,4043528,16672,39283,1396,225,642,718,404,1397272,23759270,3856,4098,1,1257,3587,5848,482,1204,874,2880,1594,394,694,4174,4723,241,1965,9,2938,1300,3101,671,283,1535,861,669,63,2073,267,193,445,1159,383,1545,281,12,257,282,3,2814,407,11,476,12,1241,1090,284,1569,1793,1640,1469,369,521,280,83,35,156,202,36,244,778,65,361,1487,394,390,109,495,294,50,23,1470,2516,156,26,843,670,2231,2,25,2,175,899,106,779,1110,989,8,472,287,1086,331,50,880,14,54,710,411,264,310,79,56,470,38,502,4,44,186,2,119,94,75,51,14,1877,14,359,466,82,93,264,177,1549,86,189,750,29,788,467,69,4,658,228,57,250,203,201,89,13,1280,829,376,111,697,648,298,1650,2',kBL:'C3PC',kOPI:89978449};(function(){var a;(null==(a=window.google)?0:a.stvsc)?google.kEI=_g.kEI:window.google=_g;}).call(this);})();(function(){google.sn='webhp';google.kHL='ru';})();(function(){\n",
      "var h=this||self;function l(){return void 0!==window.google&&void 0!==window.google.kOPI&&0!==window.google.kOPI?window.google.kOPI:null};var m,n=[];function p(a){for(var b;a&&(!a.getAttribute||!(b=a.getAttribute(\"eid\")));)a=a.parentNode;return b||m}function q(a){for(var b=null;a&&(!a.getAttribute||!(b=a.getAttribute(\"leid\")));)a=a.parentNode;return b}function r(a){/^http:/i.test(a)&&\"https:\"===window.location.protocol&&(google.ml&&google.ml(Error(\"a\"),!1,{src:a,glmm:1}),a=\"\");return a}\n",
      "function t(a,b,c,d,k){var e=\"\";-1===b.search(\"&ei=\")&&(e=\"&ei=\"+p(d),-1===b.search(\"&lei=\")&&(d=q(d))&&(e+=\"&lei=\"+d));d=\"\";var g=-1===b.search(\"&cshid=\")&&\"slh\"!==a,f=[];f.push([\"zx\",Date.now().toString()]);h._cshid&&g&&f.push([\"cshid\",h._cshid]);c=c();null!=c&&f.push([\"opi\",c.toString()]);for(c=0;c<f.length;c++){if(0===c||0<c)d+=\"&\";d+=f[c][0]+\"=\"+f[c][1]}return\"/\"+(k||\"gen_204\")+\"?atyp=i&ct=\"+String(a)+\"&cad=\"+(b+e+d)};m=google.kEI;google.getEI=p;google.getLEI=q;google.ml=function(){return null};google.log=function(a,b,c,d,k,e){e=void 0===e?l:e;c||(c=t(a,b,e,d,k));if(c=r(c)){a=new Image;var g=n.length;n[g]=a;a.onerror=a.onload=a.onabort=function(){delete n[g]};a.src=c}};google.logUrl=function(a,b){b=void 0===b?l:b;return t(\"\",a,b)};}).call(this);(function(){google.y={};google.sy=[];google.x=function(a,b){if(a)var c=a.id;else{do c=Math.random();while(google.y[c])}google.y[c]=[a,b];return!1};google.sx=function(a){google.sy.push(a)};google.lm=[];google.plm=function(a){google.lm.push.apply(google.lm,a)};google.lq=[];google.load=function(a,b,c){google.lq.push([[a],b,c])};google.loadAll=function(a,b){google.lq.push([a,b])};google.bx=!1;google.lx=function(){};}).call(this);google.f={};(function(){\n",
      "document.documentElement.addEventListener(\"submit\",function(b){var a;if(a=b.target){var c=a.getAttribute(\"data-submitfalse\");a=\"1\"===c||\"q\"===c&&!a.elements.q.value?!0:!1}else a=!1;a&&(b.preventDefault(),b.stopPropagation())},!0);document.documentElement.addEventListener(\"click\",function(b){var a;a:{for(a=b.target;a&&a!==document.documentElement;a=a.parentElement)if(\"A\"===a.tagName){a=\"1\"===a.getAttribute(\"data-nohref\");break a}a=!1}a&&b.preventDefault()},!0);}).call(this);</script><style>#gbar,#guser{font-size:13px;padding-top:1px !important;}#gbar{height:22px}#guser{padding-bottom:7px !important;text-align:right}.gbh,.gbd{border-top:1px solid #c9d7f1;font-size:1px}.gbh{height:0;position:absolute;top:24px;width:100%}@media all{.gb1{height:22px;margin-right:.5em;vertical-align:top}#gbar{float:left}}a.gb1,a.gb4{text-decoration:underline !important}a.gb1,a.gb4{color:#00c !important}.gbi .gb4{color:#dd8e27 !important}.gbf .gb4{color:#900 !important}\n",
      "</style><style>body,td,a,p,.h{font-family:arial,sans-serif}body{margin:0;overflow-y:scroll}#gog{padding:3px 8px 0}td{line-height:.8em}.gac_m td{line-height:17px}form{margin-bottom:20px}.h{color:#1967d2}em{font-weight:bold;font-style:normal}.lst{height:25px;width:496px}.gsfi,.lst{font:18px arial,sans-serif}.gsfs{font:17px arial,sans-serif}.ds{display:inline-box;display:inline-block;margin:3px 0 4px;margin-left:4px}input{font-family:inherit}body{background:#fff;color:#000}a{color:#681da8;text-decoration:none}a:hover,a:active{text-decoration:underline}.fl a{color:#1967d2}a:visited{color:#681da8}.sblc{padding-top:5px}.sblc a{display:block;margin:2px 0;margin-left:13px;font-size:11px}.lsbb{background:#f8f9fa;border:solid 1px;border-color:#dadce0 #70757a #70757a #dadce0;height:30px}.lsbb{display:block}#WqQANb a{display:inline-block;margin:0 12px}.lsb{background:url(/images/nav_logo229.png) 0 -261px repeat-x;color:#000;border:none;cursor:pointer;height:30px;margin:0;outline:0;font:15px arial,sans-serif;vertical-align:top}.lsb:active{background:#dadce0}.lst:focus{outline:none}.Ucigb{width:458px}</style><script nonce=\"hfX9LsezIMAy7WDnt9T8FA\">(function(){window.google.erd={jsr:1,bv:1855,de:true};\n",
      "var l=this||self;var m,n=null!=(m=l.mei)?m:1,p,q=null!=(p=l.sdo)?p:!0,r=0,t,u=google.erd,v=u.jsr;google.ml=function(a,b,d,h,e){e=void 0===e?2:e;b&&(t=a&&a.message);if(google.dl)return google.dl(a,e,d),null;if(0>v){window.console&&console.error(a,d);if(-2===v)throw a;b=!1}else b=!a||!a.message||\"Error loading script\"===a.message||r>=n&&!h?!1:!0;if(!b)return null;r++;d=d||{};b=encodeURIComponent;var c=\"/gen_204?atyp=i&ei=\"+b(google.kEI);google.kEXPI&&(c+=\"&jexpid=\"+b(google.kEXPI));c+=\"&srcpg=\"+b(google.sn)+\"&jsr=\"+b(u.jsr)+\"&bver=\"+b(u.bv);var f=a.lineNumber;void 0!==f&&(c+=\"&line=\"+f);var g=\n",
      "a.fileName;g&&(0<g.indexOf(\"-extension:/\")&&(e=3),c+=\"&script=\"+b(g),f&&g===window.location.href&&(f=document.documentElement.outerHTML.split(\"\\n\")[f],c+=\"&cad=\"+b(f?f.substring(0,300):\"No script found.\")));c+=\"&cad=ple_\"+google.ple+\".aple_\"+google.aple;google.ple&&1===google.ple&&(e=2);c+=\"&jsel=\"+e;for(var k in d)c+=\"&\",c+=b(k),c+=\"=\",c+=b(d[k]);c=c+\"&emsg=\"+b(a.name+\": \"+a.message);c=c+\"&jsst=\"+b(a.stack||\"N/A\");12288<=c.length&&(c=c.substr(0,12288));a=c;h||google.log(0,\"\",a);return a};window.onerror=function(a,b,d,h,e){if(t!==a){a=e instanceof Error?e:Error(a);void 0===d||\"lineNumber\"in a||(a.lineNumber=d);void 0===b||\"fileName\"in a||(a.fileName=b);b=void 0;if(a.stack&&(-1!==a.stack.indexOf(\"?xjs=s0\")||-1!==a.stack.indexOf(\"&xjs=s0\"))){b=document.querySelectorAll(\"script[src*=\\\\/xjs\\\\/_\\\\/js\\\\/]\");for(h=d=0;h<b.length;h++)d+=b[h].async?1:0;var c=e=h=-1,f=-1,g=-1;if(performance&&google.xjsu){h=0;e=google.timers.load.t.xjsee?1:0;f=c=0;g=performance.getEntriesByType(\"resource\");for(var k=\n",
      "0;k<g.length;k++)-1!==g[k].name.indexOf(google.xjsu)&&(h=1),-1!==g[k].name.indexOf(\"/xjs/_/js/\")&&(c+=1,f+=\"script\"===g[k].initiatorType?1:0);g=c-f}b={cad:\"pl_\"+h+\".pe_\"+e+\".asc_\"+d+\".tsc_\"+b.length+\".fasc_\"+(b.length-d)+\".lxc_\"+c+\".lsx_\"+f+\".lnsx_\"+g}}google.ml(a,!1,b,!1,\"SyntaxError\"===a.name||\"SyntaxError\"===a.message.substring(0,11)||-1!==a.message.indexOf(\"Script error\")?3:0)}t=null;q&&r>=n&&(window.onerror=null)};})();</script></head><body bgcolor=\"#fff\"><script nonce=\"hfX9LsezIMAy7WDnt9T8FA\">(function(){var src='/images/nav_logo229.png';var iesg=false;document.body.onload = function(){window.n && window.n();if (document.images){new Image().src=src;}\n",
      "if (!iesg){document.f&&document.f.q.focus();document.gbqf&&document.gbqf.q.focus();}\n",
      "}\n",
      "})();</script><div id=\"mngb\"><div id=gbar><nobr><b class=gb1>&#1055;&#1086;&#1080;&#1089;&#1082;</b> <a class=gb1 href=\"https://www.google.com/imghp?hl=ru&tab=wi\">&#1050;&#1072;&#1088;&#1090;&#1080;&#1085;&#1082;&#1080;</a> <a class=gb1 href=\"https://maps.google.ru/maps?hl=ru&tab=wl\">&#1050;&#1072;&#1088;&#1090;&#1099;</a> <a class=gb1 href=\"https://play.google.com/?hl=ru&tab=w8\">Play</a> <a class=gb1 href=\"https://www.youtube.com/?tab=w1\">YouTube</a> <a class=gb1 href=\"https://news.google.com/?tab=wn\">&#1053;&#1086;&#1074;&#1086;&#1089;&#1090;&#1080;</a> <a class=gb1 href=\"https://mail.google.com/mail/?tab=wm\">&#1055;&#1086;&#1095;&#1090;&#1072;</a> <a class=gb1 href=\"https://drive.google.com/?tab=wo\">&#1044;&#1080;&#1089;&#1082;</a> <a class=gb1 style=\"text-decoration:none\" href=\"https://www.google.ru/intl/ru/about/products?tab=wh\"><u>&#1045;&#1097;&#1105;</u> &raquo;</a></nobr></div><div id=guser width=100%><nobr><span id=gbn class=gbi></span><span id=gbf class=gbf></span><span id=gbe></span><a href=\"http://www.google.ru/history/optout?hl=ru\" class=gb4>&#1048;&#1089;&#1090;&#1086;&#1088;&#1080;&#1103; &#1074;&#1077;&#1073;-&#1087;&#1086;&#1080;&#1089;&#1082;&#1072;</a> | <a  href=\"/preferences?hl=ru\" class=gb4>&#1053;&#1072;&#1089;&#1090;&#1088;&#1086;&#1081;&#1082;&#1080;</a> | <a target=_top id=gb_70 href=\"https://accounts.google.com/ServiceLogin?hl=ru&passive=true&continue=https://www.google.com/&ec=GAZAAQ\" class=gb4>&#1042;&#1086;&#1081;&#1090;&#1080;</a></nobr></div><div class=gbh style=left:0></div><div class=gbh style=right:0></div></div><center><br clear=\"all\" id=\"lgpd\"><div id=\"lga\"><img alt=\"Google\" height=\"92\" src=\"/images/branding/googlelogo/1x/googlelogo_white_background_color_272x92dp.png\" style=\"padding:28px 0 14px\" width=\"272\" id=\"hplogo\"><br><br></div><form action=\"/search\" name=\"f\"><table cellpadding=\"0\" cellspacing=\"0\"><tr valign=\"top\"><td width=\"25%\">&nbsp;</td><td align=\"center\" nowrap=\"\"><input name=\"ie\" value=\"ISO-8859-1\" type=\"hidden\"><input value=\"ru\" name=\"hl\" type=\"hidden\"><input name=\"source\" type=\"hidden\" value=\"hp\"><input name=\"biw\" type=\"hidden\"><input name=\"bih\" type=\"hidden\"><div class=\"ds\" style=\"height:32px;margin:4px 0\"><div style=\"position:relative;zoom:1\"><input class=\"lst Ucigb\" style=\"margin:0;padding:5px 8px 0 6px;vertical-align:top;color:#000;padding-right:38px\" autocomplete=\"off\" value=\"\" title=\"&#1055;&#1086;&#1080;&#1089;&#1082; &#1074; Google\" maxlength=\"2048\" name=\"q\" size=\"57\"><img src=\"/textinputassistant/tia.png\" style=\"position:absolute;cursor:pointer;right:5px;top:4px;z-index:300\" data-script-url=\"/textinputassistant/12/ru_tia.js\" id=\"tsuid_1\" alt=\"\" height=\"23\" width=\"27\"><script nonce=\"hfX9LsezIMAy7WDnt9T8FA\">(function(){var id='tsuid_1';document.getElementById(id).onclick = function(){var s = document.createElement('script');s.src = this.getAttribute('data-script-url');(document.getElementById('xjsc')||document.body).appendChild(s);};})();</script></div></div><br style=\"line-height:0\"><span class=\"ds\"><span class=\"lsbb\"><input class=\"lsb\" value=\"&#1055;&#1086;&#1080;&#1089;&#1082; &#1074; Google\" name=\"btnG\" type=\"submit\"></span></span><span class=\"ds\"><span class=\"lsbb\"><input class=\"lsb\" id=\"tsuid_2\" value=\"&#1052;&#1085;&#1077; &#1087;&#1086;&#1074;&#1077;&#1079;&#1105;&#1090;!\" name=\"btnI\" type=\"submit\"><script nonce=\"hfX9LsezIMAy7WDnt9T8FA\">(function(){var id='tsuid_2';document.getElementById(id).onclick = function(){if (this.form.q.value){this.checked = 1;if (this.form.iflsig)this.form.iflsig.disabled = false;}\n",
      "else top.location='/doodles/';};})();</script><input value=\"AD69kcEAAAAAZOs4T7wGb9NGDAVal5xkk4HTmA5MRUSZ\" name=\"iflsig\" type=\"hidden\"></span></span></td><td class=\"fl sblc\" align=\"left\" nowrap=\"\" width=\"25%\"><a href=\"/advanced_search?hl=ru&amp;authuser=0\">&#1056;&#1072;&#1089;&#1096;&#1080;&#1088;&#1077;&#1085;&#1085;&#1099;&#1081; &#1087;&#1086;&#1080;&#1089;&#1082;</a></td></tr></table><input id=\"gbv\" name=\"gbv\" type=\"hidden\" value=\"1\"><script nonce=\"hfX9LsezIMAy7WDnt9T8FA\">(function(){var a,b=\"1\";if(document&&document.getElementById)if(\"undefined\"!=typeof XMLHttpRequest)b=\"2\";else if(\"undefined\"!=typeof ActiveXObject){var c,d,e=[\"MSXML2.XMLHTTP.6.0\",\"MSXML2.XMLHTTP.3.0\",\"MSXML2.XMLHTTP\",\"Microsoft.XMLHTTP\"];for(c=0;d=e[c++];)try{new ActiveXObject(d),b=\"2\"}catch(h){}}a=b;if(\"2\"==a&&-1==location.search.indexOf(\"&gbv=2\")){var f=google.gbvu,g=document.getElementById(\"gbv\");g&&(g.value=a);f&&window.setTimeout(function(){location.href=f},0)};}).call(this);</script></form><div id=\"gac_scont\"></div><div style=\"font-size:83%;min-height:3.5em\"><br></div><span id=\"footer\"><div style=\"font-size:10pt\"><div style=\"margin:19px auto;text-align:center\" id=\"WqQANb\"><a href=\"/intl/ru/ads/\">&#1056;&#1077;&#1082;&#1083;&#1072;&#1084;&#1072;</a><a href=\"http://www.google.ru/intl/ru/services/\">&#1056;&#1077;&#1096;&#1077;&#1085;&#1080;&#1103; &#1076;&#1083;&#1103; &#1073;&#1080;&#1079;&#1085;&#1077;&#1089;&#1072;</a><a href=\"/intl/ru/about.html\">&#1042;&#1089;&#1105; &#1086; Google</a><a href=\"https://www.google.com/setprefdomain?prefdom=RU&amp;prev=https://www.google.ru/&amp;sig=K_gVDCNi65ehi5YWE7-5X51zQiRzw%3D\">Google.ru</a></div></div><p style=\"font-size:8pt;color:#70757a\">&copy; 2023 - <a href=\"/intl/ru/policies/privacy/\">&#1050;&#1086;&#1085;&#1092;&#1080;&#1076;&#1077;&#1085;&#1094;&#1080;&#1072;&#1083;&#1100;&#1085;&#1086;&#1089;&#1090;&#1100;</a> - <a href=\"/intl/ru/policies/terms/\">&#1059;&#1089;&#1083;&#1086;&#1074;&#1080;&#1103;</a></p></span></center><script nonce=\"hfX9LsezIMAy7WDnt9T8FA\">(function(){window.google.cdo={height:757,width:1440};(function(){var a=window.innerWidth,b=window.innerHeight;if(!a||!b){var c=window.document,d=\"CSS1Compat\"==c.compatMode?c.documentElement:c.body;a=d.clientWidth;b=d.clientHeight}\n",
      "if(a&&b&&(a!=google.cdo.width||b!=google.cdo.height)){var e=google,f=e.log,g=\"/client_204?&atyp=i&biw=\"+a+\"&bih=\"+b+\"&ei=\"+google.kEI,h=\"\",k=[],l=void 0!==window.google&&void 0!==window.google.kOPI&&0!==window.google.kOPI?window.google.kOPI:null;null!=l&&k.push([\"opi\",l.toString()]);for(var m=0;m<k.length;m++){if(0===m||0<m)h+=\"&\";h+=k[m][0]+\"=\"+k[m][1]}f.call(e,\"\",\"\",g+h)};}).call(this);})();</script> <script nonce=\"hfX9LsezIMAy7WDnt9T8FA\">(function(){google.xjs={ck:'xjs.hp.bz-T-XKwe2U.L.X.O',cs:'ACT90oGwnn0e4pE_Eg7hEk9bXn9aKFEfZA',cssopt:false,csss:'ACT90oFaK6GvMHN2T1ZlfHg_kZdFO7C0gQ',excm:[],sepcss:false};})();</script>     <script nonce=\"hfX9LsezIMAy7WDnt9T8FA\">(function(){var u='/xjs/_/js/k\\x3dxjs.hp.en.qwGt3OfhZw0.O/am\\x3dAAAAAAAAAAAAAAgAAAAAAAoABAQAAAAAAAAQAICOAACwAAAX/d\\x3d1/ed\\x3d1/rs\\x3dACT90oE2Fhd4-QJBb21gY09gBobYPBnMdg/m\\x3dsb_he,d,cEt90b,SNUn3,qddgKe,sTsDMc,dtl0hd,eHDfl';var amd=0;\n",
      "var e=this||self,f=function(a){return a};var g;var h=function(a){this.g=a};h.prototype.toString=function(){return this.g+\"\"};var k={};var l=function(){var a=document;var b=\"SCRIPT\";\"application/xhtml+xml\"===a.contentType&&(b=b.toLowerCase());return a.createElement(b)};\n",
      "function m(a,b){a.src=b instanceof h&&b.constructor===h?b.g:\"type_error:TrustedResourceUrl\";var c,d;(c=(b=null==(d=(c=(a.ownerDocument&&a.ownerDocument.defaultView||window).document).querySelector)?void 0:d.call(c,\"script[nonce]\"))?b.nonce||b.getAttribute(\"nonce\")||\"\":\"\")&&a.setAttribute(\"nonce\",c)};function n(a){a=null===a?\"null\":void 0===a?\"undefined\":a;if(void 0===g){var b=null;var c=e.trustedTypes;if(c&&c.createPolicy){try{b=c.createPolicy(\"goog#html\",{createHTML:f,createScript:f,createScriptURL:f})}catch(d){e.console&&e.console.error(d.message)}g=b}else g=b}a=(b=g)?b.createScriptURL(a):a;return new h(a,k)};void 0===google.ps&&(google.ps=[]);function p(){var a=u,b=function(){};google.lx=google.stvsc?b:function(){q(a);google.lx=b};google.bx||google.lx()}function r(a,b){b&&m(a,n(b));var c=a.onload;a.onload=function(d){c&&c(d);google.ps=google.ps.filter(function(t){return a!==t});google.arm&&google.arm[a.src]&&google.arm[a.src]()};google.ps.push(a);document.body.appendChild(a)}google.as=r;function q(a){google.timers&&google.timers.load&&google.tick&&google.tick(\"load\",\"xjsls\");var b=l();b.onerror=function(){google.ple=1};b.onload=function(){google.ple=0};google.xjsus=void 0;r(b,a);google.aple=-1;google.psa=!0};google.xjsu=u;e._F_jsUrl=u;setTimeout(function(){0<amd?google.caft(function(){return p()},amd):p()},0);})();window._ = window._ || {};window._DumpException = _._DumpException = function(e){throw e;};window._s = window._s || {};_s._DumpException = _._DumpException;window._qs = window._qs || {};_qs._DumpException = _._DumpException;(function(){window._F_toggles=[1,0,8388608,1048576,67111424,16,0,597688324,11534336,23552];})();function _F_installCss(c){}\n",
      "(function(){google.jl={blt:'none',chnk:0,dw:false,dwu:true,emtn:0,end:0,ico:false,ikb:0,ine:false,injs:'none',injt:0,injth:0,injv2:false,lls:'default',pdt:0,rep:0,snet:true,strt:0,ubm:false,uwp:true};})();(function(){var pmc='{\\x22d\\x22:{},\\x22sb_he\\x22:{\\x22agen\\x22:true,\\x22cgen\\x22:true,\\x22client\\x22:\\x22heirloom-hp\\x22,\\x22dh\\x22:true,\\x22ds\\x22:\\x22\\x22,\\x22fl\\x22:true,\\x22host\\x22:\\x22google.com\\x22,\\x22jsonp\\x22:true,\\x22msgs\\x22:{\\x22cibl\\x22:\\x22\\\\u0423\\\\u0434\\\\u0430\\\\u043b\\\\u0438\\\\u0442\\\\u044c \\\\u043f\\\\u043e\\\\u0438\\\\u0441\\\\u043a\\\\u043e\\\\u0432\\\\u044b\\\\u0439 \\\\u0437\\\\u0430\\\\u043f\\\\u0440\\\\u043e\\\\u0441\\x22,\\x22dym\\x22:\\x22\\\\u0412\\\\u043e\\\\u0437\\\\u043c\\\\u043e\\\\u0436\\\\u043d\\\\u043e, \\\\u0432\\\\u044b \\\\u0438\\\\u043c\\\\u0435\\\\u043b\\\\u0438 \\\\u0432 \\\\u0432\\\\u0438\\\\u0434\\\\u0443:\\x22,\\x22lcky\\x22:\\x22\\\\u041c\\\\u043d\\\\u0435 \\\\u043f\\\\u043e\\\\u0432\\\\u0435\\\\u0437\\\\u0451\\\\u0442!\\x22,\\x22lml\\x22:\\x22\\\\u041f\\\\u043e\\\\u0434\\\\u0440\\\\u043e\\\\u0431\\\\u043d\\\\u0435\\\\u0435...\\x22,\\x22psrc\\x22:\\x22\\\\u042d\\\\u0442\\\\u043e\\\\u0442 \\\\u0437\\\\u0430\\\\u043f\\\\u0440\\\\u043e\\\\u0441 \\\\u0431\\\\u044b\\\\u043b \\\\u0443\\\\u0434\\\\u0430\\\\u043b\\\\u0435\\\\u043d \\\\u0438\\\\u0437 \\\\u0432\\\\u0430\\\\u0448\\\\u0435\\\\u0439 \\\\u003Ca href\\x3d\\\\\\x22/history\\\\\\x22\\\\u003E\\\\u0438\\\\u0441\\\\u0442\\\\u043e\\\\u0440\\\\u0438\\\\u0438 \\\\u0432\\\\u0435\\\\u0431-\\\\u043f\\\\u043e\\\\u0438\\\\u0441\\\\u043a\\\\u0430\\\\u003C/a\\\\u003E\\x22,\\x22psrl\\x22:\\x22\\\\u0423\\\\u0434\\\\u0430\\\\u043b\\\\u0438\\\\u0442\\\\u044c\\x22,\\x22sbit\\x22:\\x22\\\\u041f\\\\u043e\\\\u0438\\\\u0441\\\\u043a \\\\u043f\\\\u043e \\\\u043a\\\\u0430\\\\u0440\\\\u0442\\\\u0438\\\\u043d\\\\u043a\\\\u0435\\x22,\\x22srch\\x22:\\x22\\\\u041f\\\\u043e\\\\u0438\\\\u0441\\\\u043a \\\\u0432 Google\\x22},\\x22ovr\\x22:{},\\x22pq\\x22:\\x22\\x22,\\x22rfs\\x22:[],\\x22sbas\\x22:\\x220 3px 8px 0 rgba(0,0,0,0.2),0 0 0 1px rgba(0,0,0,0.08)\\x22,\\x22stok\\x22:\\x22CP8NEXZgxeMt5K_L9K3Ljjs-3BQ\\x22}}';google.pmc=JSON.parse(pmc);})();(function(){\n",
      "var b=function(a){var c=0;return function(){return c<a.length?{done:!1,value:a[c++]}:{done:!0}}},e=this||self;var g,h;a:{for(var k=[\"CLOSURE_FLAGS\"],l=e,n=0;n<k.length;n++)if(l=l[k[n]],null==l){h=null;break a}h=l}var p=h&&h[610401301];g=null!=p?p:!1;var q,r=e.navigator;q=r?r.userAgentData||null:null;function t(a){return g?q?q.brands.some(function(c){return(c=c.brand)&&-1!=c.indexOf(a)}):!1:!1}function u(a){var c;a:{if(c=e.navigator)if(c=c.userAgent)break a;c=\"\"}return-1!=c.indexOf(a)};function v(){return g?!!q&&0<q.brands.length:!1}function w(){return u(\"Safari\")&&!(x()||(v()?0:u(\"Coast\"))||(v()?0:u(\"Opera\"))||(v()?0:u(\"Edge\"))||(v()?t(\"Microsoft Edge\"):u(\"Edg/\"))||(v()?t(\"Opera\"):u(\"OPR\"))||u(\"Firefox\")||u(\"FxiOS\")||u(\"Silk\")||u(\"Android\"))}function x(){return v()?t(\"Chromium\"):(u(\"Chrome\")||u(\"CriOS\"))&&!(v()?0:u(\"Edge\"))||u(\"Silk\")}function y(){return u(\"Android\")&&!(x()||u(\"Firefox\")||u(\"FxiOS\")||(v()?0:u(\"Opera\"))||u(\"Silk\"))};var z=v()?!1:u(\"Trident\")||u(\"MSIE\");y();x();w();var A=!z&&!w(),D=function(a){if(/-[a-z]/.test(\"ved\"))return null;if(A&&a.dataset){if(y()&&!(\"ved\"in a.dataset))return null;a=a.dataset.ved;return void 0===a?null:a}return a.getAttribute(\"data-\"+\"ved\".replace(/([A-Z])/g,\"-$1\").toLowerCase())};var E=[],F=null;function G(a){a=a.target;var c=performance.now(),f=[],H=f.concat,d=E;if(!(d instanceof Array)){var m=\"undefined\"!=typeof Symbol&&Symbol.iterator&&d[Symbol.iterator];if(m)d=m.call(d);else if(\"number\"==typeof d.length)d={next:b(d)};else throw Error(\"a`\"+String(d));for(var B=[];!(m=d.next()).done;)B.push(m.value);d=B}E=H.call(f,d,[c]);if(a&&a instanceof HTMLElement)if(a===F){if(c=4<=E.length)c=5>(E[E.length-1]-E[E.length-4])/1E3;if(c){c=google.getEI(a);a.hasAttribute(\"data-ved\")?f=a?D(a)||\"\":\"\":f=(f=\n",
      "a.closest(\"[data-ved]\"))?D(f)||\"\":\"\";f=f||\"\";if(a.hasAttribute(\"jsname\"))a=a.getAttribute(\"jsname\");else{var C;a=null==(C=a.closest(\"[jsname]\"))?void 0:C.getAttribute(\"jsname\")}google.log(\"rcm\",\"&ei=\"+c+\"&ved=\"+f+\"&jsname=\"+(a||\"\"))}}else F=a,E=[c]}window.document.addEventListener(\"DOMContentLoaded\",function(){document.body.addEventListener(\"click\",G)});}).call(this);</script></body></html>\n"
     ]
    }
   ],
   "source": [
    "# Делаем GET запрос к сайту\n",
    "response = requests.get('https://www.google.com')\n",
    "print(response.status_code)  # Выводит статус-код ответа\n",
    "print(response.headers)  # Выводит заголовки ответа\n",
    "print(response.text)  # Выводит тело ответа в виде текста"
   ]
  },
  {
   "cell_type": "code",
   "execution_count": 132,
   "metadata": {
    "colab": {
     "base_uri": "https://localhost:8080/",
     "height": 1000,
     "referenced_widgets": [
      "90a88a1d42034a47a991fea3d904581e",
      "d5e22d81df7d420c8eaa91d782689899",
      "733a42b8e9a442f9b825db6ec01cc11c",
      "df5624cb60d149028c78fefa03953002",
      "2f8c784c0f6d4b878e126e516c2b0023"
     ]
    },
    "id": "ajjaOh2DEZ6V",
    "outputId": "e7ad484e-cc71-4fe5-b2ad-1186f8cc46ca"
   },
   "outputs": [
    {
     "name": "stdout",
     "output_type": "stream",
     "text": [
      "Requirement already satisfied: ipywidgets in c:\\users\\omaka\\anaconda3\\lib\\site-packages (7.6.5)\n",
      "Requirement already satisfied: nbformat>=4.2.0 in c:\\users\\omaka\\anaconda3\\lib\\site-packages (from ipywidgets) (5.3.0)\n",
      "Requirement already satisfied: jupyterlab-widgets>=1.0.0 in c:\\users\\omaka\\anaconda3\\lib\\site-packages (from ipywidgets) (1.0.0)\n",
      "Requirement already satisfied: widgetsnbextension~=3.5.0 in c:\\users\\omaka\\anaconda3\\lib\\site-packages (from ipywidgets) (3.5.2)\n",
      "Requirement already satisfied: ipython-genutils~=0.2.0 in c:\\users\\omaka\\anaconda3\\lib\\site-packages (from ipywidgets) (0.2.0)\n",
      "Requirement already satisfied: ipython>=4.0.0 in c:\\users\\omaka\\anaconda3\\lib\\site-packages (from ipywidgets) (8.3.0)\n",
      "Requirement already satisfied: ipykernel>=4.5.1 in c:\\users\\omaka\\anaconda3\\lib\\site-packages (from ipywidgets) (6.9.1)\n",
      "Requirement already satisfied: traitlets>=4.3.1 in c:\\users\\omaka\\anaconda3\\lib\\site-packages (from ipywidgets) (5.1.1)\n",
      "Requirement already satisfied: tornado<7.0,>=4.2 in c:\\users\\omaka\\anaconda3\\lib\\site-packages (from ipykernel>=4.5.1->ipywidgets) (6.1)\n",
      "Requirement already satisfied: nest-asyncio in c:\\users\\omaka\\anaconda3\\lib\\site-packages (from ipykernel>=4.5.1->ipywidgets) (1.5.5)\n",
      "Requirement already satisfied: matplotlib-inline<0.2.0,>=0.1.0 in c:\\users\\omaka\\anaconda3\\lib\\site-packages (from ipykernel>=4.5.1->ipywidgets) (0.1.2)\n",
      "Requirement already satisfied: jupyter-client<8.0 in c:\\users\\omaka\\anaconda3\\lib\\site-packages (from ipykernel>=4.5.1->ipywidgets) (6.1.12)\n",
      "Requirement already satisfied: debugpy<2.0,>=1.0.0 in c:\\users\\omaka\\anaconda3\\lib\\site-packages (from ipykernel>=4.5.1->ipywidgets) (1.5.1)\n",
      "Requirement already satisfied: backcall in c:\\users\\omaka\\anaconda3\\lib\\site-packages (from ipython>=4.0.0->ipywidgets) (0.2.0)\n",
      "Requirement already satisfied: jedi>=0.16 in c:\\users\\omaka\\anaconda3\\lib\\site-packages (from ipython>=4.0.0->ipywidgets) (0.18.1)\n",
      "Requirement already satisfied: pickleshare in c:\\users\\omaka\\anaconda3\\lib\\site-packages (from ipython>=4.0.0->ipywidgets) (0.7.5)\n",
      "Requirement already satisfied: colorama in c:\\users\\omaka\\anaconda3\\lib\\site-packages (from ipython>=4.0.0->ipywidgets) (0.4.4)\n",
      "Requirement already satisfied: prompt-toolkit!=3.0.0,!=3.0.1,<3.1.0,>=2.0.0 in c:\\users\\omaka\\anaconda3\\lib\\site-packages (from ipython>=4.0.0->ipywidgets) (3.0.20)\n",
      "Requirement already satisfied: setuptools>=18.5 in c:\\users\\omaka\\anaconda3\\lib\\site-packages (from ipython>=4.0.0->ipywidgets) (61.2.0)\n",
      "Requirement already satisfied: pygments>=2.4.0 in c:\\users\\omaka\\anaconda3\\lib\\site-packages (from ipython>=4.0.0->ipywidgets) (2.11.2)\n",
      "Requirement already satisfied: decorator in c:\\users\\omaka\\anaconda3\\lib\\site-packages (from ipython>=4.0.0->ipywidgets) (5.1.1)\n",
      "Requirement already satisfied: stack-data in c:\\users\\omaka\\anaconda3\\lib\\site-packages (from ipython>=4.0.0->ipywidgets) (0.2.0)\n",
      "Requirement already satisfied: parso<0.9.0,>=0.8.0 in c:\\users\\omaka\\anaconda3\\lib\\site-packages (from jedi>=0.16->ipython>=4.0.0->ipywidgets) (0.8.3)\n",
      "Requirement already satisfied: pyzmq>=13 in c:\\users\\omaka\\anaconda3\\lib\\site-packages (from jupyter-client<8.0->ipykernel>=4.5.1->ipywidgets) (22.3.0)\n",
      "Requirement already satisfied: jupyter-core>=4.6.0 in c:\\users\\omaka\\anaconda3\\lib\\site-packages (from jupyter-client<8.0->ipykernel>=4.5.1->ipywidgets) (4.10.0)\n",
      "Requirement already satisfied: python-dateutil>=2.1 in c:\\users\\omaka\\anaconda3\\lib\\site-packages (from jupyter-client<8.0->ipykernel>=4.5.1->ipywidgets) (2.8.2)\n",
      "Requirement already satisfied: pywin32>=1.0 in c:\\users\\omaka\\anaconda3\\lib\\site-packages (from jupyter-core>=4.6.0->jupyter-client<8.0->ipykernel>=4.5.1->ipywidgets) (302)\n",
      "Requirement already satisfied: jsonschema>=2.6 in c:\\users\\omaka\\anaconda3\\lib\\site-packages (from nbformat>=4.2.0->ipywidgets) (4.4.0)\n",
      "Requirement already satisfied: fastjsonschema in c:\\users\\omaka\\anaconda3\\lib\\site-packages (from nbformat>=4.2.0->ipywidgets) (2.15.1)\n",
      "Requirement already satisfied: pyrsistent!=0.17.0,!=0.17.1,!=0.17.2,>=0.14.0 in c:\\users\\omaka\\anaconda3\\lib\\site-packages (from jsonschema>=2.6->nbformat>=4.2.0->ipywidgets) (0.18.0)\n",
      "Requirement already satisfied: attrs>=17.4.0 in c:\\users\\omaka\\anaconda3\\lib\\site-packages (from jsonschema>=2.6->nbformat>=4.2.0->ipywidgets) (21.4.0)\n",
      "Requirement already satisfied: wcwidth in c:\\users\\omaka\\anaconda3\\lib\\site-packages (from prompt-toolkit!=3.0.0,!=3.0.1,<3.1.0,>=2.0.0->ipython>=4.0.0->ipywidgets) (0.2.5)\n",
      "Requirement already satisfied: six>=1.5 in c:\\users\\omaka\\anaconda3\\lib\\site-packages (from python-dateutil>=2.1->jupyter-client<8.0->ipykernel>=4.5.1->ipywidgets) (1.16.0)\n",
      "Requirement already satisfied: notebook>=4.4.1 in c:\\users\\omaka\\anaconda3\\lib\\site-packages (from widgetsnbextension~=3.5.0->ipywidgets) (6.4.8)\n",
      "Requirement already satisfied: jinja2 in c:\\users\\omaka\\anaconda3\\lib\\site-packages (from notebook>=4.4.1->widgetsnbextension~=3.5.0->ipywidgets) (2.11.3)\n",
      "Requirement already satisfied: nbconvert in c:\\users\\omaka\\anaconda3\\lib\\site-packages (from notebook>=4.4.1->widgetsnbextension~=3.5.0->ipywidgets) (6.4.4)\n",
      "Requirement already satisfied: prometheus-client in c:\\users\\omaka\\anaconda3\\lib\\site-packages (from notebook>=4.4.1->widgetsnbextension~=3.5.0->ipywidgets) (0.13.1)\n",
      "Requirement already satisfied: Send2Trash>=1.8.0 in c:\\users\\omaka\\anaconda3\\lib\\site-packages (from notebook>=4.4.1->widgetsnbextension~=3.5.0->ipywidgets) (1.8.0)\n",
      "Requirement already satisfied: argon2-cffi in c:\\users\\omaka\\anaconda3\\lib\\site-packages (from notebook>=4.4.1->widgetsnbextension~=3.5.0->ipywidgets) (21.3.0)\n",
      "Requirement already satisfied: terminado>=0.8.3 in c:\\users\\omaka\\anaconda3\\lib\\site-packages (from notebook>=4.4.1->widgetsnbextension~=3.5.0->ipywidgets) (0.13.1)\n",
      "Requirement already satisfied: pywinpty>=1.1.0 in c:\\users\\omaka\\anaconda3\\lib\\site-packages (from terminado>=0.8.3->notebook>=4.4.1->widgetsnbextension~=3.5.0->ipywidgets) (2.0.2)\n",
      "Requirement already satisfied: argon2-cffi-bindings in c:\\users\\omaka\\anaconda3\\lib\\site-packages (from argon2-cffi->notebook>=4.4.1->widgetsnbextension~=3.5.0->ipywidgets) (21.2.0)\n",
      "Requirement already satisfied: cffi>=1.0.1 in c:\\users\\omaka\\anaconda3\\lib\\site-packages (from argon2-cffi-bindings->argon2-cffi->notebook>=4.4.1->widgetsnbextension~=3.5.0->ipywidgets) (1.15.0)\n",
      "Requirement already satisfied: pycparser in c:\\users\\omaka\\anaconda3\\lib\\site-packages (from cffi>=1.0.1->argon2-cffi-bindings->argon2-cffi->notebook>=4.4.1->widgetsnbextension~=3.5.0->ipywidgets) (2.21)\n",
      "Requirement already satisfied: MarkupSafe>=0.23 in c:\\users\\omaka\\anaconda3\\lib\\site-packages (from jinja2->notebook>=4.4.1->widgetsnbextension~=3.5.0->ipywidgets) (2.1.1)\n",
      "Requirement already satisfied: mistune<2,>=0.8.1 in c:\\users\\omaka\\anaconda3\\lib\\site-packages (from nbconvert->notebook>=4.4.1->widgetsnbextension~=3.5.0->ipywidgets) (0.8.4)\n",
      "Requirement already satisfied: beautifulsoup4 in c:\\users\\omaka\\anaconda3\\lib\\site-packages (from nbconvert->notebook>=4.4.1->widgetsnbextension~=3.5.0->ipywidgets) (4.11.1)\n",
      "Requirement already satisfied: nbclient<0.6.0,>=0.5.0 in c:\\users\\omaka\\anaconda3\\lib\\site-packages (from nbconvert->notebook>=4.4.1->widgetsnbextension~=3.5.0->ipywidgets) (0.5.13)\n",
      "Requirement already satisfied: defusedxml in c:\\users\\omaka\\anaconda3\\lib\\site-packages (from nbconvert->notebook>=4.4.1->widgetsnbextension~=3.5.0->ipywidgets) (0.7.1)\n",
      "Requirement already satisfied: bleach in c:\\users\\omaka\\anaconda3\\lib\\site-packages (from nbconvert->notebook>=4.4.1->widgetsnbextension~=3.5.0->ipywidgets) (4.1.0)\n",
      "Requirement already satisfied: jupyterlab-pygments in c:\\users\\omaka\\anaconda3\\lib\\site-packages (from nbconvert->notebook>=4.4.1->widgetsnbextension~=3.5.0->ipywidgets) (0.1.2)\n",
      "Requirement already satisfied: entrypoints>=0.2.2 in c:\\users\\omaka\\anaconda3\\lib\\site-packages (from nbconvert->notebook>=4.4.1->widgetsnbextension~=3.5.0->ipywidgets) (0.4)\n",
      "Requirement already satisfied: pandocfilters>=1.4.1 in c:\\users\\omaka\\anaconda3\\lib\\site-packages (from nbconvert->notebook>=4.4.1->widgetsnbextension~=3.5.0->ipywidgets) (1.5.0)\n",
      "Requirement already satisfied: testpath in c:\\users\\omaka\\anaconda3\\lib\\site-packages (from nbconvert->notebook>=4.4.1->widgetsnbextension~=3.5.0->ipywidgets) (0.6.0)\n",
      "Requirement already satisfied: soupsieve>1.2 in c:\\users\\omaka\\anaconda3\\lib\\site-packages (from beautifulsoup4->nbconvert->notebook>=4.4.1->widgetsnbextension~=3.5.0->ipywidgets) (2.3.1)\n",
      "Requirement already satisfied: packaging in c:\\users\\omaka\\anaconda3\\lib\\site-packages (from bleach->nbconvert->notebook>=4.4.1->widgetsnbextension~=3.5.0->ipywidgets) (21.3)\n",
      "Requirement already satisfied: webencodings in c:\\users\\omaka\\anaconda3\\lib\\site-packages (from bleach->nbconvert->notebook>=4.4.1->widgetsnbextension~=3.5.0->ipywidgets) (0.5.1)\n",
      "Requirement already satisfied: pyparsing!=3.0.5,>=2.0.2 in c:\\users\\omaka\\anaconda3\\lib\\site-packages (from packaging->bleach->nbconvert->notebook>=4.4.1->widgetsnbextension~=3.5.0->ipywidgets) (3.0.4)\n",
      "Requirement already satisfied: asttokens in c:\\users\\omaka\\anaconda3\\lib\\site-packages (from stack-data->ipython>=4.0.0->ipywidgets) (2.0.5)\n",
      "Requirement already satisfied: pure-eval in c:\\users\\omaka\\anaconda3\\lib\\site-packages (from stack-data->ipython>=4.0.0->ipywidgets) (0.2.2)\n",
      "Requirement already satisfied: executing in c:\\users\\omaka\\anaconda3\\lib\\site-packages (from stack-data->ipython>=4.0.0->ipywidgets) (0.8.3)\n"
     ]
    },
    {
     "data": {
      "application/vnd.jupyter.widget-view+json": {
       "model_id": "2c95edfd351a42b3b622c1433d6a7c18",
       "version_major": 2,
       "version_minor": 0
      },
      "text/plain": [
       "Button(description='Click Me!', style=ButtonStyle())"
      ]
     },
     "metadata": {},
     "output_type": "display_data"
    },
    {
     "data": {
      "application/vnd.jupyter.widget-view+json": {
       "model_id": "878f7fd8c4304f3d90d0f48c0473f5a1",
       "version_major": 2,
       "version_minor": 0
      },
      "text/plain": [
       "Output()"
      ]
     },
     "metadata": {},
     "output_type": "display_data"
    }
   ],
   "source": [
    "#Tkinter не поддерживается нативно в Google Colab, так как Colab предоставляет только интерфейс командной строки. Однако вы можете использовать библиотеку IPython для создания простых графических интерфейсов в Colab.\n",
    "\n",
    "#Вот пример использования IPython для создания простого графического интерфейса в Colab:\n",
    "\n",
    "!pip install ipywidgets\n",
    "\n",
    "import ipywidgets as widgets\n",
    "from IPython.display import display\n",
    "\n",
    "button = widgets.Button(description=\"Click Me!\")\n",
    "output = widgets.Output()\n",
    "\n",
    "def on_button_click(b):\n",
    "    with output:\n",
    "        print(\"Button clicked!\")\n",
    "\n",
    "button.on_click(on_button_click)\n",
    "\n",
    "display(button, output)\n",
    "\n",
    "\n",
    "#Этот код создает кнопку \"Click Me!\" и выводит сообщение \"Button clicked!\" в ячейке вывода при нажатии на кнопку.\n",
    "#Вы можете изменить код, чтобы создать более сложные интерфейсы с другими виджетами, такими как текстовые поля, выпадающие списки и т. д.\n",
    "\n",
    "#Обратите внимание, что это не полноценная замена Tkinter и не поддерживает все функции Tkinter.\n",
    "#Однако, если вам нужно создать простой графический интерфейс для взаимодействия с вашим кодом в Colab, IPython и ipywidgets могут быть полезными инструментами."
   ]
  },
  {
   "cell_type": "code",
   "execution_count": 133,
   "metadata": {
    "colab": {
     "base_uri": "https://localhost:8080/"
    },
    "id": "xAQi0_vnJ0K-",
    "outputId": "dbb1c12d-2d09-4ee2-bb06-7c43fcc8294e"
   },
   "outputs": [
    {
     "name": "stdout",
     "output_type": "stream",
     "text": [
      "Текущая версия API: https://api.github.com/user\n"
     ]
    }
   ],
   "source": [
    "import requests\n",
    "\n",
    "# Получение и обработка JSON-ответа от API\n",
    "response = requests.get('https://api.github.com')\n",
    "\n",
    "if response.status_code == 200:\n",
    "    json_response = response.json()\n",
    "\n",
    "    print(f\"Текущая версия API: {json_response.get('current_user_url')}\")\n",
    "else:\n",
    "    print(\"Не удалось получить ответ от API.\")"
   ]
  },
  {
   "cell_type": "code",
   "execution_count": 134,
   "metadata": {
    "colab": {
     "base_uri": "https://localhost:8080/"
    },
    "id": "hqOyy_9PJ0QO",
    "outputId": "80ccba43-1f6d-48b7-bbc2-71682f83516d"
   },
   "outputs": [
    {
     "name": "stdout",
     "output_type": "stream",
     "text": [
      "Площадь круга с радиусом 1.5 равна 7.0683750000000005\n"
     ]
    }
   ],
   "source": [
    "def area_of_circle(radius):\n",
    "    # Функция для вычисления площади круга\n",
    "    area = 3.1415 * (radius ** 2)\n",
    "    return area\n",
    "\n",
    "r = 1.5\n",
    "print(f\"Площадь круга с радиусом {r} равна {area_of_circle(r)}\")"
   ]
  },
  {
   "cell_type": "code",
   "execution_count": 135,
   "metadata": {
    "colab": {
     "base_uri": "https://localhost:8080/"
    },
    "id": "Ht4biuUiJswk",
    "outputId": "ffc9946e-a79d-42b4-d4fd-f83cf7617bf5"
   },
   "outputs": [
    {
     "name": "stdout",
     "output_type": "stream",
     "text": [
      "Перевернутая строка: !dlroW ,olleH\n"
     ]
    }
   ],
   "source": [
    "def reverse_string(input_string):\n",
    "    # Функция для переворачивания строки\n",
    "    return input_string[::-1]\n",
    "\n",
    "s = \"Hello, World!\"\n",
    "print(f\"Перевернутая строка: {reverse_string(s)}\")"
   ]
  },
  {
   "cell_type": "code",
   "execution_count": 136,
   "metadata": {
    "colab": {
     "base_uri": "https://localhost:8080/"
    },
    "id": "M3vnNNsBIdBa",
    "outputId": "aaab2251-7b11-4506-f37c-5cad28b474fa"
   },
   "outputs": [
    {
     "name": "stdout",
     "output_type": "stream",
     "text": [
      "Число 18 не является простым\n"
     ]
    }
   ],
   "source": [
    "def is_prime(n):\n",
    "    # Функция для проверки, является ли число простым\n",
    "    if n < 2:\n",
    "        return False\n",
    "    for i in range(2, int(n**0.5) + 1):\n",
    "        if n % i == 0:\n",
    "            return False\n",
    "    return True\n",
    "\n",
    "num = 18\n",
    "if is_prime(num):\n",
    "    print(f\"Число {num} является простым\")\n",
    "else:\n",
    "    print(f\"Число {num} не является простым\")"
   ]
  },
  {
   "cell_type": "code",
   "execution_count": 137,
   "metadata": {
    "colab": {
     "base_uri": "https://localhost:8080/"
    },
    "id": "AoYOAlqJKAIy",
    "outputId": "b19ea53d-dab5-4464-97f0-09fde70cc81a"
   },
   "outputs": [
    {
     "name": "stdout",
     "output_type": "stream",
     "text": [
      "Максимальное значение в списке: 112\n"
     ]
    }
   ],
   "source": [
    "def find_max(input_list):\n",
    "    # Функция для нахождения максимального элемента в списке\n",
    "    return max(input_list)\n",
    "\n",
    "lst = [5, 3, 2, 9, 7, 100, 12, 112 ]\n",
    "print(f\"Максимальное значение в списке: {find_max(lst)}\")"
   ]
  },
  {
   "cell_type": "code",
   "execution_count": 138,
   "metadata": {
    "colab": {
     "base_uri": "https://localhost:8080/"
    },
    "id": "X3RvrkGZKAL4",
    "outputId": "2871d78d-b3c8-4ee7-f685-36bddabca75c"
   },
   "outputs": [
    {
     "name": "stdout",
     "output_type": "stream",
     "text": [
      "Факториал числа 5 равен 120\n"
     ]
    }
   ],
   "source": [
    "def factorial(n):\n",
    "    # Функция для вычисления факториала числа\n",
    "    if n == 0:\n",
    "        return 1\n",
    "    else:\n",
    "        return n * factorial(n-1)\n",
    "\n",
    "num = 5\n",
    "print(f\"Факториал числа {num} равен {factorial(num)}\")"
   ]
  },
  {
   "cell_type": "code",
   "execution_count": 139,
   "metadata": {
    "colab": {
     "base_uri": "https://localhost:8080/"
    },
    "id": "7gTlm4SnKARr",
    "outputId": "cd557f90-fdea-4664-90f7-7adbe8a13fd1"
   },
   "outputs": [
    {
     "name": "stdout",
     "output_type": "stream",
     "text": [
      "Первые 10 чисел последовательности Фибоначчи: [0, 1, 1, 2, 3, 5, 8, 13, 21, 34]\n"
     ]
    }
   ],
   "source": [
    "def fibonacci(n):\n",
    "    # Функция для генерации первых n чисел последовательности Фибоначчи\n",
    "    sequence = [0, 1]\n",
    "    while len(sequence) < n:\n",
    "        sequence.append(sequence[-1] + sequence[-2])\n",
    "    return sequence\n",
    "\n",
    "num = 10\n",
    "print(f\"Первые {num} чисел последовательности Фибоначчи: {fibonacci(num)}\")"
   ]
  },
  {
   "cell_type": "code",
   "execution_count": 140,
   "metadata": {
    "colab": {
     "base_uri": "https://localhost:8080/"
    },
    "id": "Jqozr2PeKFtx",
    "outputId": "c16b3a13-ff4d-4363-d1c0-ba5d30f48bbb"
   },
   "outputs": [
    {
     "name": "stdout",
     "output_type": "stream",
     "text": [
      "Отсортированный список: [11, 12, 22, 25, 34, 64, 90]\n"
     ]
    }
   ],
   "source": [
    "def bubble_sort(lst):\n",
    "    # Функция для сортировки списка чисел с помощью алгоритма сортировки пузырьком\n",
    "    for i in range(len(lst)):\n",
    "        for j in range(len(lst) - 1):\n",
    "            if lst[j] > lst[j + 1]:\n",
    "                lst[j], lst[j + 1] = lst[j + 1], lst[j]\n",
    "    return lst\n",
    "\n",
    "numbers = [64, 34, 25, 12, 22, 11, 90]\n",
    "print(f\"Отсортированный список: {bubble_sort(numbers)}\")"
   ]
  },
  {
   "cell_type": "code",
   "execution_count": 141,
   "metadata": {
    "colab": {
     "base_uri": "https://localhost:8080/"
    },
    "id": "6jw0zwjbKFwj",
    "outputId": "7c69b22b-2781-4f04-e912-0873366e7f1f"
   },
   "outputs": [
    {
     "name": "stdout",
     "output_type": "stream",
     "text": [
      "Фраза \"A man, a plan, a canal: Panama\" является палиндромом\n"
     ]
    }
   ],
   "source": [
    "def is_palindrome(s):\n",
    "    # Функция для проверки, является ли данное слово или фраза палиндромом\n",
    "    s = ''.join(filter(str.isalnum, s)).lower()  # Удаляем пробелы, пунктуацию и приводим к нижнему регистру\n",
    "    return s == s[::-1]\n",
    "\n",
    "phrase = \"A man, a plan, a canal: Panama\"\n",
    "if is_palindrome(phrase):\n",
    "    print(f\"Фраза \\\"{phrase}\\\" является палиндромом\")\n",
    "else:\n",
    "    print(f\"Фраза \\\"{phrase}\\\" не является палиндромом\")"
   ]
  },
  {
   "cell_type": "code",
   "execution_count": 48,
   "metadata": {
    "colab": {
     "base_uri": "https://localhost:8080/"
    },
    "id": "P03r8mCtKAXB",
    "outputId": "429f5d53-52b7-487b-ad6e-22d2c4a28e0b"
   },
   "outputs": [
    {
     "name": "stdout",
     "output_type": "stream",
     "text": [
      "Все перестановки строки \"Gerard\": ['Gerard', 'Geradr', 'Gerrad', 'Gerrda', 'Gerdar', 'Gerdra', 'Gearrd', 'Geardr', 'Gearrd', 'Geardr', 'Geadrr', 'Geadrr', 'Gerrad', 'Gerrda', 'Gerard', 'Geradr', 'Gerdra', 'Gerdar', 'Gedrar', 'Gedrra', 'Gedarr', 'Gedarr', 'Gedrra', 'Gedrar', 'Greard', 'Greadr', 'Grerad', 'Grerda', 'Gredar', 'Gredra', 'Graerd', 'Graedr', 'Grared', 'Grarde', 'Grader', 'Gradre', 'Grread', 'Grreda', 'Grraed', 'Grrade', 'Grrdea', 'Grrdae', 'Grdear', 'Grdera', 'Grdaer', 'Grdare', 'Grdrea', 'Grdrae', 'Gaerrd', 'Gaerdr', 'Gaerrd', 'Gaerdr', 'Gaedrr', 'Gaedrr', 'Garerd', 'Garedr', 'Garred', 'Garrde', 'Garder', 'Gardre', 'Garerd', 'Garedr', 'Garred', 'Garrde', 'Garder', 'Gardre', 'Gaderr', 'Gaderr', 'Gadrer', 'Gadrre', 'Gadrer', 'Gadrre', 'Grerad', 'Grerda', 'Greard', 'Greadr', 'Gredra', 'Gredar', 'Grread', 'Grreda', 'Grraed', 'Grrade', 'Grrdea', 'Grrdae', 'Graerd', 'Graedr', 'Grared', 'Grarde', 'Grader', 'Gradre', 'Grdera', 'Grdear', 'Grdrea', 'Grdrae', 'Grdaer', 'Grdare', 'Gderar', 'Gderra', 'Gdearr', 'Gdearr', 'Gderra', 'Gderar', 'Gdrear', 'Gdrera', 'Gdraer', 'Gdrare', 'Gdrrea', 'Gdrrae', 'Gdaerr', 'Gdaerr', 'Gdarer', 'Gdarre', 'Gdarer', 'Gdarre', 'Gdrera', 'Gdrear', 'Gdrrea', 'Gdrrae', 'Gdraer', 'Gdrare', 'eGrard', 'eGradr', 'eGrrad', 'eGrrda', 'eGrdar', 'eGrdra', 'eGarrd', 'eGardr', 'eGarrd', 'eGardr', 'eGadrr', 'eGadrr', 'eGrrad', 'eGrrda', 'eGrard', 'eGradr', 'eGrdra', 'eGrdar', 'eGdrar', 'eGdrra', 'eGdarr', 'eGdarr', 'eGdrra', 'eGdrar', 'erGard', 'erGadr', 'erGrad', 'erGrda', 'erGdar', 'erGdra', 'eraGrd', 'eraGdr', 'erarGd', 'erardG', 'eradGr', 'eradrG', 'errGad', 'errGda', 'erraGd', 'erradG', 'errdGa', 'errdaG', 'erdGar', 'erdGra', 'erdaGr', 'erdarG', 'erdrGa', 'erdraG', 'eaGrrd', 'eaGrdr', 'eaGrrd', 'eaGrdr', 'eaGdrr', 'eaGdrr', 'earGrd', 'earGdr', 'earrGd', 'earrdG', 'eardGr', 'eardrG', 'earGrd', 'earGdr', 'earrGd', 'earrdG', 'eardGr', 'eardrG', 'eadGrr', 'eadGrr', 'eadrGr', 'eadrrG', 'eadrGr', 'eadrrG', 'erGrad', 'erGrda', 'erGard', 'erGadr', 'erGdra', 'erGdar', 'errGad', 'errGda', 'erraGd', 'erradG', 'errdGa', 'errdaG', 'eraGrd', 'eraGdr', 'erarGd', 'erardG', 'eradGr', 'eradrG', 'erdGra', 'erdGar', 'erdrGa', 'erdraG', 'erdaGr', 'erdarG', 'edGrar', 'edGrra', 'edGarr', 'edGarr', 'edGrra', 'edGrar', 'edrGar', 'edrGra', 'edraGr', 'edrarG', 'edrrGa', 'edrraG', 'edaGrr', 'edaGrr', 'edarGr', 'edarrG', 'edarGr', 'edarrG', 'edrGra', 'edrGar', 'edrrGa', 'edrraG', 'edraGr', 'edrarG', 'rGeard', 'rGeadr', 'rGerad', 'rGerda', 'rGedar', 'rGedra', 'rGaerd', 'rGaedr', 'rGared', 'rGarde', 'rGader', 'rGadre', 'rGread', 'rGreda', 'rGraed', 'rGrade', 'rGrdea', 'rGrdae', 'rGdear', 'rGdera', 'rGdaer', 'rGdare', 'rGdrea', 'rGdrae', 'reGard', 'reGadr', 'reGrad', 'reGrda', 'reGdar', 'reGdra', 'reaGrd', 'reaGdr', 'rearGd', 'reardG', 'readGr', 'readrG', 'rerGad', 'rerGda', 'reraGd', 'reradG', 'rerdGa', 'rerdaG', 'redGar', 'redGra', 'redaGr', 'redarG', 'redrGa', 'redraG', 'raGerd', 'raGedr', 'raGred', 'raGrde', 'raGder', 'raGdre', 'raeGrd', 'raeGdr', 'raerGd', 'raerdG', 'raedGr', 'raedrG', 'rarGed', 'rarGde', 'rareGd', 'raredG', 'rardGe', 'rardeG', 'radGer', 'radGre', 'radeGr', 'raderG', 'radrGe', 'radreG', 'rrGead', 'rrGeda', 'rrGaed', 'rrGade', 'rrGdea', 'rrGdae', 'rreGad', 'rreGda', 'rreaGd', 'rreadG', 'rredGa', 'rredaG', 'rraGed', 'rraGde', 'rraeGd', 'rraedG', 'rradGe', 'rradeG', 'rrdGea', 'rrdGae', 'rrdeGa', 'rrdeaG', 'rrdaGe', 'rrdaeG', 'rdGear', 'rdGera', 'rdGaer', 'rdGare', 'rdGrea', 'rdGrae', 'rdeGar', 'rdeGra', 'rdeaGr', 'rdearG', 'rderGa', 'rderaG', 'rdaGer', 'rdaGre', 'rdaeGr', 'rdaerG', 'rdarGe', 'rdareG', 'rdrGea', 'rdrGae', 'rdreGa', 'rdreaG', 'rdraGe', 'rdraeG', 'aGerrd', 'aGerdr', 'aGerrd', 'aGerdr', 'aGedrr', 'aGedrr', 'aGrerd', 'aGredr', 'aGrred', 'aGrrde', 'aGrder', 'aGrdre', 'aGrerd', 'aGredr', 'aGrred', 'aGrrde', 'aGrder', 'aGrdre', 'aGderr', 'aGderr', 'aGdrer', 'aGdrre', 'aGdrer', 'aGdrre', 'aeGrrd', 'aeGrdr', 'aeGrrd', 'aeGrdr', 'aeGdrr', 'aeGdrr', 'aerGrd', 'aerGdr', 'aerrGd', 'aerrdG', 'aerdGr', 'aerdrG', 'aerGrd', 'aerGdr', 'aerrGd', 'aerrdG', 'aerdGr', 'aerdrG', 'aedGrr', 'aedGrr', 'aedrGr', 'aedrrG', 'aedrGr', 'aedrrG', 'arGerd', 'arGedr', 'arGred', 'arGrde', 'arGder', 'arGdre', 'areGrd', 'areGdr', 'arerGd', 'arerdG', 'aredGr', 'aredrG', 'arrGed', 'arrGde', 'arreGd', 'arredG', 'arrdGe', 'arrdeG', 'ardGer', 'ardGre', 'ardeGr', 'arderG', 'ardrGe', 'ardreG', 'arGerd', 'arGedr', 'arGred', 'arGrde', 'arGder', 'arGdre', 'areGrd', 'areGdr', 'arerGd', 'arerdG', 'aredGr', 'aredrG', 'arrGed', 'arrGde', 'arreGd', 'arredG', 'arrdGe', 'arrdeG', 'ardGer', 'ardGre', 'ardeGr', 'arderG', 'ardrGe', 'ardreG', 'adGerr', 'adGerr', 'adGrer', 'adGrre', 'adGrer', 'adGrre', 'adeGrr', 'adeGrr', 'aderGr', 'aderrG', 'aderGr', 'aderrG', 'adrGer', 'adrGre', 'adreGr', 'adrerG', 'adrrGe', 'adrreG', 'adrGer', 'adrGre', 'adreGr', 'adrerG', 'adrrGe', 'adrreG', 'rGerad', 'rGerda', 'rGeard', 'rGeadr', 'rGedra', 'rGedar', 'rGread', 'rGreda', 'rGraed', 'rGrade', 'rGrdea', 'rGrdae', 'rGaerd', 'rGaedr', 'rGared', 'rGarde', 'rGader', 'rGadre', 'rGdera', 'rGdear', 'rGdrea', 'rGdrae', 'rGdaer', 'rGdare', 'reGrad', 'reGrda', 'reGard', 'reGadr', 'reGdra', 'reGdar', 'rerGad', 'rerGda', 'reraGd', 'reradG', 'rerdGa', 'rerdaG', 'reaGrd', 'reaGdr', 'rearGd', 'reardG', 'readGr', 'readrG', 'redGra', 'redGar', 'redrGa', 'redraG', 'redaGr', 'redarG', 'rrGead', 'rrGeda', 'rrGaed', 'rrGade', 'rrGdea', 'rrGdae', 'rreGad', 'rreGda', 'rreaGd', 'rreadG', 'rredGa', 'rredaG', 'rraGed', 'rraGde', 'rraeGd', 'rraedG', 'rradGe', 'rradeG', 'rrdGea', 'rrdGae', 'rrdeGa', 'rrdeaG', 'rrdaGe', 'rrdaeG', 'raGerd', 'raGedr', 'raGred', 'raGrde', 'raGder', 'raGdre', 'raeGrd', 'raeGdr', 'raerGd', 'raerdG', 'raedGr', 'raedrG', 'rarGed', 'rarGde', 'rareGd', 'raredG', 'rardGe', 'rardeG', 'radGer', 'radGre', 'radeGr', 'raderG', 'radrGe', 'radreG', 'rdGera', 'rdGear', 'rdGrea', 'rdGrae', 'rdGaer', 'rdGare', 'rdeGra', 'rdeGar', 'rderGa', 'rderaG', 'rdeaGr', 'rdearG', 'rdrGea', 'rdrGae', 'rdreGa', 'rdreaG', 'rdraGe', 'rdraeG', 'rdaGer', 'rdaGre', 'rdaeGr', 'rdaerG', 'rdarGe', 'rdareG', 'dGerar', 'dGerra', 'dGearr', 'dGearr', 'dGerra', 'dGerar', 'dGrear', 'dGrera', 'dGraer', 'dGrare', 'dGrrea', 'dGrrae', 'dGaerr', 'dGaerr', 'dGarer', 'dGarre', 'dGarer', 'dGarre', 'dGrera', 'dGrear', 'dGrrea', 'dGrrae', 'dGraer', 'dGrare', 'deGrar', 'deGrra', 'deGarr', 'deGarr', 'deGrra', 'deGrar', 'derGar', 'derGra', 'deraGr', 'derarG', 'derrGa', 'derraG', 'deaGrr', 'deaGrr', 'dearGr', 'dearrG', 'dearGr', 'dearrG', 'derGra', 'derGar', 'derrGa', 'derraG', 'deraGr', 'derarG', 'drGear', 'drGera', 'drGaer', 'drGare', 'drGrea', 'drGrae', 'dreGar', 'dreGra', 'dreaGr', 'drearG', 'drerGa', 'dreraG', 'draGer', 'draGre', 'draeGr', 'draerG', 'drarGe', 'drareG', 'drrGea', 'drrGae', 'drreGa', 'drreaG', 'drraGe', 'drraeG', 'daGerr', 'daGerr', 'daGrer', 'daGrre', 'daGrer', 'daGrre', 'daeGrr', 'daeGrr', 'daerGr', 'daerrG', 'daerGr', 'daerrG', 'darGer', 'darGre', 'dareGr', 'darerG', 'darrGe', 'darreG', 'darGer', 'darGre', 'dareGr', 'darerG', 'darrGe', 'darreG', 'drGera', 'drGear', 'drGrea', 'drGrae', 'drGaer', 'drGare', 'dreGra', 'dreGar', 'drerGa', 'dreraG', 'dreaGr', 'drearG', 'drrGea', 'drrGae', 'drreGa', 'drreaG', 'drraGe', 'drraeG', 'draGer', 'draGre', 'draeGr', 'draerG', 'drarGe', 'drareG']\n"
     ]
    }
   ],
   "source": [
    "from itertools import permutations\n",
    "\n",
    "def string_permutations(s):\n",
    "    # Функция для генерации всех перестановок данной строки\n",
    "    perms = [''.join(p) for p in permutations(s)]\n",
    "    return perms\n",
    "\n",
    "strng = \"Gerard\"\n",
    "print(f\"Все перестановки строки \\\"{strng}\\\": {string_permutations(strng)}\")"
   ]
  },
  {
   "cell_type": "code",
   "execution_count": 143,
   "metadata": {
    "colab": {
     "base_uri": "https://localhost:8080/"
    },
    "id": "9XhhrQbZRr1j",
    "outputId": "649f1a41-eed5-4e41-c569-e1917e0a7159"
   },
   "outputs": [
    {
     "name": "stdout",
     "output_type": "stream",
     "text": [
      "1 {'a': 1}\n",
      "2 {'a': 2}\n",
      "3 {'a': 2, 'c': 1}\n",
      "3 {'c': 1, 'i': 1}\n",
      "3\n"
     ]
    }
   ],
   "source": [
    "#Задача: Для заданной строки найдите длину самой длинной подстроки в ней, содержащей не более K различных символов.\n",
    "\n",
    "def longest_substring_with_k_distinct(str1, k):\n",
    "\n",
    "  window_start = 0\n",
    "  max_length = 0\n",
    "  char_frequency = {}\n",
    "\n",
    "  # в следующем цикле мы попробуем расширить диапазон [window_start, window_end]\n",
    "  for window_end in range(len(str1)):\n",
    "    right_char = str1[window_end]\n",
    "    if right_char not in char_frequency:\n",
    "      char_frequency[right_char] = 0\n",
    "    char_frequency[right_char] += 1\n",
    "\n",
    "    # сжимаем скользящее окно до тех пор, пока не останется \"k\" различных символов в char_frequency\n",
    "    while len(char_frequency) > k:\n",
    "      left_char = str1[window_start]\n",
    "      char_frequency[left_char] -= 1\n",
    "      if char_frequency[left_char] == 0:\n",
    "        del char_frequency[left_char]\n",
    "      window_start += 1  # сжимаем скользящее окно\n",
    "    # запомнить максимальную длину до сих пор\n",
    "\n",
    "    max_length = max(max_length, window_end-window_start + 1)\n",
    "    print(max_length, char_frequency)\n",
    "  return max_length\n",
    "\n",
    "s = 'aaci'\n",
    "\n",
    "print(longest_substring_with_k_distinct(s,k=2))"
   ]
  },
  {
   "cell_type": "code",
   "execution_count": 145,
   "metadata": {
    "colab": {
     "base_uri": "https://localhost:8080/"
    },
    "id": "8oTKUWdsRsAn",
    "outputId": "0c78d604-92ae-40a5-ccd5-738e921a309c",
    "scrolled": false
   },
   "outputs": [
    {
     "name": "stdout",
     "output_type": "stream",
     "text": [
      "['Hi', 'all', 'my', 'name', 'is', 'TomI', 'am', 'originally', 'from', 'Australia']\n",
      "[2, 3, 2, 4, 2, 4, 2, 10, 4, 9]\n",
      "42 10\n"
     ]
    },
    {
     "data": {
      "text/plain": [
       "4.2"
      ]
     },
     "execution_count": 145,
     "metadata": {},
     "output_type": "execute_result"
    }
   ],
   "source": [
    "# Задача: Для заданного предложения вернуть среднюю длину слова.\n",
    "# Примечание: не забудьте сначала удалить знаки препинания.\n",
    "\n",
    "sentence1 = \"Hi all, my name is Tom...I am originally from Australia.\"\n",
    "sentence2 = \"I need to work very hard to learn more about algorithms in Python!\"\n",
    "\n",
    "def solution(sentence):\n",
    "    for p in \"!?',;.\":\n",
    "        sentence = sentence.replace(p, '')\n",
    "\n",
    "    words = sentence.split()\n",
    "    print(words)\n",
    "    print([len(word) for word in words])\n",
    "    print(sum([len(word) for word in words]),len(words))\n",
    "    return round(sum(len(word) for word in words)/len(words),2)\n",
    "\n",
    "solution(sentence1)"
   ]
  },
  {
   "cell_type": "code",
   "execution_count": 146,
   "metadata": {
    "colab": {
     "base_uri": "https://localhost:8080/"
    },
    "id": "XPlEUOZ1RsDp",
    "outputId": "74c4eb3b-a48b-4f00-8ebd-49be45eeef35"
   },
   "outputs": [
    {
     "data": {
      "text/plain": [
       "-4321"
      ]
     },
     "execution_count": 146,
     "metadata": {},
     "output_type": "execute_result"
    }
   ],
   "source": [
    "# Задача: Получив целое число, вернуть целое число с перевернутыми цифрами.\n",
    "# Примечание. Целое число может быть как положительным, так и отрицательным.\n",
    "\n",
    "\n",
    "def solution(x):\n",
    "    string = str(x)\n",
    "\n",
    "    if string[0] == '-':\n",
    "        return int('-'+string[:0:-1])\n",
    "    else:\n",
    "        return int(string[::-1])\n",
    "\n",
    "solution(-1234)"
   ]
  },
  {
   "cell_type": "code",
   "execution_count": 149,
   "metadata": {
    "colab": {
     "base_uri": "https://localhost:8080/"
    },
    "id": "MC3O99R6STtt",
    "outputId": "56b3cbbe-c825-4828-cd0b-6c550ba28e91"
   },
   "outputs": [
    {
     "name": "stdout",
     "output_type": "stream",
     "text": [
      "0\n"
     ]
    }
   ],
   "source": [
    "# Задача: По заданной строке найти в ней первый неповторяющийся символ и вернуть его индекс.\n",
    "# Если не существует, вернуть -1.\n",
    "# Примечание: все входные строки уже в нижнем регистре.\n",
    "\n",
    "\n",
    "def solution(s):\n",
    "    frequency = {}\n",
    "    for i in s:\n",
    "        if i not in frequency:\n",
    "            frequency[i] = 1\n",
    "        else:\n",
    "            frequency[i] +=1\n",
    "    for i in range(len(s)):\n",
    "        if frequency[s[i]] == 1:\n",
    "            return i\n",
    "    return -1\n",
    "\n",
    "s = 'abbcdderr'\n",
    "\n",
    "print(solution(s))"
   ]
  },
  {
   "cell_type": "markdown",
   "metadata": {
    "id": "exNVhGTmKVrP"
   },
   "source": [
    "**Сценарий**: Предположим, вы сотрудник, который входит в команду организаторов университетского мероприятия. Вы управляете системой регистрации мероприятия, и вам нужно управлять именами участников, проверять, что зарегистрированный студент из вашего университета, и отслеживать общее количество регистраций.\n",
    "\n",
    "Python действительно может эффективно решить эту проблему, создав набор определенных функций для каждой задачи.\n",
    "\n",
    "Вот простая реализация этого сценария:"
   ]
  },
  {
   "cell_type": "code",
   "execution_count": 163,
   "metadata": {
    "colab": {
     "base_uri": "https://localhost:8080/"
    },
    "id": "sVd40dn7KVOs",
    "outputId": "b3f2c11d-2b65-4498-fd68-0244ca663903"
   },
   "outputs": [
    {
     "name": "stdout",
     "output_type": "stream",
     "text": [
      "Студент John Doe успешно зарегистрирован.\n",
      "Студент Jane Smith не может быть зарегистрирован, так как он не из нашего университета.\n",
      "Общее количество регистраций: 1\n"
     ]
    }
   ],
   "source": [
    "# Лист для хранения имен зарегистрированных участников\n",
    "registrations = []\n",
    "\n",
    "def register_student(name, university):\n",
    "    \"\"\"\n",
    "    Функция для регистрации студента.\n",
    "    Она проверяет, принадлежит ли студент вашему университету, прежде чем зарегистрировать его.\n",
    "    \"\"\"\n",
    "    if verify_university(university):\n",
    "        registrations.append(name)\n",
    "        print(f\"Студент {name} успешно зарегистрирован.\")\n",
    "    else:\n",
    "        print(f\"Студент {name} не может быть зарегистрирован, так как он не из нашего университета.\")\n",
    "\n",
    "def verify_university(university):\n",
    "    \"\"\"\n",
    "    Функция для проверки, принадлежит ли студент вашему университету.\n",
    "    Здесь 'Innopol' - это название вашего университета.\n",
    "    \"\"\"\n",
    "    return university.lower() == 'innopol' #True False\n",
    "\n",
    "def total_registrations():\n",
    "    \"\"\"Функция для подсчета общего числа регистраций.\"\"\"\n",
    "    return len(registrations)\n",
    "\n",
    "# Пример использования этих функций:\n",
    "\n",
    "register_student('John Doe', 'Innopol')\n",
    "register_student('Jane Smith', 'Another University')\n",
    "\n",
    "print(f\"Общее количество регистраций: {total_registrations()}\")"
   ]
  },
  {
   "cell_type": "markdown",
   "metadata": {
    "id": "L3f8yjzEKqR6"
   },
   "source": [
    "**Расширенный сценарий**. Теперь представьте, что на вашем мероприятии присутствуют разные типы участников: студенты, сотрудники и гости. Всем им необходимо зарегистрироваться для участия в мероприятии, но требования к регистрации различаются для каждого типа участников. Кроме того, каждый тип участников имеет ограничение на количество регистраций.\n",
    "\n",
    "В этом случае вам нужно будет расширить свой предыдущий код, чтобы он соответствовал этим дополнительным требованиям.\n",
    "\n",
    "Вот как это сделать:"
   ]
  },
  {
   "cell_type": "code",
   "execution_count": 54,
   "metadata": {
    "colab": {
     "base_uri": "https://localhost:8080/"
    },
    "id": "XwJ4aqx6KVR0",
    "outputId": "9515afc5-bd96-4359-d54f-f7f6b863a6a5"
   },
   "outputs": [
    {
     "name": "stdout",
     "output_type": "stream",
     "text": [
      "Студент John Doe успешно зарегистрирован.\n",
      "Студент Jane Smith не может быть зарегистрирован, так как он не из нашего университета.\n",
      "Сотрудник Mary Johnson успешно зарегистрирован.\n",
      "Гость James Brown успешно зарегистрирован.\n",
      "Общее количество регистраций: [1, 1, 1]\n",
      "Количество зарегистрированных студентов: 1\n",
      "Количество зарегистрированных сотрудников: 1\n",
      "Количество зарегистрированных гостей: 1\n"
     ]
    }
   ],
   "source": [
    "# Словарь для хранения зарегистрированных участников каждого типа\n",
    "registrations = {\"students\": [], \"staff\": [], \"guests\": []}\n",
    "\n",
    "# Максимальное количество регистраций для каждого типа участника\n",
    "max_registrations = {\"students\": 200, \"staff\": 50, \"guests\": 100}\n",
    "\n",
    "def register_participant(name, participant_type, university=None):\n",
    "    \"\"\"\n",
    "    Функция для регистрации участника.\n",
    "    Она проверяет тип участника и применяет соответствующие правила регистрации.\n",
    "    \"\"\"\n",
    "    if len(registrations[participant_type]) < max_registrations[participant_type]:\n",
    "        if participant_type == \"students\":\n",
    "            register_student(name, university)\n",
    "        elif participant_type == \"staff\":\n",
    "            register_staff(name)\n",
    "        else:\n",
    "            register_guest(name)\n",
    "    else:\n",
    "        print(f\"Регистрация для {participant_type} закрыта.\")\n",
    "\n",
    "def register_student(name, university):\n",
    "    \"\"\"Функция для регистрации студента. Проверяет, принадлежит ли студент нашему университету.\"\"\"\n",
    "    if verify_university(university):\n",
    "        registrations[\"students\"].append(name)\n",
    "        print(f\"Студент {name} успешно зарегистрирован.\")\n",
    "    else:\n",
    "        print(f\"Студент {name} не может быть зарегистрирован, так как он не из нашего университета.\")\n",
    "\n",
    "def register_staff(name):\n",
    "    \"\"\"Функция для регистрации сотрудника.\"\"\"\n",
    "    registrations[\"staff\"].append(name)\n",
    "    print(f\"Сотрудник {name} успешно зарегистрирован.\")\n",
    "\n",
    "def register_guest(name):\n",
    "    \"\"\"Функция для регистрации гостя.\"\"\"\n",
    "    registrations[\"guests\"].append(name)\n",
    "    print(f\"Гость {name} успешно зарегистрирован.\")\n",
    "\n",
    "def verify_university(university):\n",
    "    \"\"\"Функция для проверки, принадлежит ли студент нашему университету.\"\"\"\n",
    "    return university.lower() == 'my university'\n",
    "\n",
    "def total_registrations():\n",
    "    \"\"\"Функция для подсчета общего числа регистраций.\"\"\"\n",
    "    total = [len(v) for v in registrations.values() if v is not None]\n",
    "    return total\n",
    "\n",
    "# Пример использования этих функций:\n",
    "\n",
    "register_participant('John Doe', 'students', 'My University')\n",
    "register_participant('Jane Smith', 'students', 'Another University')\n",
    "register_participant('Mary Johnson', 'staff')\n",
    "register_participant('James Brown', 'guests')\n",
    "\n",
    "\n",
    "print(f\"Общее количество регистраций: {total_registrations()}\")\n",
    "print(f\"Количество зарегистрированных студентов: {len(registrations['students'])}\")\n",
    "print(f\"Количество зарегистрированных сотрудников: {len(registrations['staff'])}\")\n",
    "print(f\"Количество зарегистрированных гостей: {len(registrations['guests'])}\")"
   ]
  },
  {
   "cell_type": "code",
   "execution_count": 166,
   "metadata": {
    "colab": {
     "base_uri": "https://localhost:8080/"
    },
    "id": "ee0bJxIKPQvK",
    "outputId": "59ceb6a6-b109-4c3d-ab58-87b6b1413c3a"
   },
   "outputs": [
    {
     "name": "stdout",
     "output_type": "stream",
     "text": [
      "Opened database successfully\n",
      "Table created successfully\n"
     ]
    }
   ],
   "source": [
    "#создаем базу данных и таблицу\n",
    "import sqlite3\n",
    "\n",
    "conn = sqlite3.connect('test.db')\n",
    "print(\"Opened database successfully\");\n",
    "\n",
    "conn.execute('''\n",
    "CREATE TABLE IF NOT EXISTS team_data(\n",
    "                      team text, \n",
    "                      country text, \n",
    "                      season integer, \n",
    "                      total_goals integer);''')\n",
    "\n",
    "conn.commit()\n",
    "\n",
    "print(\"Table created successfully\");\n",
    "\n",
    "#conn.close()"
   ]
  },
  {
   "cell_type": "code",
   "execution_count": 167,
   "metadata": {
    "colab": {
     "base_uri": "https://localhost:8080/",
     "height": 92
    },
    "id": "a5-4ih-ea37Z",
    "outputId": "6a830fae-3547-4c79-a112-e02844d3ff61"
   },
   "outputs": [],
   "source": [
    "conn = sqlite3.connect('test.db')\n",
    "\n",
    "conn.execute('''\n",
    "CREATE TABLE IF NOT EXISTS team_players(\n",
    "                      team text, \n",
    "                      country text, \n",
    "                      player text, \n",
    "                      goals integer);''')\n",
    "\n",
    "conn.commit()"
   ]
  },
  {
   "cell_type": "code",
   "execution_count": 168,
   "metadata": {
    "colab": {
     "base_uri": "https://localhost:8080/",
     "height": 92
    },
    "id": "0FmFgfaTbZO6",
    "outputId": "73fe1d71-822d-4456-cb75-9acb93f345cf"
   },
   "outputs": [],
   "source": [
    "# Добавляем значения\n",
    "\n",
    "conn.execute(\"INSERT INTO team_data VALUES('Real Madrid', 'Spain', 2019, 53);\")\n",
    "conn.execute(\"INSERT INTO team_data VALUES('Barcelona', 'Spain', 2019, 47);\")\n",
    "conn.execute(\"INSERT INTO team_data VALUES('Arsenal', 'UK', 2019, 52);\")\n",
    "conn.execute(\"INSERT INTO team_data VALUES('Real Madrid', 'Spain', 2018, 49);\")\n",
    "conn.execute(\"INSERT INTO team_data VALUES('Barcelona', 'Spain', 2018, 45);\")\n",
    "conn.execute(\"INSERT INTO team_data VALUES('Arsenal', 'UK', 2018, 50 );\")\n",
    "\n",
    "\n",
    "conn.execute(\"INSERT INTO team_players VALUES('Real Madrid', 'Spain', 'Huan', 10);\")\n",
    "conn.execute(\"INSERT INTO team_players VALUES('Barcelona', 'Spain', 'Honsales', 10);\")\n",
    "conn.execute(\"INSERT INTO team_players VALUES('Arsenal', 'UK', 'Bernd Leno', 5);\")\n",
    "conn.execute(\"INSERT INTO team_players VALUES('Real Madrid', 'Eder Militan', 2018, 4);\")\n",
    "conn.execute(\"INSERT INTO team_players VALUES('Barcelona', 'Spain', 'Nelsen Semedu', 4);\")\n",
    "conn.execute(\"INSERT INTO team_players VALUES('Arsenal', 'UK', 'Rob Holding', 5 );\")\n",
    "\n",
    "conn.commit()"
   ]
  },
  {
   "cell_type": "code",
   "execution_count": 170,
   "metadata": {
    "colab": {
     "base_uri": "https://localhost:8080/"
    },
    "id": "SbRfVF-IPa7y",
    "outputId": "830048e5-58a0-4759-a90c-59ac3ccba4de"
   },
   "outputs": [
    {
     "data": {
      "text/plain": [
       "[('Real Madrid', 'Spain', 'Huan', 10),\n",
       " ('Barcelona', 'Spain', 'Honsales', 10),\n",
       " ('Arsenal', 'UK', 'Bernd Leno', 5),\n",
       " ('Real Madrid', 'Eder Militan', '2018', 4),\n",
       " ('Barcelona', 'Spain', 'Nelsen Semedu', 4),\n",
       " ('Arsenal', 'UK', 'Rob Holding', 5),\n",
       " ('Real Madrid', 'Spain', 'Huan', 10),\n",
       " ('Barcelona', 'Spain', 'Honsales', 10),\n",
       " ('Arsenal', 'UK', 'Bernd Leno', 5),\n",
       " ('Real Madrid', 'Eder Militan', '2018', 4),\n",
       " ('Barcelona', 'Spain', 'Nelsen Semedu', 4),\n",
       " ('Arsenal', 'UK', 'Rob Holding', 5)]"
      ]
     },
     "execution_count": 170,
     "metadata": {},
     "output_type": "execute_result"
    }
   ],
   "source": [
    "#Представления\n",
    "\n",
    "cur = conn.execute(\"SELECT * FROM team_players;\")\n",
    "\n",
    "cur.fetchall()\n"
   ]
  },
  {
   "cell_type": "code",
   "execution_count": 59,
   "metadata": {
    "colab": {
     "base_uri": "https://localhost:8080/",
     "height": 93
    },
    "id": "raslfjbEPa6h",
    "outputId": "c7bb8ec7-cc08-4b67-cf56-32b90b7bd69a"
   },
   "outputs": [
    {
     "data": {
      "text/plain": [
       "[(53, 'Real Madrid'),\n",
       " (47, 'Barcelona'),\n",
       " (52, 'Arsenal'),\n",
       " (49, 'Real Madrid'),\n",
       " (45, 'Barcelona')]"
      ]
     },
     "execution_count": 59,
     "metadata": {},
     "output_type": "execute_result"
    }
   ],
   "source": [
    "#Выборки\n",
    "\n",
    "cur = conn.execute(\"SELECT total_goals, team FROM team_data WHERE country != 'UK' OR total_goals> 50 ;\")\n",
    "\n",
    "cur.fetchall()"
   ]
  },
  {
   "cell_type": "code",
   "execution_count": 171,
   "metadata": {
    "id": "JPaERJYrdmL_"
   },
   "outputs": [
    {
     "name": "stdout",
     "output_type": "stream",
     "text": [
      "('Arsenal', 'UK', 51.0)\n",
      "('Barcelona', 'Spain', 46.0)\n",
      "('Real Madrid', 'Spain', 51.0)\n"
     ]
    }
   ],
   "source": [
    "# Вычисляем среднее\n",
    "\n",
    "conn = sqlite3.connect('test.db')\n",
    "\n",
    "cursor = conn.execute(''' SELECT team,country,\n",
    "                            AVG(total_goals) AS avg_goals\n",
    "                          FROM team_data\n",
    "                          GROUP BY team;''')\n",
    "\n",
    "for row in cursor:\n",
    "  print(row)\n",
    "conn.close()"
   ]
  },
  {
   "cell_type": "code",
   "execution_count": 61,
   "metadata": {},
   "outputs": [
    {
     "name": "stdout",
     "output_type": "stream",
     "text": [
      "('Arsenal', 51.0)\n",
      "('Real Madrid', 51.0)\n"
     ]
    }
   ],
   "source": [
    "# Неправильный запрос\n",
    "\n",
    "conn = sqlite3.connect('test.db')\n",
    "\n",
    "cursor = conn.execute(''' SELECT team AS team_name ,\n",
    "                            AVG(total_goals) AS avg_goals\n",
    "                          FROM team_data                          \n",
    "                          GROUP BY team\n",
    "                          HAVING avg_goals > 50;''')\n",
    "\n",
    "for row in cursor:\n",
    "  print(row)\n",
    "conn.close()"
   ]
  },
  {
   "cell_type": "code",
   "execution_count": 62,
   "metadata": {},
   "outputs": [
    {
     "name": "stdout",
     "output_type": "stream",
     "text": [
      "('Arsenal', 51.0)\n",
      "('Real Madrid', 51.0)\n"
     ]
    }
   ],
   "source": [
    "# Правильный запрос\n",
    "\n",
    "conn = sqlite3.connect('test.db')\n",
    "\n",
    "cursor = conn.execute(''' SELECT team_name, avg_goals\n",
    "                          FROM (\n",
    "\n",
    "                          -- Here we make our sub-query:\n",
    "                            SELECT team AS team_name,\n",
    "                            AVG(total_goals) AS avg_goals\n",
    "                            FROM team_data\n",
    "                            GROUP BY team) tp\n",
    "                          -- End of the sub-query\n",
    "                          \n",
    "                          WHERE avg_goals > 50;''')\n",
    "\n",
    "for row in cursor:\n",
    "  print(row)\n",
    "conn.close()"
   ]
  },
  {
   "cell_type": "code",
   "execution_count": 172,
   "metadata": {
    "scrolled": false
   },
   "outputs": [
    {
     "data": {
      "text/plain": [
       "[('Real Madrid', 'Spain', '2018', 53, 4),\n",
       " ('Real Madrid', 'Spain', '2018', 53, 4),\n",
       " ('Real Madrid', 'Spain', 'Huan', 53, 10),\n",
       " ('Real Madrid', 'Spain', 'Huan', 53, 10),\n",
       " ('Barcelona', 'Spain', 'Honsales', 47, 10),\n",
       " ('Barcelona', 'Spain', 'Honsales', 47, 10),\n",
       " ('Barcelona', 'Spain', 'Nelsen Semedu', 47, 4),\n",
       " ('Barcelona', 'Spain', 'Nelsen Semedu', 47, 4),\n",
       " ('Arsenal', 'UK', 'Bernd Leno', 52, 5),\n",
       " ('Arsenal', 'UK', 'Bernd Leno', 52, 5),\n",
       " ('Arsenal', 'UK', 'Rob Holding', 52, 5),\n",
       " ('Arsenal', 'UK', 'Rob Holding', 52, 5),\n",
       " ('Real Madrid', 'Spain', '2018', 49, 4),\n",
       " ('Real Madrid', 'Spain', '2018', 49, 4),\n",
       " ('Real Madrid', 'Spain', 'Huan', 49, 10),\n",
       " ('Real Madrid', 'Spain', 'Huan', 49, 10),\n",
       " ('Barcelona', 'Spain', 'Honsales', 45, 10),\n",
       " ('Barcelona', 'Spain', 'Honsales', 45, 10),\n",
       " ('Barcelona', 'Spain', 'Nelsen Semedu', 45, 4),\n",
       " ('Barcelona', 'Spain', 'Nelsen Semedu', 45, 4),\n",
       " ('Arsenal', 'UK', 'Bernd Leno', 50, 5),\n",
       " ('Arsenal', 'UK', 'Bernd Leno', 50, 5),\n",
       " ('Arsenal', 'UK', 'Rob Holding', 50, 5),\n",
       " ('Arsenal', 'UK', 'Rob Holding', 50, 5),\n",
       " ('Real Madrid', 'Spain', '2018', 53, 4),\n",
       " ('Real Madrid', 'Spain', '2018', 53, 4),\n",
       " ('Real Madrid', 'Spain', 'Huan', 53, 10),\n",
       " ('Real Madrid', 'Spain', 'Huan', 53, 10),\n",
       " ('Barcelona', 'Spain', 'Honsales', 47, 10),\n",
       " ('Barcelona', 'Spain', 'Honsales', 47, 10),\n",
       " ('Barcelona', 'Spain', 'Nelsen Semedu', 47, 4),\n",
       " ('Barcelona', 'Spain', 'Nelsen Semedu', 47, 4),\n",
       " ('Arsenal', 'UK', 'Bernd Leno', 52, 5),\n",
       " ('Arsenal', 'UK', 'Bernd Leno', 52, 5),\n",
       " ('Arsenal', 'UK', 'Rob Holding', 52, 5),\n",
       " ('Arsenal', 'UK', 'Rob Holding', 52, 5),\n",
       " ('Real Madrid', 'Spain', '2018', 49, 4),\n",
       " ('Real Madrid', 'Spain', '2018', 49, 4),\n",
       " ('Real Madrid', 'Spain', 'Huan', 49, 10),\n",
       " ('Real Madrid', 'Spain', 'Huan', 49, 10),\n",
       " ('Barcelona', 'Spain', 'Honsales', 45, 10),\n",
       " ('Barcelona', 'Spain', 'Honsales', 45, 10),\n",
       " ('Barcelona', 'Spain', 'Nelsen Semedu', 45, 4),\n",
       " ('Barcelona', 'Spain', 'Nelsen Semedu', 45, 4),\n",
       " ('Arsenal', 'UK', 'Bernd Leno', 50, 5),\n",
       " ('Arsenal', 'UK', 'Bernd Leno', 50, 5),\n",
       " ('Arsenal', 'UK', 'Rob Holding', 50, 5),\n",
       " ('Arsenal', 'UK', 'Rob Holding', 50, 5)]"
      ]
     },
     "execution_count": 172,
     "metadata": {},
     "output_type": "execute_result"
    }
   ],
   "source": [
    "#Joins\n",
    "\n",
    "conn = sqlite3.connect('test.db')\n",
    "\n",
    "cursor = conn.execute(''' SELECT team_data.team,team_data.country,player,total_goals, goals\n",
    "                          \n",
    "                          FROM team_data\n",
    "                          INNER JOIN team_players on team_data.team = team_players.team;''')\n",
    "\n",
    "cursor.fetchall()"
   ]
  },
  {
   "cell_type": "code",
   "execution_count": 173,
   "metadata": {},
   "outputs": [],
   "source": [
    "# Закрытие соединения\n",
    "conn.close()"
   ]
  },
  {
   "cell_type": "markdown",
   "metadata": {
    "id": "g8HxWLhZj3Xg"
   },
   "source": [
    "## Чтение данных из таблицы с помощью Pandas"
   ]
  },
  {
   "cell_type": "code",
   "execution_count": 174,
   "metadata": {
    "colab": {
     "base_uri": "https://localhost:8080/",
     "height": 442
    },
    "id": "aY1LSUFgj1h6",
    "outputId": "7d64c05d-f5b7-4fa4-e149-79066afba074"
   },
   "outputs": [
    {
     "name": "stdout",
     "output_type": "stream",
     "text": [
      "          team country    player  goals\n",
      "0  Real Madrid   Spain      Huan     10\n",
      "1    Barcelona   Spain  Honsales     10\n",
      "2  Real Madrid   Spain      Huan     10\n",
      "3    Barcelona   Spain  Honsales     10\n"
     ]
    }
   ],
   "source": [
    "import pandas as pd\n",
    "import sqlite3\n",
    "\n",
    "# Подключение к базе данных\n",
    "con = sqlite3.connect(\"test.db\")\n",
    "\n",
    "# Чтение данных из таблицы с помощью Pandas\n",
    "df = pd.read_sql_query(\"SELECT * from team_players WHERE goals > 5\", con)\n",
    "\n",
    "# Вывод данных\n",
    "print(df)\n",
    "\n",
    "# Закрытие соединения\n",
    "\n",
    "\n",
    "con.close()"
   ]
  },
  {
   "cell_type": "code",
   "execution_count": 175,
   "metadata": {
    "colab": {
     "base_uri": "https://localhost:8080/",
     "height": 112
    },
    "id": "UY4ENrqfj1zM",
    "outputId": "cb615ac3-4694-4fb5-809d-9fec1c30319d",
    "scrolled": true
   },
   "outputs": [
    {
     "data": {
      "text/html": [
       "<div>\n",
       "<style scoped>\n",
       "    .dataframe tbody tr th:only-of-type {\n",
       "        vertical-align: middle;\n",
       "    }\n",
       "\n",
       "    .dataframe tbody tr th {\n",
       "        vertical-align: top;\n",
       "    }\n",
       "\n",
       "    .dataframe thead th {\n",
       "        text-align: right;\n",
       "    }\n",
       "</style>\n",
       "<table border=\"1\" class=\"dataframe\">\n",
       "  <thead>\n",
       "    <tr style=\"text-align: right;\">\n",
       "      <th></th>\n",
       "      <th>team</th>\n",
       "      <th>country</th>\n",
       "      <th>player</th>\n",
       "      <th>goals</th>\n",
       "    </tr>\n",
       "  </thead>\n",
       "  <tbody>\n",
       "    <tr>\n",
       "      <th>0</th>\n",
       "      <td>Real Madrid</td>\n",
       "      <td>Spain</td>\n",
       "      <td>Huan</td>\n",
       "      <td>10</td>\n",
       "    </tr>\n",
       "    <tr>\n",
       "      <th>1</th>\n",
       "      <td>Barcelona</td>\n",
       "      <td>Spain</td>\n",
       "      <td>Honsales</td>\n",
       "      <td>10</td>\n",
       "    </tr>\n",
       "    <tr>\n",
       "      <th>2</th>\n",
       "      <td>Real Madrid</td>\n",
       "      <td>Spain</td>\n",
       "      <td>Huan</td>\n",
       "      <td>10</td>\n",
       "    </tr>\n",
       "    <tr>\n",
       "      <th>3</th>\n",
       "      <td>Barcelona</td>\n",
       "      <td>Spain</td>\n",
       "      <td>Honsales</td>\n",
       "      <td>10</td>\n",
       "    </tr>\n",
       "  </tbody>\n",
       "</table>\n",
       "</div>"
      ],
      "text/plain": [
       "          team country    player  goals\n",
       "0  Real Madrid   Spain      Huan     10\n",
       "1    Barcelona   Spain  Honsales     10\n",
       "2  Real Madrid   Spain      Huan     10\n",
       "3    Barcelona   Spain  Honsales     10"
      ]
     },
     "execution_count": 175,
     "metadata": {},
     "output_type": "execute_result"
    }
   ],
   "source": [
    "df.head()"
   ]
  }
 ],
 "metadata": {
  "colab": {
   "provenance": []
  },
  "kernelspec": {
   "display_name": "Python 3 (ipykernel)",
   "language": "python",
   "name": "python3"
  },
  "language_info": {
   "codemirror_mode": {
    "name": "ipython",
    "version": 3
   },
   "file_extension": ".py",
   "mimetype": "text/x-python",
   "name": "python",
   "nbconvert_exporter": "python",
   "pygments_lexer": "ipython3",
   "version": "3.9.12"
  },
  "widgets": {
   "application/vnd.jupyter.widget-state+json": {
    "2f8c784c0f6d4b878e126e516c2b0023": {
     "model_module": "@jupyter-widgets/base",
     "model_module_version": "1.2.0",
     "model_name": "LayoutModel",
     "state": {
      "_model_module": "@jupyter-widgets/base",
      "_model_module_version": "1.2.0",
      "_model_name": "LayoutModel",
      "_view_count": null,
      "_view_module": "@jupyter-widgets/base",
      "_view_module_version": "1.2.0",
      "_view_name": "LayoutView",
      "align_content": null,
      "align_items": null,
      "align_self": null,
      "border": null,
      "bottom": null,
      "display": null,
      "flex": null,
      "flex_flow": null,
      "grid_area": null,
      "grid_auto_columns": null,
      "grid_auto_flow": null,
      "grid_auto_rows": null,
      "grid_column": null,
      "grid_gap": null,
      "grid_row": null,
      "grid_template_areas": null,
      "grid_template_columns": null,
      "grid_template_rows": null,
      "height": null,
      "justify_content": null,
      "justify_items": null,
      "left": null,
      "margin": null,
      "max_height": null,
      "max_width": null,
      "min_height": null,
      "min_width": null,
      "object_fit": null,
      "object_position": null,
      "order": null,
      "overflow": null,
      "overflow_x": null,
      "overflow_y": null,
      "padding": null,
      "right": null,
      "top": null,
      "visibility": null,
      "width": null
     }
    },
    "733a42b8e9a442f9b825db6ec01cc11c": {
     "model_module": "@jupyter-widgets/controls",
     "model_module_version": "1.5.0",
     "model_name": "ButtonStyleModel",
     "state": {
      "_model_module": "@jupyter-widgets/controls",
      "_model_module_version": "1.5.0",
      "_model_name": "ButtonStyleModel",
      "_view_count": null,
      "_view_module": "@jupyter-widgets/base",
      "_view_module_version": "1.2.0",
      "_view_name": "StyleView",
      "button_color": null,
      "font_weight": ""
     }
    },
    "90a88a1d42034a47a991fea3d904581e": {
     "model_module": "@jupyter-widgets/controls",
     "model_module_version": "1.5.0",
     "model_name": "ButtonModel",
     "state": {
      "_dom_classes": [],
      "_model_module": "@jupyter-widgets/controls",
      "_model_module_version": "1.5.0",
      "_model_name": "ButtonModel",
      "_view_count": null,
      "_view_module": "@jupyter-widgets/controls",
      "_view_module_version": "1.5.0",
      "_view_name": "ButtonView",
      "button_style": "",
      "description": "Click Me!",
      "disabled": false,
      "icon": "",
      "layout": "IPY_MODEL_d5e22d81df7d420c8eaa91d782689899",
      "style": "IPY_MODEL_733a42b8e9a442f9b825db6ec01cc11c",
      "tooltip": ""
     }
    },
    "d5e22d81df7d420c8eaa91d782689899": {
     "model_module": "@jupyter-widgets/base",
     "model_module_version": "1.2.0",
     "model_name": "LayoutModel",
     "state": {
      "_model_module": "@jupyter-widgets/base",
      "_model_module_version": "1.2.0",
      "_model_name": "LayoutModel",
      "_view_count": null,
      "_view_module": "@jupyter-widgets/base",
      "_view_module_version": "1.2.0",
      "_view_name": "LayoutView",
      "align_content": null,
      "align_items": null,
      "align_self": null,
      "border": null,
      "bottom": null,
      "display": null,
      "flex": null,
      "flex_flow": null,
      "grid_area": null,
      "grid_auto_columns": null,
      "grid_auto_flow": null,
      "grid_auto_rows": null,
      "grid_column": null,
      "grid_gap": null,
      "grid_row": null,
      "grid_template_areas": null,
      "grid_template_columns": null,
      "grid_template_rows": null,
      "height": null,
      "justify_content": null,
      "justify_items": null,
      "left": null,
      "margin": null,
      "max_height": null,
      "max_width": null,
      "min_height": null,
      "min_width": null,
      "object_fit": null,
      "object_position": null,
      "order": null,
      "overflow": null,
      "overflow_x": null,
      "overflow_y": null,
      "padding": null,
      "right": null,
      "top": null,
      "visibility": null,
      "width": null
     }
    },
    "df5624cb60d149028c78fefa03953002": {
     "model_module": "@jupyter-widgets/output",
     "model_module_version": "1.0.0",
     "model_name": "OutputModel",
     "state": {
      "_dom_classes": [],
      "_model_module": "@jupyter-widgets/output",
      "_model_module_version": "1.0.0",
      "_model_name": "OutputModel",
      "_view_count": null,
      "_view_module": "@jupyter-widgets/output",
      "_view_module_version": "1.0.0",
      "_view_name": "OutputView",
      "layout": "IPY_MODEL_2f8c784c0f6d4b878e126e516c2b0023",
      "msg_id": "",
      "outputs": [
       {
        "name": "stdout",
        "output_type": "stream",
        "text": [
         "Button clicked!\n"
        ]
       }
      ]
     }
    }
   }
  }
 },
 "nbformat": 4,
 "nbformat_minor": 1
}
